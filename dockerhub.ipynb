{
 "cells": [
  {
   "cell_type": "markdown",
   "metadata": {},
   "source": [
    "# Module 0: Introduction\n",
    "\n",
    "## Exercise 1: Setting Up Your Environment\n",
    "\n",
    "In this exercise, you familiarize yourself with your equipment and verify that licenses are installed\n",
    "\n",
    "**Objectives**\n",
    "\n",
    "This exercise focuses on enabling you to do the following:\n",
    "- Explore the Kubernetes cluster configuration\n",
    "- Set up administrator access on the jumphost\n",
    "- Configure the integrated development environment (IDE)\n",
    "- Work with YAML files in the IDE"
   ]
  },
  {
   "cell_type": "markdown",
   "metadata": {},
   "source": [
    "## Exercise Equipment\n",
    "\n",
    "In this exercise, you use the following systems.\n",
    "\n",
    "| System                  | Host Name   | IP Addresses   | User Name (case sensitive) | Password  |\n",
    "|-------------------------|-------------|----------------|----------------------------|-----------|\n",
    "| Linux Mint 20           | jumphost    | 192.168.0.5    | user                       | Netapp1!  |\n",
    "| Kubernetes Control Plane| kubmas1-1   | 192.168.0.61   | root                       | Netapp1!  |\n",
    "| Kubernetes Worker 1     | kubwor1-1   | 192.168.0.62   | root                       | Netapp1!  |\n",
    "| Kubernetes Worker 2     | kubwor1-2   | 192.168.0.63   | root                       | Netapp1!  |\n",
    "| Kubernetes Worker 3     | kubwor1-3   | 192.168.0.64   | root                       | Netapp1!  |"
   ]
  },
  {
   "cell_type": "markdown",
   "metadata": {},
   "source": [
    "#### Task 3: Configure Kubernetes Administrator access on the jump host\n",
    "\n",
    "In this task, you set up Kubernetes administrator access on the jump host.\n"
   ]
  },
  {
   "cell_type": "markdown",
   "metadata": {},
   "source": [
    "---"
   ]
  },
  {
   "cell_type": "markdown",
   "metadata": {},
   "source": [
    "Install kubectl by using the Linux Snap tool.\n"
   ]
  },
  {
   "cell_type": "markdown",
   "metadata": {},
   "source": [
    "snap install kubectl --channel=1.29/stable --classic\n"
   ]
  },
  {
   "cell_type": "markdown",
   "metadata": {},
   "source": [
    "---"
   ]
  },
  {
   "cell_type": "code",
   "execution_count": 3,
   "metadata": {
    "vscode": {
     "languageId": "shellscript"
    }
   },
   "outputs": [
    {
     "name": "stdout",
     "output_type": "stream",
     "text": [
      "\u001b[0m\u001b[?25h\u001b[Kkubectl (1.29/stable) 1.29.15 from Canonical\u001b[32m✓\u001b[0m installed  -.0ns\u001b[0m\n"
     ]
    }
   ],
   "source": [
    "snap install kubectl --channel=1.29/stable --classic\n"
   ]
  },
  {
   "cell_type": "markdown",
   "metadata": {},
   "source": [
    "When requested to authenticate the installation of the package, enter Netapp1!\n"
   ]
  },
  {
   "cell_type": "markdown",
   "metadata": {},
   "source": [
    "---"
   ]
  },
  {
   "cell_type": "markdown",
   "metadata": {},
   "source": [
    "Click Authenticate to complete the installation.\n"
   ]
  },
  {
   "cell_type": "markdown",
   "metadata": {},
   "source": [
    "---"
   ]
  },
  {
   "cell_type": "markdown",
   "metadata": {},
   "source": [
    "Verify the installation and the version.\n"
   ]
  },
  {
   "cell_type": "code",
   "execution_count": 4,
   "metadata": {
    "vscode": {
     "languageId": "shellscript"
    }
   },
   "outputs": [
    {
     "name": "stdout",
     "output_type": "stream",
     "text": [
      "{\n",
      "  \"clientVersion\": {\n",
      "    \"major\": \"1\",\n",
      "    \"minor\": \"29\",\n",
      "    \"gitVersion\": \"v1.29.15\",\n",
      "    \"gitCommit\": \"0d0f172cdf9fd42d6feee3467374b58d3e168df0\",\n",
      "    \"gitTreeState\": \"clean\",\n",
      "    \"buildDate\": \"2025-03-12T02:18:07Z\",\n",
      "    \"goVersion\": \"go1.23.7\",\n",
      "    \"compiler\": \"gc\",\n",
      "    \"platform\": \"linux/amd64\"\n",
      "  },\n",
      "  \"kustomizeVersion\": \"v5.0.4-0.20230601165947-6ce0bf390ce3\"\n",
      "}\n"
     ]
    }
   ],
   "source": [
    "kubectl version --client -o json\n"
   ]
  },
  {
   "cell_type": "markdown",
   "metadata": {},
   "source": [
    "---"
   ]
  },
  {
   "cell_type": "markdown",
   "metadata": {},
   "source": [
    "Verify the Kubernetes configuration.\n"
   ]
  },
  {
   "cell_type": "code",
   "execution_count": 5,
   "metadata": {
    "vscode": {
     "languageId": "shellscript"
    }
   },
   "outputs": [
    {
     "name": "stdout",
     "output_type": "stream",
     "text": [
      "apiVersion: v1\n",
      "clusters: null\n",
      "contexts: null\n",
      "current-context: \"\"\n",
      "kind: Config\n",
      "preferences: {}\n",
      "users: null\n"
     ]
    }
   ],
   "source": [
    "kubectl config view\n"
   ]
  },
  {
   "cell_type": "markdown",
   "metadata": {},
   "source": [
    "---"
   ]
  },
  {
   "cell_type": "markdown",
   "metadata": {},
   "source": [
    "The results are empty. \n",
    "\n",
    "You have not yet authenticated with the Kubernetes cluster on your jump host \n",
    "\n",
    "and you have no authorization to run any commands. \n",
    "\n",
    "You correct this situation now.\n"
   ]
  },
  {
   "cell_type": "markdown",
   "metadata": {},
   "source": [
    "---"
   ]
  },
  {
   "cell_type": "markdown",
   "metadata": {},
   "source": [
    "Run pwd to confirm that your working directory for the user account is /home/user.\n"
   ]
  },
  {
   "cell_type": "code",
   "execution_count": 3,
   "metadata": {
    "vscode": {
     "languageId": "shellscript"
    }
   },
   "outputs": [
    {
     "name": "stdout",
     "output_type": "stream",
     "text": [
      "/home/user/repos/STRSW-ILT-UATWK\n"
     ]
    }
   ],
   "source": [
    "pwd"
   ]
  },
  {
   "cell_type": "markdown",
   "metadata": {},
   "source": [
    "---"
   ]
  },
  {
   "cell_type": "markdown",
   "metadata": {},
   "source": [
    "Create a hidden folder called .kube under your home directory.\n"
   ]
  },
  {
   "cell_type": "code",
   "execution_count": 4,
   "metadata": {
    "vscode": {
     "languageId": "shellscript"
    }
   },
   "outputs": [],
   "source": [
    "mkdir -p ~/.kube\n"
   ]
  },
  {
   "cell_type": "markdown",
   "metadata": {},
   "source": [
    "---"
   ]
  },
  {
   "cell_type": "markdown",
   "metadata": {},
   "source": [
    "Run the file [Exercise 0/exercise0Task4.sh](./Exercise%200/exercise0Task4.sh) to copy the kubeconfig from the control plane.\n",
    "\n",
    "<details> <summary> Exercise 0/exercise0Task4.sh </summary>\n",
    "\n",
    "[Exercise 0/exercise0Task4.sh](./Exercise%200/exercise0Task4.sh)\n",
    "\n",
    "  ```bash\n",
    "  # This script has been written for this exercise environment \n",
    "# and is not intented to be used in a production enviroment\n",
    "# Execute by: ./exercise0Task4.sh\n",
    "#!/bin/bash\n",
    "DIR='/home/user/.kube' \n",
    "sshpass -p Netapp1! scp -o \"StrictHostKeyChecking=no\" root@kubmas1-1:/root/.kube/config config1 \n",
    "sshpass -p Netapp1! scp -o \"StrictHostKeyChecking=no\" root@kubmas2-1:/root/.kube/config config2\n",
    "sudo sed -i 's/\\<kubernetes\\>/source/g' config1 \n",
    "sudo sed -i 's/\\<kubernetes\\>/destination/g' config2\n",
    "konfig=$(KUBECONFIG=config1:config2 kubectl config view --flatten)\n",
    "if [ ! -d \"$DIR\" ]; then\n",
    "    mkdir -p $DIR;\n",
    "fi\n",
    "echo \"$konfig\" > $DIR/config\n",
    "rm config1\n",
    "rm config2\n",
    "#echo \"$konfig\" > config\n",
    "#$KUBECONFIG=$DIR/config\n"
   ]
  },
  {
   "cell_type": "code",
   "execution_count": 2,
   "metadata": {
    "vscode": {
     "languageId": "shellscript"
    }
   },
   "outputs": [],
   "source": [
    "./Exercise\\ 0/exercise0Task4.sh"
   ]
  },
  {
   "cell_type": "code",
   "execution_count": 3,
   "metadata": {
    "vscode": {
     "languageId": "shellscript"
    }
   },
   "outputs": [
    {
     "name": "stdout",
     "output_type": "stream",
     "text": [
      "apiVersion: v1\n",
      "clusters:\n",
      "- cluster:\n",
      "    certificate-authority-data: DATA+OMITTED\n",
      "    server: https://192.168.0.96:6443\n",
      "  name: destination\n",
      "- cluster:\n",
      "    certificate-authority-data: DATA+OMITTED\n",
      "    server: https://192.168.0.61:6443\n",
      "  name: source\n",
      "contexts:\n",
      "- context:\n",
      "    cluster: destination\n",
      "    user: destination-admin\n",
      "  name: destination-admin@destination\n",
      "- context:\n",
      "    cluster: source\n",
      "    user: source-admin\n",
      "  name: source-admin@source\n",
      "current-context: source-admin@source\n",
      "kind: Config\n",
      "preferences: {}\n",
      "users:\n",
      "- name: destination-admin\n",
      "  user:\n",
      "    client-certificate-data: DATA+OMITTED\n",
      "    client-key-data: DATA+OMITTED\n",
      "- name: source-admin\n",
      "  user:\n",
      "    client-certificate-data: DATA+OMITTED\n",
      "    client-key-data: DATA+OMITTED\n"
     ]
    }
   ],
   "source": [
    "kubectl config view"
   ]
  },
  {
   "cell_type": "markdown",
   "metadata": {},
   "source": []
  },
  {
   "cell_type": "markdown",
   "metadata": {},
   "source": [
    "In November 2020, Docker Hub instituted a new policy that limits the\n",
    "number of pulls available from an anonymous account, like the account that we use. \n",
    "\n",
    "If you\n",
    "reach this limit, you see the following error in Events:\n",
    "\n",
    "```\n",
    "docker: Error response from daemon: toomanyrequests: You have reached\n",
    "your pull rate limit. You may increase the limit by authenticating and\n",
    "upgrading:\n",
    "```   \n",
    "https://www.docker.com/increase-rate-limit\n"
   ]
  },
  {
   "cell_type": "markdown",
   "metadata": {},
   "source": [
    "Create a token variable:\n",
    "\n",
    "```bash\n",
    "TOKEN=$(curl \"https://auth.docker.io/token?service=registry.docker.io&scope=repository:ratelimitpreview/test:pull\" | jq -r .token)"
   ]
  },
  {
   "cell_type": "code",
   "execution_count": 4,
   "metadata": {
    "vscode": {
     "languageId": "shellscript"
    }
   },
   "outputs": [
    {
     "name": "stdout",
     "output_type": "stream",
     "text": [
      "  % Total    % Received % Xferd  Average Speed   Time    Time     Time  Current\n",
      "                                 Dload  Upload   Total   Spent    Left  Speed\n",
      "100  5429    0  5429    0     0  29505      0 --:--:-- --:--:-- --:--:-- 29345\n"
     ]
    }
   ],
   "source": [
    "\n",
    "TOKEN=$(curl \"https://auth.docker.io/token?service=registry.docker.io&scope=repository:ratelimitpreview/test:pull\" | jq -r .token)"
   ]
  },
  {
   "cell_type": "markdown",
   "metadata": {},
   "source": [
    "\n",
    "Use the token variable and review the HTML header output"
   ]
  },
  {
   "cell_type": "code",
   "execution_count": 5,
   "metadata": {
    "vscode": {
     "languageId": "shellscript"
    }
   },
   "outputs": [
    {
     "name": "stdout",
     "output_type": "stream",
     "text": [
      "HTTP/1.1 200 OK\n",
      "\u001b[1mcontent-length\u001b[0m: 527\n",
      "\u001b[1mcontent-type\u001b[0m: application/vnd.docker.distribution.manifest.v2+json\n",
      "\u001b[1mdocker-content-digest\u001b[0m: sha256:c2d41d2ba6d8b7b4a3ffec621578eb4d9a0909df29dfa2f6fd8a2e5fd0836aed\n",
      "\u001b[1mdocker-distribution-api-version\u001b[0m: registry/2.0\n",
      "\u001b[1metag\u001b[0m: \"sha256:c2d41d2ba6d8b7b4a3ffec621578eb4d9a0909df29dfa2f6fd8a2e5fd0836aed\"\n",
      "\u001b[1mdate\u001b[0m: Tue, 25 Mar 2025 18:46:34 GMT\n",
      "\u001b[1mstrict-transport-security\u001b[0m: max-age=31536000\n",
      "\u001b[1mratelimit-limit\u001b[0m: 100;w=21600\n",
      "\u001b[1mratelimit-remaining\u001b[0m: 26;w=21600\n",
      "\u001b[1mdocker-ratelimit-source\u001b[0m: 216.240.31.145\n",
      "\n"
     ]
    }
   ],
   "source": [
    "curl --head -H \"Authorization: Bearer $TOKEN\" https://registry-1.docker.io/v2/ratelimitpreview/test/manifests/latest"
   ]
  },
  {
   "cell_type": "markdown",
   "metadata": {},
   "source": [
    "To resolve this restriction:\n",
    "\n",
    "1. Navigate to Docker Hub (https://hub.docker.com) and register for a free account.\n",
    "\n",
    "2. Use the authentication account when you request pulls from Kubernetes (you must\n",
    "create the secret in every namespace in which you use the account):\n",
    "\n",
    "    a. Create a secret with your authentication credentials:\n",
    "\n",
    "    ```bash\n",
    "      kubectl create secret docker-registry dockerhubkey \\  \n",
    "      --docker-username=[USERNAME] \\  \n",
    "      --docker-password=[PASSWORD] \\  \n",
    "      --docker-email=[EMAIL OF THE FREE ACCOUNT]  \n",
    "    ```\n",
    "\n",
    "    b. Edit the default service account and add the **imagePullSecrets** option:\n",
    "\n",
    "    \n",
    "      ```bash    \n",
    "        kubectl -n default edit serviceaccount default  \n",
    "      ```\n",
    "      ```yaml\n",
    "      apiVersion: v1  \n",
    "      kind: ServiceAccount  \n",
    "      metadata:  \n",
    "        creationTimestamp: 2015-08-07T22:02:39Z  \n",
    "        name: default  \n",
    "        namespace: default  \n",
    "        uid: 052fb0f4-3d50-11e5-b066-42010af0d7b6  \n",
    "      secrets:  \n",
    "      - name: default-token-uudge  \n",
    "      imagePullSecrets:  \n",
    "      - name: dockerhubkey  \n",
    "      ```"
   ]
  },
  {
   "cell_type": "markdown",
   "metadata": {},
   "source": [
    "Run the following commands in a terminal.  \n",
    "You can open a terminal in VSCode using ```CTRL+` ```"
   ]
  },
  {
   "cell_type": "code",
   "execution_count": 7,
   "metadata": {
    "vscode": {
     "languageId": "shellscript"
    }
   },
   "outputs": [
    {
     "name": "stdout",
     "output_type": "stream",
     "text": [
      "secret/dockerhubkey created\n"
     ]
    }
   ],
   "source": [
    "\n",
    "kubectl create secret docker-registry dockerhubkey --docker-username=spatilsg --docker-password=Netapp.Lab.Mar2025 --docker-email=nihcas@gmail.com"
   ]
  },
  {
   "cell_type": "code",
   "execution_count": 8,
   "metadata": {
    "vscode": {
     "languageId": "shellscript"
    }
   },
   "outputs": [
    {
     "name": "stdout",
     "output_type": "stream",
     "text": [
      "serviceaccount/default patched\n"
     ]
    }
   ],
   "source": [
    "kubectl patch serviceaccount default -p '{\"imagePullSecrets\": [{\"name\": \"dockerhubkey\"}]}'"
   ]
  },
  {
   "cell_type": "raw",
   "metadata": {
    "vscode": {
     "languageId": "raw"
    }
   },
   "source": [
    "kubectl -n default edit serviceaccount default "
   ]
  },
  {
   "cell_type": "code",
   "execution_count": 9,
   "metadata": {
    "vscode": {
     "languageId": "shellscript"
    }
   },
   "outputs": [
    {
     "name": "stdout",
     "output_type": "stream",
     "text": [
      "eyJhbGciOiJSUzI1NiIsInR5cCI6IkpXVCIsIng1YyI6WyJNSUlFRmpDQ0F2NmdBd0lCQWdJVUlvQW42a0k2MUs3bTAwNVhqcXVpKzRDTzVUb3dEUVlKS29aSWh2Y05BUUVMQlFBd2dZWXhDekFKQmdOVkJBWVRBbFZUTVJNd0VRWURWUVFJRXdwRFlXeHBabTl5Ym1saE1SSXdFQVlEVlFRSEV3bFFZV3h2SUVGc2RHOHhGVEFUQmdOVkJBb1RERVJ2WTJ0bGNpd2dTVzVqTGpFVU1CSUdBMVVFQ3hNTFJXNW5hVzVsWlhKcGJtY3hJVEFmQmdOVkJBTVRHRVJ2WTJ0bGNpd2dTVzVqTGlCRmJtY2dVbTl2ZENCRFFUQWVGdzB5TkRBNU1qUXlNalUxTURCYUZ3MHlOVEE1TWpReU1qVTFNREJhTUlHRk1Rc3dDUVlEVlFRR0V3SlZVekVUTUJFR0ExVUVDQk1LUTJGc2FXWnZjbTVwWVRFU01CQUdBMVVFQnhNSlVHRnNieUJCYkhSdk1SVXdFd1lEVlFRS0V3eEViMk5yWlhJc0lFbHVZeTR4RkRBU0JnTlZCQXNUQzBWdVoybHVaV1Z5YVc1bk1TQXdIZ1lEVlFRREV4ZEViMk5yWlhJc0lFbHVZeTRnUlc1bklFcFhWQ0JEUVRDQ0FTSXdEUVlKS29aSWh2Y05BUUVCQlFBRGdnRVBBRENDQVFvQ2dnRUJBTGRWRDVxNlJudkdETUxPVysrR1MxWENwR2FRRHd0V3FIS2tLYlM5cVlJMXdCallKWEJ6U2MweTBJK0swU0lVd2pqNGJJT3ZpNXNyOGhJajdReGhrY1ppTlU1OEE5NW5BeGVFS3lMaU9QU0tZK3Y5VnZadmNNT2NwVW1xZ1BxWkhoeTVuMW8xbGxmek92dTd5SDc4a1FyT0lTMTZ3RFVVZm8yRkxPaERDaElsbCtYa2VlbFB6c0tiRWo3ZGJqdXV6RGxIODlWaE4yenNWNFV3c244UVpGVTB4V00wb3R2d0lQN3k0UDZGWDBuUFJuTVQyMlRIajVIWVJ3SUFVdm1FN0l3YlZVQ2wvM1hPaGhwbGNJZFQxREZGOUJUMHJOUC93ZTBWMklId1RHdVdTVENWb3M2b3R5ekk3a1hEdGZzeWRjU2Q5TklpSXZITHFYamJPVGtidWVjQ0F3RUFBYU43TUhrd0RnWURWUjBQQVFIL0JBUURBZ0dtTUJNR0ExVWRKUVFNTUFvR0NDc0dBUVVGQndNQk1CSUdBMVVkRXdFQi93UUlNQVlCQWY4Q0FRQXdIUVlEVlIwT0JCWUVGSmZWdXV4Vko3UXh1amlMNExZajFjQjEzbWhjTUI4R0ExVWRJd1FZTUJhQUZDNjBVUE5lQmtvZ1kyMnRYUGNCTUhGdkczQ3NNQTBHQ1NxR1NJYjNEUUVCQ3dVQUE0SUJBUUFiQkdlZHZVVzhOVWp1VXJWbDlrWmMybDRDbjhJbDFzeVBVTDNYVXdQSHprcy9iUFJ4S1loeFlIODdOb1NwdDZJT3ZPS0k3ZCthQmoyM1lldTdDWGltTWxMUWl4UGhwQ0J0dC92Vmx1UXNJbVZXZXBJWCtraENienNGemtNbUNpbHo1OXVxOURiaGg3VUw1NjQxUjdFQ2pZc0h0Y2RKeURXRWFqMXFEVFoyOUUwY1UvWmhmbmsrVFVOTExkNjYxNldCREQ3TDlSNkgzK3VkRXBRRDFlcXYzU1YwczY3R2ZVT3l0RXhzMVRja3U4aUJCdnJLbnhZa3BZMVZDbW5UMUxSaFo4K283YU94YjR4ZHByMFR6ZnBqN3BidEhWQnQwSGNUUlpIdG54MkhCN3pzWXRFZUl3eVE3bGhhMVJ4eDJNQmR0R2tBREFLUk9RRnpmMEJubm91TSJdfQ.eyJhY2Nlc3MiOlt7ImFjdGlvbnMiOlsicHVsbCJdLCJuYW1lIjoicmF0ZWxpbWl0cHJldmlldy90ZXN0IiwicGFyYW1ldGVycyI6eyJwdWxsX2xpbWl0IjoiMTAwIiwicHVsbF9saW1pdF9pbnRlcnZhbCI6IjIxNjAwIn0sInR5cGUiOiJyZXBvc2l0b3J5In1dLCJhdWQiOiJyZWdpc3RyeS5kb2NrZXIuaW8iLCJleHAiOjE3NDI5Mjg2ODUsImlhdCI6MTc0MjkyODM4NSwiaXNzIjoiYXV0aC5kb2NrZXIuaW8iLCJqdGkiOiJkY2tyX2p0aV9rT0FXdjROVHExakRJekl2Y01YM2Rra19VUms9IiwibmJmIjoxNzQyOTI4MDg1LCJzdWIiOiIifQ.bsciFNXwe4aFxwOGQN7V9qcNxpT3dIV3jYPQJGn2vv73gZbJvemxEOdtbg3Phwxihsqe4dbHEkYVniAA_p18pQ8MqnF6_Q0-ZxUSWd6WYVtoKTXdDQlsgw5kPgYel6E1CP4Tb3KVuh3mcxi6z8niaB29idLKlbeq9jjasuUUFTBD0l5qpooiFXT7u-X6A-LnzPG76vCQiAf4JnJPiv1H2JVFg9yZ7SE4zElD48Hhar8Vf9HWx67fgfz_RJwhe9loXxyYXQLj1q9EMvTN6ovKsXNX-OQSTh11J8_qNHv7kIgFeURFnlL0SYjeQ-sW565iOZPZasdKCmtl65ECgNQmRQ\n"
     ]
    }
   ],
   "source": [
    "echo $TOKEN\n"
   ]
  },
  {
   "cell_type": "markdown",
   "metadata": {},
   "source": [
    "To verify the usage of a Docker account:\n",
    "\n",
    "1. Install jQuery (if it is not already installed): sudo apt install -y jq  \n",
    "2. Create a token variable, replacing username and password with your account details:  \n",
    "\n",
    "```bash\n",
    "MYTOKEN=$(curl --user 'username:password' \"https://auth.docker.io/token?service=registry.docker.io&scope=repository:ratelimitpreview/test:pull\" | jq -r .token)\n",
    "\n",
    "```\n",
    "\n",
    "3. Use the token variable and review the HTML header output:\n",
    "\n",
    "```bash\n",
    "curl --head -H \"Authorization: Bearer $MYTOKEN\" https://registry-1.docker.io/v2/ratelimitpreview/test/manifests/latest\n",
    "\n",
    "```\n",
    "\n",
    "4. Example output:  \n",
    "\n",
    "    ```plain-text\n",
    "    ratelimit-limit: 200  \n",
    "    ratelimit-remaining: 176  \n",
    "    ```"
   ]
  },
  {
   "cell_type": "markdown",
   "metadata": {},
   "source": [
    "replace `username` and `password` in the code cell below to test if you are using your Docker Hub account"
   ]
  },
  {
   "cell_type": "code",
   "execution_count": 10,
   "metadata": {
    "vscode": {
     "languageId": "shellscript"
    }
   },
   "outputs": [
    {
     "name": "stdout",
     "output_type": "stream",
     "text": [
      "  % Total    % Received % Xferd  Average Speed   Time    Time     Time  Current\n",
      "                                 Dload  Upload   Total   Spent    Left  Speed\n",
      "100  5705    0  5705    0     0  53820      0 --:--:-- --:--:-- --:--:-- 53820\n",
      "HTTP/1.1 200 OK\n",
      "\u001b[1mcontent-length\u001b[0m: 527\n",
      "\u001b[1mcontent-type\u001b[0m: application/vnd.docker.distribution.manifest.v2+json\n",
      "\u001b[1mdocker-content-digest\u001b[0m: sha256:c2d41d2ba6d8b7b4a3ffec621578eb4d9a0909df29dfa2f6fd8a2e5fd0836aed\n",
      "\u001b[1mdocker-distribution-api-version\u001b[0m: registry/2.0\n",
      "\u001b[1metag\u001b[0m: \"sha256:c2d41d2ba6d8b7b4a3ffec621578eb4d9a0909df29dfa2f6fd8a2e5fd0836aed\"\n",
      "\u001b[1mdate\u001b[0m: Tue, 25 Mar 2025 18:55:58 GMT\n",
      "\u001b[1mstrict-transport-security\u001b[0m: max-age=31536000\n",
      "\u001b[1mratelimit-limit\u001b[0m: 200;w=21600\n",
      "\u001b[1mratelimit-remaining\u001b[0m: 200;w=21600\n",
      "\u001b[1mdocker-ratelimit-source\u001b[0m: b51dc179-fffd-4da5-8a20-f2521cc7b2e2\n",
      "\n"
     ]
    }
   ],
   "source": [
    "MYTOKEN=$(curl --user 'spatilsg:Netapp.Lab.Mar2025' \"https://auth.docker.io/token?service=registry.docker.io&scope=repository:ratelimitpreview/test:pull\" | jq -r .token)\n",
    "\n",
    "curl --head -H \"Authorization: Bearer $MYTOKEN\" https://registry-1.docker.io/v2/ratelimitpreview/test/manifests/latest"
   ]
  }
 ],
 "metadata": {
  "kernelspec": {
   "display_name": "Bash",
   "language": "bash",
   "name": "bash"
  },
  "language_info": {
   "codemirror_mode": "shell",
   "file_extension": ".sh",
   "mimetype": "text/x-sh",
   "name": "bash"
  }
 },
 "nbformat": 4,
 "nbformat_minor": 2
}
