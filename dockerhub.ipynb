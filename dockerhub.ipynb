{
 "cells": [
  {
   "cell_type": "markdown",
   "metadata": {},
   "source": [
    "# Module 1: Introduction\n",
    "\n",
    "## Exercise 1: Setting Up Your Environment\n",
    "\n",
    "In this exercise, you familiarize yourself with your equipment and verify that licenses are installed\n",
    "\n",
    "**Objectives**\n",
    "\n",
    "This exercise focuses on enabling you to do the following:\n",
    "- Explore the Kubernetes cluster configuration\n",
    "- Set up administrator access on the jumphost\n",
    "- Configure the integrated development environment (IDE)\n",
    "- Work with YAML files in the IDE"
   ]
  },
  {
   "cell_type": "markdown",
   "metadata": {},
   "source": [
    "## Exercise Equipment\n",
    "\n",
    "In this exercise, you use the following systems.\n",
    "\n",
    "| System                  | Host Name   | IP Addresses   | User Name (case sensitive) | Password  |\n",
    "|-------------------------|-------------|----------------|----------------------------|-----------|\n",
    "| Linux Mint 20           | jumphost    | 192.168.0.5    | user                       | Netapp1!  |\n",
    "| Kubernetes Control Plane| kubmas1-1   | 192.168.0.61   | root                       | Netapp1!  |\n",
    "| Kubernetes Worker 1     | kubwor1-1   | 192.168.0.62   | root                       | Netapp1!  |\n",
    "| Kubernetes Worker 2     | kubwor1-2   | 192.168.0.63   | root                       | Netapp1!  |\n",
    "| Kubernetes Worker 3     | kubwor1-3   | 192.168.0.64   | root                       | Netapp1!  |"
   ]
  },
  {
   "cell_type": "markdown",
   "metadata": {},
   "source": [
    "In November 2020, Docker Hub instituted a new policy that limits the\n",
    "number of pulls available from an anonymous account, like the account that we use. \n",
    "\n",
    "If you\n",
    "reach this limit, you see the following error in Events:\n",
    "\n",
    "```\n",
    "docker: Error response from daemon: toomanyrequests: You have reached\n",
    "your pull rate limit. You may increase the limit by authenticating and\n",
    "upgrading:\n",
    "```   \n",
    "https://www.docker.com/increase-rate-limit\n"
   ]
  },
  {
   "cell_type": "markdown",
   "metadata": {},
   "source": [
    "##### To verify your anonymous usage:\n",
    "\n",
    "1. **Install jQuery** (if it is not already installed):\n",
    "   ```bash\n",
    "   sudo apt install -y jq"
   ]
  },
  {
   "cell_type": "code",
   "execution_count": 3,
   "metadata": {
    "vscode": {
     "languageId": "shellscript"
    }
   },
   "outputs": [
    {
     "name": "stdout",
     "output_type": "stream",
     "text": [
      "Reading package lists... 0%Reading package lists... 100%Reading package lists... Done\n",
      "Building dependency tree... 0%Building dependency tree... 0%Building dependency tree... 50%Building dependency tree... 50%Building dependency tree       \n",
      "Reading state information... 0%Reading state information... 0%Reading state information... Done\n",
      "The following package was automatically installed and is no longer required:\n",
      "  libu2f-udev\n",
      "Use 'sudo apt autoremove' to remove it.\n",
      "The following additional packages will be installed:\n",
      "  libjq1 libonig5\n",
      "The following NEW packages will be installed:\n",
      "  jq libjq1 libonig5\n",
      "0 upgraded, 3 newly installed, 0 to remove and 719 not upgraded.\n",
      "Need to get 313 kB of archives.\n",
      "After this operation, 1,062 kB of additional disk space will be used.\n",
      "Get:1 http://archive.ubuntu.com/ubuntu focal/universe amd64 libonig5 amd64 6.9.4-1 [142 kB]\n",
      "Get:2 http://archive.ubuntu.com/ubuntu focal-updates/main amd64 libjq1 amd64 1.6-1ubuntu0.20.04.1 [121 kB]\n",
      "Get:3 http://archive.ubuntu.com/ubuntu focal-updates/main amd64 jq amd64 1.6-1ubuntu0.20.04.1 [50.2 kB]\n",
      "Fetched 313 kB in 0s (1,448 kB/s)m\u001b[33m\n",
      "\n",
      "\u001b7\u001b[0;23r\u001b8\u001b[1ASelecting previously unselected package libonig5:amd64.\n",
      "(Reading database ... 418573 files and directories currently installed.)\n",
      "Preparing to unpack .../libonig5_6.9.4-1_amd64.deb ...\n",
      "\u001b7\u001b[24;0f\u001b[42m\u001b[30mProgress: [  0%]\u001b[49m\u001b[39m [..........................................................] \u001b8\u001b7\u001b[24;0f\u001b[42m\u001b[30mProgress: [  8%]\u001b[49m\u001b[39m [####......................................................] \u001b8Unpacking libonig5:amd64 (6.9.4-1) ...\n",
      "\u001b7\u001b[24;0f\u001b[42m\u001b[30mProgress: [ 15%]\u001b[49m\u001b[39m [########..................................................] \u001b8Selecting previously unselected package libjq1:amd64.\n",
      "Preparing to unpack .../libjq1_1.6-1ubuntu0.20.04.1_amd64.deb ...\n",
      "\u001b7\u001b[24;0f\u001b[42m\u001b[30mProgress: [ 23%]\u001b[49m\u001b[39m [#############.............................................] \u001b8Unpacking libjq1:amd64 (1.6-1ubuntu0.20.04.1) ...\n",
      "\u001b7\u001b[24;0f\u001b[42m\u001b[30mProgress: [ 31%]\u001b[49m\u001b[39m [#################.........................................] \u001b8Selecting previously unselected package jq.\n",
      "Preparing to unpack .../jq_1.6-1ubuntu0.20.04.1_amd64.deb ...\n",
      "\u001b7\u001b[24;0f\u001b[42m\u001b[30mProgress: [ 38%]\u001b[49m\u001b[39m [######################....................................] \u001b8Unpacking jq (1.6-1ubuntu0.20.04.1) ...\n",
      "\u001b7\u001b[24;0f\u001b[42m\u001b[30mProgress: [ 46%]\u001b[49m\u001b[39m [##########################................................] \u001b8Setting up libonig5:amd64 (6.9.4-1) ...\n",
      "\u001b7\u001b[24;0f\u001b[42m\u001b[30mProgress: [ 54%]\u001b[49m\u001b[39m [###############################...........................] \u001b8\u001b7\u001b[24;0f\u001b[42m\u001b[30mProgress: [ 62%]\u001b[49m\u001b[39m [###################################.......................] \u001b8Setting up libjq1:amd64 (1.6-1ubuntu0.20.04.1) ...\n",
      "\u001b7\u001b[24;0f\u001b[42m\u001b[30mProgress: [ 69%]\u001b[49m\u001b[39m [########################################..................] \u001b8\u001b7\u001b[24;0f\u001b[42m\u001b[30mProgress: [ 77%]\u001b[49m\u001b[39m [############################################..............] \u001b8Setting up jq (1.6-1ubuntu0.20.04.1) ...\n",
      "\u001b7\u001b[24;0f\u001b[42m\u001b[30mProgress: [ 85%]\u001b[49m\u001b[39m [#################################################.........] \u001b8\u001b7\u001b[24;0f\u001b[42m\u001b[30mProgress: [ 92%]\u001b[49m\u001b[39m [#####################################################.....] \u001b8Processing triggers for man-db (2.9.1-1) ...\n",
      "Processing triggers for libc-bin (2.31-0ubuntu9.2) ...\n",
      "\n",
      "\u001b7\u001b[0;24r\u001b8\u001b[1A\u001b[J\n"
     ]
    }
   ],
   "source": [
    "echo Netapp1! |sudo -S apt install -y jq"
   ]
  },
  {
   "cell_type": "markdown",
   "metadata": {},
   "source": [
    "Create a token variable:\n",
    "\n",
    "```bash\n",
    "TOKEN=$(curl \"https://auth.docker.io/token?service=registry.docker.io&scope=repository:ratelimitpreview/test:pull\" | jq -r .token)"
   ]
  },
  {
   "cell_type": "code",
   "execution_count": null,
   "metadata": {
    "vscode": {
     "languageId": "shellscript"
    }
   },
   "outputs": [
    {
     "name": "stdout",
     "output_type": "stream",
     "text": [
      "  % Total    % Received % Xferd  Average Speed   Time    Time     Time  Current\n",
      "                                 Dload  Upload   Total   Spent    Left  Speed\n",
      "100  5428    0  5428    0     0  69589      0 --:--:-- --:--:-- --:--:-- 69589\n"
     ]
    }
   ],
   "source": [
    "\n",
    "TOKEN=$(curl \"https://auth.docker.io/token?service=registry.docker.io&scope=repository:ratelimitpreview/test:pull\" | jq -r .token)"
   ]
  },
  {
   "cell_type": "markdown",
   "metadata": {},
   "source": [
    "\n",
    "Use the token variable and review the HTML header output"
   ]
  },
  {
   "cell_type": "code",
   "execution_count": 5,
   "metadata": {
    "vscode": {
     "languageId": "shellscript"
    }
   },
   "outputs": [
    {
     "name": "stdout",
     "output_type": "stream",
     "text": [
      "HTTP/1.1 200 OK\n",
      "\u001b[1mcontent-length\u001b[0m: 527\n",
      "\u001b[1mcontent-type\u001b[0m: application/vnd.docker.distribution.manifest.v2+json\n",
      "\u001b[1mdocker-content-digest\u001b[0m: sha256:c2d41d2ba6d8b7b4a3ffec621578eb4d9a0909df29dfa2f6fd8a2e5fd0836aed\n",
      "\u001b[1mdocker-distribution-api-version\u001b[0m: registry/2.0\n",
      "\u001b[1metag\u001b[0m: \"sha256:c2d41d2ba6d8b7b4a3ffec621578eb4d9a0909df29dfa2f6fd8a2e5fd0836aed\"\n",
      "\u001b[1mdate\u001b[0m: Sat, 22 Mar 2025 17:46:16 GMT\n",
      "\u001b[1mstrict-transport-security\u001b[0m: max-age=31536000\n",
      "\u001b[1mratelimit-limit\u001b[0m: 100;w=21600\n",
      "\u001b[1mratelimit-remaining\u001b[0m: 51;w=21600\n",
      "\u001b[1mdocker-ratelimit-source\u001b[0m: 216.240.31.145\n",
      "\n"
     ]
    }
   ],
   "source": [
    "curl --head -H \"Authorization: Bearer $TOKEN\" https://registry-1.docker.io/v2/ratelimitpreview/test/manifests/latest"
   ]
  },
  {
   "cell_type": "markdown",
   "metadata": {},
   "source": [
    "To resolve this restriction:\n",
    "\n",
    "1. Navigate to Docker Hub (https://hub.docker.com) and register for a free account.\n",
    "\n",
    "2. Use the authentication account when you request pulls from Kubernetes (you must\n",
    "create the secret in every namespace in which you use the account):\n",
    "\n",
    "    a. Create a secret with your authentication credentials:\n",
    "\n",
    "    ```bash\n",
    "      kubectl create secret docker-registry dockerhubkey \\  \n",
    "      --docker-username=[USERNAME] \\  \n",
    "      --docker-password=[PASSWORD] \\  \n",
    "      --docker-email=[EMAIL OF THE FREE ACCOUNT]  \n",
    "    ```\n",
    "\n",
    "    b. Edit the default service account and add the **imagePullSecrets** option:\n",
    "\n",
    "    \n",
    "      ```bash    \n",
    "        kubectl -n default edit serviceaccount default  \n",
    "      ```\n",
    "      ```yaml\n",
    "      apiVersion: v1  \n",
    "      kind: ServiceAccount  \n",
    "      metadata:  \n",
    "        creationTimestamp: 2015-08-07T22:02:39Z  \n",
    "        name: default  \n",
    "        namespace: default  \n",
    "        uid: 052fb0f4-3d50-11e5-b066-42010af0d7b6  \n",
    "      secrets:  \n",
    "      - name: default-token-uudge  \n",
    "      imagePullSecrets:  \n",
    "      - name: dockerhubkey  \n",
    "      ```"
   ]
  },
  {
   "cell_type": "markdown",
   "metadata": {},
   "source": [
    "Run the following commands in a terminal.  \n",
    "You can open a terminal in VSCode using ```CTRL+` ```"
   ]
  },
  {
   "cell_type": "raw",
   "metadata": {
    "vscode": {
     "languageId": "raw"
    }
   },
   "source": [
    "\n",
    "kubectl create secret docker-registry dockerhubkey \\  \n",
    "      --docker-username=[USERNAME] \\  \n",
    "      --docker-password=[PASSWORD] \\  \n",
    "      --docker-email=[EMAIL OF THE FREE ACCOUNT]"
   ]
  },
  {
   "cell_type": "raw",
   "metadata": {
    "vscode": {
     "languageId": "raw"
    }
   },
   "source": [
    "kubectl -n default edit serviceaccount default "
   ]
  },
  {
   "cell_type": "code",
   "execution_count": 9,
   "metadata": {
    "vscode": {
     "languageId": "shellscript"
    }
   },
   "outputs": [
    {
     "name": "stdout",
     "output_type": "stream",
     "text": [
      "eyJhbGciOiJSUzI1NiIsInR5cCI6IkpXVCIsIng1YyI6WyJNSUlFRmpDQ0F2NmdBd0lCQWdJVUlvQW42a0k2MUs3bTAwNVhqcXVpKzRDTzVUb3dEUVlKS29aSWh2Y05BUUVMQlFBd2dZWXhDekFKQmdOVkJBWVRBbFZUTVJNd0VRWURWUVFJRXdwRFlXeHBabTl5Ym1saE1SSXdFQVlEVlFRSEV3bFFZV3h2SUVGc2RHOHhGVEFUQmdOVkJBb1RERVJ2WTJ0bGNpd2dTVzVqTGpFVU1CSUdBMVVFQ3hNTFJXNW5hVzVsWlhKcGJtY3hJVEFmQmdOVkJBTVRHRVJ2WTJ0bGNpd2dTVzVqTGlCRmJtY2dVbTl2ZENCRFFUQWVGdzB5TkRBNU1qUXlNalUxTURCYUZ3MHlOVEE1TWpReU1qVTFNREJhTUlHRk1Rc3dDUVlEVlFRR0V3SlZVekVUTUJFR0ExVUVDQk1LUTJGc2FXWnZjbTVwWVRFU01CQUdBMVVFQnhNSlVHRnNieUJCYkhSdk1SVXdFd1lEVlFRS0V3eEViMk5yWlhJc0lFbHVZeTR4RkRBU0JnTlZCQXNUQzBWdVoybHVaV1Z5YVc1bk1TQXdIZ1lEVlFRREV4ZEViMk5yWlhJc0lFbHVZeTRnUlc1bklFcFhWQ0JEUVRDQ0FTSXdEUVlKS29aSWh2Y05BUUVCQlFBRGdnRVBBRENDQVFvQ2dnRUJBTGRWRDVxNlJudkdETUxPVysrR1MxWENwR2FRRHd0V3FIS2tLYlM5cVlJMXdCallKWEJ6U2MweTBJK0swU0lVd2pqNGJJT3ZpNXNyOGhJajdReGhrY1ppTlU1OEE5NW5BeGVFS3lMaU9QU0tZK3Y5VnZadmNNT2NwVW1xZ1BxWkhoeTVuMW8xbGxmek92dTd5SDc4a1FyT0lTMTZ3RFVVZm8yRkxPaERDaElsbCtYa2VlbFB6c0tiRWo3ZGJqdXV6RGxIODlWaE4yenNWNFV3c244UVpGVTB4V00wb3R2d0lQN3k0UDZGWDBuUFJuTVQyMlRIajVIWVJ3SUFVdm1FN0l3YlZVQ2wvM1hPaGhwbGNJZFQxREZGOUJUMHJOUC93ZTBWMklId1RHdVdTVENWb3M2b3R5ekk3a1hEdGZzeWRjU2Q5TklpSXZITHFYamJPVGtidWVjQ0F3RUFBYU43TUhrd0RnWURWUjBQQVFIL0JBUURBZ0dtTUJNR0ExVWRKUVFNTUFvR0NDc0dBUVVGQndNQk1CSUdBMVVkRXdFQi93UUlNQVlCQWY4Q0FRQXdIUVlEVlIwT0JCWUVGSmZWdXV4Vko3UXh1amlMNExZajFjQjEzbWhjTUI4R0ExVWRJd1FZTUJhQUZDNjBVUE5lQmtvZ1kyMnRYUGNCTUhGdkczQ3NNQTBHQ1NxR1NJYjNEUUVCQ3dVQUE0SUJBUUFiQkdlZHZVVzhOVWp1VXJWbDlrWmMybDRDbjhJbDFzeVBVTDNYVXdQSHprcy9iUFJ4S1loeFlIODdOb1NwdDZJT3ZPS0k3ZCthQmoyM1lldTdDWGltTWxMUWl4UGhwQ0J0dC92Vmx1UXNJbVZXZXBJWCtraENienNGemtNbUNpbHo1OXVxOURiaGg3VUw1NjQxUjdFQ2pZc0h0Y2RKeURXRWFqMXFEVFoyOUUwY1UvWmhmbmsrVFVOTExkNjYxNldCREQ3TDlSNkgzK3VkRXBRRDFlcXYzU1YwczY3R2ZVT3l0RXhzMVRja3U4aUJCdnJLbnhZa3BZMVZDbW5UMUxSaFo4K283YU94YjR4ZHByMFR6ZnBqN3BidEhWQnQwSGNUUlpIdG54MkhCN3pzWXRFZUl3eVE3bGhhMVJ4eDJNQmR0R2tBREFLUk9RRnpmMEJubm91TSJdfQ.eyJhY2Nlc3MiOlt7ImFjdGlvbnMiOlsicHVsbCJdLCJuYW1lIjoicmF0ZWxpbWl0cHJldmlldy90ZXN0IiwicGFyYW1ldGVycyI6eyJwdWxsX2xpbWl0IjoiMTAwIiwicHVsbF9saW1pdF9pbnRlcnZhbCI6IjIxNjAwIn0sInR5cGUiOiJyZXBvc2l0b3J5In1dLCJhdWQiOiJyZWdpc3RyeS5kb2NrZXIuaW8iLCJleHAiOjE3NDI2NjU3ODYsImlhdCI6MTc0MjY2NTQ4NiwiaXNzIjoiYXV0aC5kb2NrZXIuaW8iLCJqdGkiOiJkY2tyX2p0aV9JQU1sXzM1blZVdHJob3g1aDREbzg4ajU2Smc9IiwibmJmIjoxNzQyNjY1MTg2LCJzdWIiOiIifQ.s4Vc7nRNCRYYuUpbDyoCRTp0VouVEqKuu7wF63061QTC7ovq8BRiF1ZxPyrDWLBE0Xy3WeOftwynQP3VPU3D-uhjorsJhEcTBpPUx3Vy8mAVTN7rxyNhQ8skEp54dm9Q6vs_xdEMJBTKwdcy8jywDnatO7ip6TE_RQfHDpXLp_bEexFcvKR1HevVetmpE55N1_o25GKafgXl-CP0y78Va6SBehrHqOkhDobXIiJ4gse5CEKZIsQXkjlJBJu6QZmqRGHzd2yarGr1AvvYMGfOsZ1Q5nPNdcaPoLmmebJxK1_JbSJg0ziIJeXQOQ9oUjjzNOqraCRsRw1w0KuXHUftLA\n"
     ]
    }
   ],
   "source": [
    "echo $TOKEN\n"
   ]
  },
  {
   "cell_type": "markdown",
   "metadata": {},
   "source": [
    "To verify the usage of a Docker account:\n",
    "\n",
    "1. Install jQuery (if it is not already installed): sudo apt install -y jq  \n",
    "2. Create a token variable, replacing username and password with your account details:  \n",
    "\n",
    "```bash\n",
    "MYTOKEN=$(curl --user 'username:password' \"https://auth.docker.io/token?service=registry.docker.io&scope=repository:ratelimitpreview/test:pull\" | jq -r .token)\n",
    "\n",
    "```\n",
    "\n",
    "3. Use the token variable and review the HTML header output:\n",
    "\n",
    "```bash\n",
    "curl --head -H \"Authorization: Bearer $MYTOKEN\" https://registry-1.docker.io/v2/ratelimitpreview/test/manifests/latest\n",
    "\n",
    "```\n",
    "\n",
    "4. Example output:  \n",
    "\n",
    "    ```plain-text\n",
    "    ratelimit-limit: 200  \n",
    "    ratelimit-remaining: 176  \n",
    "    ```"
   ]
  },
  {
   "cell_type": "markdown",
   "metadata": {},
   "source": [
    "replace `username` and `password` in the code cell below to test if you are using your Docker Hub account"
   ]
  },
  {
   "cell_type": "code",
   "execution_count": null,
   "metadata": {
    "vscode": {
     "languageId": "shellscript"
    }
   },
   "outputs": [],
   "source": [
    "MYTOKEN=$(curl --user 'username:password' \"https://auth.docker.io/token?service=registry.docker.io&scope=repository:ratelimitpreview/test:pull\" | jq -r .token)\n",
    "\n",
    "curl --head -H \"Authorization: Bearer $MYTOKEN\" https://registry-1.docker.io/v2/ratelimitpreview/test/manifests/latest"
   ]
  }
 ],
 "metadata": {
  "kernelspec": {
   "display_name": "Bash",
   "language": "bash",
   "name": "bash"
  },
  "language_info": {
   "codemirror_mode": "shell",
   "file_extension": ".sh",
   "mimetype": "text/x-sh",
   "name": "bash",
   "version": "3.8.10"
  }
 },
 "nbformat": 4,
 "nbformat_minor": 2
}
