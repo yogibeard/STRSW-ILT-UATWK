{
 "cells": [
  {
   "cell_type": "markdown",
   "metadata": {},
   "source": [
    "# Module 4: NetApp Trident Use Scenarios\n",
    "\n",
    "## Exercise 1: Managing storage using NetApp Trident\n",
    "\n",
    "In this exercise, you explore and manage point-in-time Snapshot copies of a persistent volume (PV).\n",
    "\n",
    "You also expand a PV. \n",
    "\n",
    "You also import a volume (that NetApp NetApp Trident does not control) as a PV that NetApp Trident manages. \n",
    "\n",
    "Finally, you will implement a multiple zone storage network.\n",
    "\n",
    "**Objectives**\n",
    "\n",
    "This exercise focuses on enabling you to do the following:\n",
    "  \n",
    "  - Manage Snapshot copies\n",
    "  \n",
    "  - Restore Snapshot data\n",
    "  \n",
    "  - Import an external Snapshot copy\n",
    "  \n",
    "  - Expand volumes\n",
    "  \n",
    "  - Import volumes\n",
    "  \n",
    "  - Implement multiple zones storage network"
   ]
  },
  {
   "cell_type": "markdown",
   "metadata": {},
   "source": [
    "**Exercise Equipment**\n",
    "\n",
    "In this exercise, you use the following systems.\n",
    "\n",
    "| System                  | Host Name   | IP Addresses   | User Name (case sensitive) | Password  |\n",
    "|-------------------------|-------------|----------------|----------------------------|-----------|\n",
    "| Linux Mint 20           | jumphost    | 192.168.0.5    | user                       | Netapp1!  |\n",
    "| Kubernetes Control Plane| kubmas1-1   | 192.168.0.61   | root                       | Netapp1!  |\n"
   ]
  },
  {
   "cell_type": "markdown",
   "metadata": {},
   "source": [
    "**Prerequisites**\n",
    "Before starting this exercise, you should take the following actions:\n",
    "  \n",
    "  - Set up your Integrated Development Environment (IDE)\n",
    "  \n",
    "  - Download the courseware GIT repository\n",
    "  \n",
    "  - Configure your IDE to have access to your Kubernetes clusters\n",
    "  \n",
    "  - Create svm0 and svm1\n",
    "  \n",
    "  - Configure svm0 to use the NFS v3 protocol\n",
    "  \n",
    "  - Configure svm1 to use the iSCSI and NVMe protocols\n",
    "  \n",
    "  - Install Trident in your source Kubernetes cluster\n",
    "  \n",
    "  - Ensure iSCSI, NVMe and NFS are properly configured on your worker nodes in the source Kubernetes cluster\n",
    "  \n",
    "  - Create the following TBE: c1-svm0-nfs-tbe, c1-svm1-iscsi-tbe, c1-svm0-nfs-custom-tbe\n",
    "  \n",
    "  - Create the following StorageClass: c1-svm0-nfs-sc, c1-svm1-iscsi-sc, c1-svm0-nfs-custom-sc\n",
    "  \n",
    "  - Create the following PVCs: c1-svm0-nfs-pvc-1, c1-svm1-iscsi-pvc-1, c1-svm0-nfs-custom-pvc-1\n",
    "  \n",
    "  - Provision the following PODs: nfs-pod, san-pod\n"
   ]
  },
  {
   "cell_type": "markdown",
   "metadata": {},
   "source": [
    "---\n",
    "---\n"
   ]
  },
  {
   "cell_type": "markdown",
   "metadata": {},
   "source": [
    "#### Task 1: Manage Snapshot copies\n",
    "\n",
    "In this task, you configure the required custom resource definitions (CRDs) to use point-in-time\n",
    "Snapshot copies of volumes in Kubernetes. Then you create the snapshot controller.\n"
   ]
  },
  {
   "cell_type": "markdown",
   "metadata": {},
   "source": [
    "---"
   ]
  },
  {
   "cell_type": "markdown",
   "metadata": {},
   "source": [
    "In your integrated development environment (IDE), make sure that: \n",
    "\n",
    "you are in the Exercise 4 folder of the course contents.\n",
    "\n"
   ]
  },
  {
   "cell_type": "code",
   "execution_count": 1,
   "metadata": {
    "vscode": {
     "languageId": "shellscript"
    }
   },
   "outputs": [
    {
     "name": "stdout",
     "output_type": "stream",
     "text": [
      "/home/user/repos/STRSW-ILT-UATWK/Exercise 4\n"
     ]
    }
   ],
   "source": [
    "pwd"
   ]
  },
  {
   "cell_type": "markdown",
   "metadata": {},
   "source": [
    "In your integrated development environment (IDE), make sure that you are using the **default** Namespace: \n",
    "\n",
    "![Use Default Namespace](../images/use_ns.jpg)\n",
    "\n",
    "\n",
    "\n"
   ]
  },
  {
   "cell_type": "markdown",
   "metadata": {},
   "source": [
    "---"
   ]
  },
  {
   "cell_type": "markdown",
   "metadata": {},
   "source": [
    "Create the volumeshapshotclass CRD:\n",
    "\n",
    "[exercise4Task1-1.yaml](./exercise4Task1-1.yaml)"
   ]
  },
  {
   "cell_type": "code",
   "execution_count": 2,
   "metadata": {
    "vscode": {
     "languageId": "shellscript"
    }
   },
   "outputs": [
    {
     "name": "stdout",
     "output_type": "stream",
     "text": [
      "customresourcedefinition.apiextensions.k8s.io/volumesnapshotclasses.snapshot.storage.k8s.io created\n"
     ]
    }
   ],
   "source": [
    "kubectl create -f exercise4Task1-1.yaml\n"
   ]
  },
  {
   "cell_type": "markdown",
   "metadata": {},
   "source": [
    "---"
   ]
  },
  {
   "cell_type": "markdown",
   "metadata": {},
   "source": [
    "Create the volumesnapshotcontents CRD:\n",
    "\n",
    "[exercise4Task1-2.yaml](./exercise4Task1-2.yaml)\n"
   ]
  },
  {
   "cell_type": "code",
   "execution_count": 3,
   "metadata": {
    "vscode": {
     "languageId": "shellscript"
    }
   },
   "outputs": [
    {
     "name": "stdout",
     "output_type": "stream",
     "text": [
      "customresourcedefinition.apiextensions.k8s.io/volumesnapshotcontents.snapshot.storage.k8s.io created\n"
     ]
    }
   ],
   "source": [
    "\n",
    "kubectl create -f exercise4Task1-2.yaml\n"
   ]
  },
  {
   "cell_type": "markdown",
   "metadata": {},
   "source": [
    "---"
   ]
  },
  {
   "cell_type": "markdown",
   "metadata": {},
   "source": [
    "Create the volumesnapshot CRD:\n",
    "\n",
    "[exercise4Task1-3.yaml](./exercise4Task1-3.yaml)\n"
   ]
  },
  {
   "cell_type": "code",
   "execution_count": 4,
   "metadata": {
    "vscode": {
     "languageId": "shellscript"
    }
   },
   "outputs": [
    {
     "name": "stdout",
     "output_type": "stream",
     "text": [
      "customresourcedefinition.apiextensions.k8s.io/volumesnapshots.snapshot.storage.k8s.io created\n"
     ]
    }
   ],
   "source": [
    "kubectl create -f exercise4Task1-3.yaml\n"
   ]
  },
  {
   "cell_type": "markdown",
   "metadata": {},
   "source": [
    "---"
   ]
  },
  {
   "cell_type": "markdown",
   "metadata": {},
   "source": [
    "Create the service account, roles, and role bindings for the snapshot-controller in the kube-system namespace:\n",
    "\n",
    "[exercise4Task1-4.yaml](./exercise4Task1-4.yaml)\n"
   ]
  },
  {
   "cell_type": "code",
   "execution_count": 5,
   "metadata": {
    "vscode": {
     "languageId": "shellscript"
    }
   },
   "outputs": [
    {
     "name": "stdout",
     "output_type": "stream",
     "text": [
      "serviceaccount/snapshot-controller created\n",
      "clusterrole.rbac.authorization.k8s.io/snapshot-controller-runner created\n",
      "clusterrolebinding.rbac.authorization.k8s.io/snapshot-controller-role created\n",
      "role.rbac.authorization.k8s.io/snapshot-controller-leaderelection created\n",
      "rolebinding.rbac.authorization.k8s.io/snapshot-controller-leaderelection created\n"
     ]
    }
   ],
   "source": [
    "\n",
    "kubectl create -f exercise4Task1-4.yaml\n"
   ]
  },
  {
   "cell_type": "markdown",
   "metadata": {},
   "source": [
    "---"
   ]
  },
  {
   "cell_type": "markdown",
   "metadata": {},
   "source": [
    "Create the snapshot-controller stateful set in the kube-system namespace:\n",
    "\n",
    "[exercise4Task1-5.yaml](./exercise4Task1-5.yaml)\n"
   ]
  },
  {
   "cell_type": "code",
   "execution_count": 6,
   "metadata": {
    "vscode": {
     "languageId": "shellscript"
    }
   },
   "outputs": [
    {
     "name": "stdout",
     "output_type": "stream",
     "text": [
      "deployment.apps/snapshot-controller created\n"
     ]
    }
   ],
   "source": [
    "kubectl create -f exercise4Task1-5.yaml\n"
   ]
  },
  {
   "cell_type": "markdown",
   "metadata": {},
   "source": [
    "---"
   ]
  },
  {
   "cell_type": "markdown",
   "metadata": {},
   "source": [
    "Create a volumesnapshotclass custom resource (CR) that points to the NetApp Trident Container Storage Interface (CSI) driver:\n",
    "\n",
    "[exercise4Task1-6.yaml](./exercise4Task1-6.yaml)\n"
   ]
  },
  {
   "cell_type": "code",
   "execution_count": 7,
   "metadata": {
    "vscode": {
     "languageId": "shellscript"
    }
   },
   "outputs": [
    {
     "name": "stdout",
     "output_type": "stream",
     "text": [
      "volumesnapshotclass.snapshot.storage.k8s.io/csi-snap-class created\n"
     ]
    }
   ],
   "source": [
    "kubectl create -f exercise4Task1-6.yaml\n"
   ]
  },
  {
   "cell_type": "markdown",
   "metadata": {},
   "source": [
    "NOTE: \n",
    "\n",
    "The `deletionPolicy` can be **Delete** or **Retain**. \n",
    "\n",
    "When set to **Retain**, the underlying physical snapshot on the storage cluster is retained even when the `VolumeSnapshot` object is deleted.\n"
   ]
  },
  {
   "cell_type": "markdown",
   "metadata": {},
   "source": [
    "---"
   ]
  },
  {
   "cell_type": "markdown",
   "metadata": {},
   "source": [
    "Edit the snapshot definition in the [exercise4Task1-7.yaml](./exercise4Task1-7.yaml) file, \n",
    "\n",
    "and then save the file as **exercise4Task1-7mod.yaml**.\n",
    "\n",
    "\n",
    "Under spec:\n",
    " - volumeSnapshotClassName: [name of the snapshotclass that you created]\n",
    " - source persistentVolumeClaimName: [name of the NFS-backed persistent volume claim (PVC) that you created in the previous exercise ]\n",
    "\n",
    "\n",
    "<details> <summary>Solution </summary>\n",
    "\n",
    "[exercise4Task1-7.yaml](./Solutions/exercise4Task1-7.yaml)\n",
    "\n",
    "  \n",
    "```yaml\n",
    "apiVersion: snapshot.storage.k8s.io/v1\n",
    "kind: VolumeSnapshot\n",
    "metadata:\n",
    "  name: c1-svm0-nfs-pvc-1-snap-1\n",
    "  namespace: default\n",
    "spec:\n",
    "  volumeSnapshotClassName: csi-snap-class\n",
    "  source:\n",
    "    persistentVolumeClaimName: c1-svm0-nfs-pvc-1\n",
    "    "
   ]
  },
  {
   "cell_type": "markdown",
   "metadata": {},
   "source": [
    "---"
   ]
  },
  {
   "cell_type": "markdown",
   "metadata": {},
   "source": [
    "Create a snapshot of the NFS-backed PVC that you created in the previous exercise:\n"
   ]
  },
  {
   "cell_type": "code",
   "execution_count": 8,
   "metadata": {
    "vscode": {
     "languageId": "shellscript"
    }
   },
   "outputs": [
    {
     "name": "stdout",
     "output_type": "stream",
     "text": [
      "volumesnapshot.snapshot.storage.k8s.io/c1-svm0-nfs-pvc-1-snap-1 created\n"
     ]
    }
   ],
   "source": [
    "kubectl create -f exercise4Task1-7mod.yaml\n"
   ]
  },
  {
   "cell_type": "markdown",
   "metadata": {},
   "source": [
    "---"
   ]
  },
  {
   "cell_type": "markdown",
   "metadata": {},
   "source": [
    "Verify that you created the snapshot:\n"
   ]
  },
  {
   "cell_type": "code",
   "execution_count": 10,
   "metadata": {
    "vscode": {
     "languageId": "shellscript"
    }
   },
   "outputs": [
    {
     "name": "stdout",
     "output_type": "stream",
     "text": [
      "NAME                       READYTOUSE   SOURCEPVC           SOURCESNAPSHOTCONTENT   RESTORESIZE   SNAPSHOTCLASS    SNAPSHOTCONTENT                                    CREATIONTIME   AGE\n",
      "c1-svm0-nfs-pvc-1-snap-1   true         c1-svm0-nfs-pvc-1                           348Ki         csi-snap-class   snapcontent-7a949c76-5f27-4264-a766-60faeb9bf8d2   24m            24m\n"
     ]
    }
   ],
   "source": [
    "kubectl -n default get volumesnapshots\n"
   ]
  },
  {
   "cell_type": "markdown",
   "metadata": {},
   "source": [
    "Sample output:\n",
    "```\n",
    "NAME       READYTOUSE   SOURCEPVC … RESTORESIZE  SNAPSHOTCLASS   SNAPSHOTCONTENT\n",
    "c1-svm0-n… true         c1-svm0-n … 272Ki        csi-snap-class  snapcontent-b6d…\n"
   ]
  },
  {
   "cell_type": "markdown",
   "metadata": {},
   "source": [
    "---"
   ]
  },
  {
   "cell_type": "markdown",
   "metadata": {},
   "source": [
    "Describe the snapshot, and notice the **Ready to Use** parameter:\n"
   ]
  },
  {
   "cell_type": "code",
   "execution_count": 11,
   "metadata": {
    "vscode": {
     "languageId": "shellscript"
    }
   },
   "outputs": [
    {
     "name": "stdout",
     "output_type": "stream",
     "text": [
      "Name:         c1-svm0-nfs-pvc-1-snap-1\n",
      "Namespace:    default\n",
      "Labels:       <none>\n",
      "Annotations:  <none>\n",
      "API Version:  snapshot.storage.k8s.io/v1\n",
      "Kind:         VolumeSnapshot\n",
      "Metadata:\n",
      "  Creation Timestamp:  2025-03-29T02:20:06Z\n",
      "  Finalizers:\n",
      "    snapshot.storage.kubernetes.io/volumesnapshot-as-source-protection\n",
      "    snapshot.storage.kubernetes.io/volumesnapshot-bound-protection\n",
      "  Generation:        1\n",
      "  Resource Version:  1024753\n",
      "  UID:               7a949c76-5f27-4264-a766-60faeb9bf8d2\n",
      "Spec:\n",
      "  Source:\n",
      "    Persistent Volume Claim Name:  c1-svm0-nfs-pvc-1\n",
      "  Volume Snapshot Class Name:      csi-snap-class\n",
      "Status:\n",
      "  Bound Volume Snapshot Content Name:  snapcontent-7a949c76-5f27-4264-a766-60faeb9bf8d2\n",
      "  Creation Time:                       2025-03-29T02:19:56Z\n",
      "  Ready To Use:                        true\n",
      "  Restore Size:                        348Ki\n",
      "Events:\n",
      "  Type    Reason            Age   From                 Message\n",
      "  ----    ------            ----  ----                 -------\n",
      "  Normal  CreatingSnapshot  29m   snapshot-controller  Waiting for a snapshot default/c1-svm0-nfs-pvc-1-snap-1 to be created by the CSI driver.\n",
      "  Normal  SnapshotCreated   29m   snapshot-controller  Snapshot default/c1-svm0-nfs-pvc-1-snap-1 was successfully created by the CSI driver.\n",
      "  Normal  SnapshotReady     29m   snapshot-controller  Snapshot default/c1-svm0-nfs-pvc-1-snap-1 is ready to use.\n"
     ]
    }
   ],
   "source": [
    "kubectl describe volumesnapshots c1-svm0-nfs-pvc-1-snap-1\n"
   ]
  },
  {
   "cell_type": "code",
   "execution_count": 15,
   "metadata": {
    "vscode": {
     "languageId": "shellscript"
    }
   },
   "outputs": [
    {
     "name": "stdout",
     "output_type": "stream",
     "text": [
      "    Persistent Volume Claim Name:  c1-svm0-nfs-pvc-1\n",
      "  Volume Snapshot Class Name:      csi-snap-class\n",
      "Status:\n",
      "  Bound Volume Snapshot Content Name:  snapcontent-7a949c76-5f27-4264-a766-60faeb9bf8d2\n",
      "  Creation Time:                       2025-03-29T02:19:56Z\n",
      "  \u001b[01;31m\u001b[KReady To Use\u001b[m\u001b[K:                        true\n",
      "  Restore Size:                        348Ki\n",
      "Events:\n",
      "  Type    Reason            Age   From                 Message\n",
      "  ----    ------            ----  ----                 -------\n",
      "  Normal  CreatingSnapshot  32m   snapshot-controller  Waiting for a snapshot default/c1-svm0-nfs-pvc-1-snap-1 to be created by the CSI driver.\n",
      "  Normal  SnapshotCreated   32m   snapshot-controller  Snapshot default/c1-svm0-nfs-pvc-1-snap-1 was successfully created by the CSI driver.\n",
      "  Normal  SnapshotReady     32m   snapshot-controller  Snapshot default/c1-svm0-nfs-pvc-1-snap-1 is \u001b[01;31m\u001b[Kready to use\u001b[m\u001b[K.\n"
     ]
    }
   ],
   "source": [
    "kubectl describe volumesnapshots c1-svm0-nfs-pvc-1-snap-1 |grep -C5 -i 'ready to use'\n"
   ]
  },
  {
   "cell_type": "markdown",
   "metadata": {},
   "source": [
    "Sample output:\n",
    "```\n",
    "Name: c1-svm0-nfs-pvc-1-snap-1\n",
    "Namespace: default\n",
    "Labels: <none>\n",
    "Annotations: <none>\n",
    "API Version: snapshot.storage.k8s.io/v1\n",
    "Kind: VolumeSnapshot\n",
    "Metadata:\n",
    "Creation Timestamp: 2024-11-19T20:43:52Z\n",
    "Finalizers:\n",
    "snapshot.storage.kubernetes.io/volumesnapshot-as-source-protection\n",
    "snapshot.storage.kubernetes.io/volumesnapshot-bound-protection\n",
    "Generation: 1\n",
    "Resource Version: 205488\n",
    "UID: cff5a387-6d10-4616-a9c2-de6b9a9d268d\n",
    "Spec:\n",
    "Source:\n",
    "Persistent Volume Claim Name: c1-svm0-nfs-pvc-1\n",
    "Volume Snapshot Class Name: csi-snap-class\n",
    "Status:\n",
    "Bound Volume Snapshot Content Name: snapcontent-cff5a387-6d10-4616-a9c2-de6b9a9d268d\n",
    "Creation Time: 2024-11-19T20:44:55Z\n",
    "Ready To Use: true\n",
    "Restore Size: 272Ki\n",
    "Events:\n",
    "Type Reason Age From Message\n",
    "---- ------ ---- ---- -------\n",
    "Warning GetSnapshotClassFailed 3m45s snapshot-controller Failed to get snapshot class with error\n",
    "volumesnapshotclass.snapshot.storage.k8s.io \"csi-snap-class\" not found\n",
    "Normal CreatingSnapshot 2m44s snapshot-controller Waiting for a snapshot default/c1-svm0-\n",
    "nfs-pvc-1-snap-1 to be created by the CSI driver.\n",
    "Normal SnapshotCreated 2m43s snapshot-controller Snapshot default/c1-svm0-nfs-pvc-1-\n",
    "snap-1 was successfully created by the CSI driver.\n",
    "Normal SnapshotReady 2m43s snapshot-controller Snapshot default/c1-svm0-nfs-pvc-1-\n",
    "snap-1 is ready to use.\n",
    "```"
   ]
  },
  {
   "cell_type": "markdown",
   "metadata": {},
   "source": [
    "---"
   ]
  },
  {
   "cell_type": "markdown",
   "metadata": {},
   "source": [
    "Use the following defintions to complete a PVC in the [exercise4Task1-8.yaml](./exercise4Task1-8.yaml) file, \n",
    "\n",
    "and save it as **exercise4Task1-8mod.yaml**\n",
    "\n",
    "then execute the YAML:\n",
    "  \n",
    "  - Metadata name: c1-svm0-nfs-pvcsnap-1\n",
    "  - Spec:\n",
    "    - accessModes: ReadWriteOnce\n",
    "    - resource requests storage: 1Gi\n",
    "    - storageClassName: c1-svm0-nfs-sc\n",
    "    - dataSource:\n",
    "      - name: c1-svm0-nfs-pvc-1-snap-1\n",
    "      - kind: VolumeSnapshot\n",
    "      - apiGroup: snapshot.storage.k8s.io\n",
    "\n",
    "**OR**\n",
    "\n",
    "in dot notation:\n",
    "\n",
    "```\n",
    "metadata.name: c1-svm0-nfs-pvcsnap-1\n",
    "metadata.namespace: default\n",
    "spec.accessModes[0]: ReadWriteOnce\n",
    "spec.resources.requests.storage: 1Gi\n",
    "spec.storageClassName: c1-svm0-nfs-sc\n",
    "spec.dataSource.name: c1-svm0-nfs-pvc-1-snap-1\n",
    "spec.dataSource.kind: VolumeSnapshot\n",
    "spec.dataSource.apiGroup: snapshot.storage.k8s.io\n",
    "```\n",
    "\n",
    "<details> <summary>Solution </summary>\n",
    "\n",
    "[exercise4Task1-8.yaml](./Solutions/exercise4Task1-8.yaml)\n",
    "\n",
    "```yaml\n",
    "kind: PersistentVolumeClaim\n",
    "apiVersion: v1\n",
    "metadata:\n",
    "  name: c1-svm0-nfs-pvcsnap-1\n",
    "  namespace: default\n",
    "spec:\n",
    "  accessModes:\n",
    "    - ReadWriteOnce\n",
    "  resources:\n",
    "    requests:\n",
    "      storage: 1Gi\n",
    "  storageClassName: c1-svm0-nfs-sc\n",
    "  dataSource:\n",
    "    name: c1-svm0-nfs-pvc-1-snap-1\n",
    "    kind: VolumeSnapshot\n",
    "    apiGroup: snapshot.storage.k8s.io"
   ]
  },
  {
   "cell_type": "markdown",
   "metadata": {},
   "source": [
    "---"
   ]
  },
  {
   "cell_type": "code",
   "execution_count": 18,
   "metadata": {
    "vscode": {
     "languageId": "shellscript"
    }
   },
   "outputs": [
    {
     "name": "stdout",
     "output_type": "stream",
     "text": [
      "persistentvolumeclaim/c1-svm0-nfs-pvcsnap-1 created\n"
     ]
    }
   ],
   "source": [
    "kubectl create -f exercise4Task1-8mod.yaml"
   ]
  },
  {
   "cell_type": "markdown",
   "metadata": {},
   "source": [
    "Verify that you created the PVC:\n"
   ]
  },
  {
   "cell_type": "code",
   "execution_count": 19,
   "metadata": {
    "vscode": {
     "languageId": "shellscript"
    }
   },
   "outputs": [
    {
     "name": "stdout",
     "output_type": "stream",
     "text": [
      "NAME                       STATUS   VOLUME                                     CAPACITY   ACCESS MODES   STORAGECLASS            VOLUMEATTRIBUTESCLASS   AGE\n",
      "c1-svm0-nfs-custom-pvc-1   Bound    pvc-0a43a259-011b-4044-9ffa-230e7310f378   1Gi        RWO            c1-svm0-nfs-custom-sc   <unset>                 12h\n",
      "c1-svm0-nfs-eco-pvc-1      Bound    pvc-bcdaaa4b-b291-4454-bc51-d46d070a9dda   1Gi        RWO            c1-svm0-nfs-eco-sc      <unset>                 9h\n",
      "c1-svm0-nfs-eco-pvc-2      Bound    pvc-17c32847-b2f4-4e88-a88c-605a2b5d9f0a   1Gi        RWO            c1-svm0-nfs-eco-sc      <unset>                 9h\n",
      "c1-svm0-nfs-pvc-1          Bound    pvc-c06ed368-dd15-45c1-bb53-7ff66c8c40f8   1Gi        RWO            c1-svm0-nfs-sc          <unset>                 28h\n",
      "c1-svm0-nfs-pvcsnap-1      Bound    pvc-de4de6ba-e2c2-4a57-8333-9ba8f2580ece   1Gi        RWO            c1-svm0-nfs-sc          <unset>                 8s\n",
      "c1-svm1-iscsi-pvc-1        Bound    pvc-cb4cfb2f-914d-4848-9c86-3258dc646599   1Gi        RWO            c1-svm1-iscsi-sc        <unset>                 16h\n",
      "c1-svm1-nvme-pvc-1         Bound    pvc-83e83278-1e05-4635-91bb-2c9f4bbb6a90   1Gi        RWO            c1-svm1-nvme-sc         <unset>                 9h\n",
      "manual-nfs-pvc             Bound    manual-nfs-pv                              1Gi        RWO,ROX,RWX                            <unset>                 36h\n"
     ]
    }
   ],
   "source": [
    "kubectl -n default get pvc\n"
   ]
  },
  {
   "cell_type": "markdown",
   "metadata": {},
   "source": [
    "Sample output:\n",
    "```\n",
    "NAME                  STATUS    VOLUME                 CAPACITY ACCESS MODES STORAGECLASS VOLUMEATTRIBUT…\n",
    "…\n",
    "c1-svm0-nfs-pvc-1     Bound     pvc-5ea27d4            1Gi      RWO          c1-svm0-nfs-sc <unset>\n",
    "c1-svm0-nfs-pvcsnap-1 Bound     pvc-af67c22            1Gi      RWO          c1-svm0-nfs-sc <unset>\n",
    "\n"
   ]
  },
  {
   "cell_type": "markdown",
   "metadata": {},
   "source": [
    "---"
   ]
  },
  {
   "cell_type": "markdown",
   "metadata": {},
   "source": [
    "Describe the PVC that you created:\n"
   ]
  },
  {
   "cell_type": "code",
   "execution_count": 20,
   "metadata": {
    "vscode": {
     "languageId": "shellscript"
    }
   },
   "outputs": [
    {
     "name": "stdout",
     "output_type": "stream",
     "text": [
      "Name:          c1-svm0-nfs-pvcsnap-1\n",
      "Namespace:     default\n",
      "StorageClass:  c1-svm0-nfs-sc\n",
      "Status:        Bound\n",
      "Volume:        pvc-de4de6ba-e2c2-4a57-8333-9ba8f2580ece\n",
      "Labels:        <none>\n",
      "Annotations:   pv.kubernetes.io/bind-completed: yes\n",
      "               pv.kubernetes.io/bound-by-controller: yes\n",
      "               volume.beta.kubernetes.io/storage-provisioner: csi.trident.netapp.io\n",
      "               volume.kubernetes.io/storage-provisioner: csi.trident.netapp.io\n",
      "Finalizers:    [kubernetes.io/pvc-protection]\n",
      "Capacity:      1Gi\n",
      "Access Modes:  RWO\n",
      "VolumeMode:    Filesystem\n",
      "DataSource:\n",
      "  APIGroup:  snapshot.storage.k8s.io\n",
      "  Kind:      VolumeSnapshot\n",
      "  Name:      c1-svm0-nfs-pvc-1-snap-1\n",
      "Used By:     <none>\n",
      "Events:\n",
      "  Type    Reason                 Age   From                                                                                            Message\n",
      "  ----    ------                 ----  ----                                                                                            -------\n",
      "  Normal  Provisioning           39s   csi.trident.netapp.io_trident-controller-66b97d5f8d-56mdj_e68e9deb-5a4f-4d32-a003-b663b7367f84  External provisioner is provisioning volume for claim \"default/c1-svm0-nfs-pvcsnap-1\"\n",
      "  Normal  ExternalProvisioning   39s   persistentvolume-controller                                                                     Waiting for a volume to be created either by the external provisioner 'csi.trident.netapp.io' or manually by the system administrator. If volume creation is delayed, please verify that the provisioner is running and correctly registered.\n",
      "  Normal  ProvisioningSuccess    35s   csi.trident.netapp.io                                                                           provisioned a volume\n",
      "  Normal  ProvisioningSucceeded  35s   csi.trident.netapp.io_trident-controller-66b97d5f8d-56mdj_e68e9deb-5a4f-4d32-a003-b663b7367f84  Successfully provisioned volume pvc-de4de6ba-e2c2-4a57-8333-9ba8f2580ece\n"
     ]
    }
   ],
   "source": [
    "kubectl -n default describe pvc c1-svm0-nfs-pvcsnap-1\n"
   ]
  },
  {
   "cell_type": "markdown",
   "metadata": {},
   "source": [
    "---"
   ]
  },
  {
   "cell_type": "markdown",
   "metadata": {},
   "source": [
    "NOTE:\n",
    "\n",
    "For this operation of creating a PVC based upon an ONTAP Snapshot copy, the ONTAP cluster requires a NetApp FlexClone license. \n",
    "\n",
    "The PVC status would be pending until you install the FlexClone license.\n"
   ]
  },
  {
   "cell_type": "markdown",
   "metadata": {},
   "source": [
    "---"
   ]
  },
  {
   "cell_type": "markdown",
   "metadata": {},
   "source": [
    "Create a pod manifest similar to [exercise3Task4-1.yaml](../Exercise%203/exercise3Task4-1.yaml), \n",
    "\n",
    "name the new definition **exercise4Task1-9mod.yaml**, \n",
    "\n",
    "and enter the following attributes:\n",
    "  - Metadata name: nfs-snap-pod\n",
    "  - Metadata label: app: nfs-snap-web\n",
    "  - Spec volumes persistentVolumeClaim claimName: nfs-snap\n",
    "\n",
    "Execute the new pod definition.\n",
    "\n",
    "<details> <summary>Solution </summary> \n",
    "\n",
    "[exercise4Task1-9.yaml](./Solutions/exercise4Task1-9.yaml)\n",
    " ```yaml"
   ]
  },
  {
   "cell_type": "markdown",
   "metadata": {},
   "source": [
    "---"
   ]
  },
  {
   "cell_type": "code",
   "execution_count": 21,
   "metadata": {
    "vscode": {
     "languageId": "shellscript"
    }
   },
   "outputs": [
    {
     "name": "stdout",
     "output_type": "stream",
     "text": [
      "pod/nfs-snap-pod created\n"
     ]
    }
   ],
   "source": [
    "kubectl create -f exercise4Task1-9mod.yaml"
   ]
  },
  {
   "cell_type": "markdown",
   "metadata": {},
   "source": [
    "CHALLENGE STEP: \n",
    "\n",
    "Create a NodePort and view your custom webpage. \n",
    "\n",
    "If desired, you can change the custom webpage to differentiate it from the previous exercise’s NFS-backed pod.\n",
    "\n",
    "See [exercise4Task1-10.yaml](./Solutions/exercise4Task1-10.yaml) for assistance.\n",
    "\n"
   ]
  },
  {
   "cell_type": "markdown",
   "metadata": {},
   "source": [
    "---"
   ]
  },
  {
   "cell_type": "markdown",
   "metadata": {},
   "source": [
    "CHALLENGE STEP: \n",
    "\n",
    "Edit [exercise4Task1-7.yaml](exercise4Task1-7.yaml) for the SAN-backed PVC and pod. \n",
    "\n",
    "You can find solutions in the \n",
    "\n",
    "\n",
    "[exercise4Task1-11.yaml](./Solutions/exercise4Task1-11.yaml)\n",
    "\n",
    "[exercise4Task1-12.yaml](./Solutions/exercise4Task1-12.yaml)\n",
    "\n",
    "[exercise4Task1-13.yaml](./Solutions/exercise4Task1-13.yaml)\n",
    "\n",
    "[exercise4Task1-14.yaml](./Solutions/exercise4Task1-14.yaml)\n"
   ]
  },
  {
   "cell_type": "markdown",
   "metadata": {},
   "source": [
    "---\n",
    "---\n"
   ]
  },
  {
   "cell_type": "markdown",
   "metadata": {},
   "source": [
    "#### Task 2: Restore Snapshot data\n",
    "\n",
    "In this task, you will restore snapshot data of a NFS-attached persistent volume. \n",
    "\n",
    "Take note that in the [exercise3Task3.yaml](../Exercise%203/exercise3Task3.yaml) file, there is an annotation that reveals the snapshot directory, which is not visible by default.\n"
   ]
  },
  {
   "cell_type": "markdown",
   "metadata": {},
   "source": [
    "---"
   ]
  },
  {
   "cell_type": "markdown",
   "metadata": {},
   "source": [
    "Identify the name of PV volume used for the PVC of the nfs-pod.\n"
   ]
  },
  {
   "cell_type": "markdown",
   "metadata": {},
   "source": [
    "---"
   ]
  },
  {
   "cell_type": "markdown",
   "metadata": {},
   "source": [
    "Verify that the nfs-pod still exists:\n"
   ]
  },
  {
   "cell_type": "code",
   "execution_count": 23,
   "metadata": {
    "vscode": {
     "languageId": "shellscript"
    }
   },
   "outputs": [
    {
     "name": "stdout",
     "output_type": "stream",
     "text": [
      "NAME      READY   STATUS    RESTARTS   AGE\n",
      "nfs-pod   1/1     Running   0          24h\n"
     ]
    }
   ],
   "source": [
    "kubectl -n default get pod nfs-pod\n",
    "\n"
   ]
  },
  {
   "cell_type": "markdown",
   "metadata": {},
   "source": [
    "NOTE: \n",
    "\n",
    "If it doesn’t exists, please recreate it by using [exercise3Task4-1.yaml](../Exercise%203/exercise3Task4-1mod.yaml) file.\n"
   ]
  },
  {
   "cell_type": "markdown",
   "metadata": {},
   "source": [
    "---"
   ]
  },
  {
   "cell_type": "markdown",
   "metadata": {},
   "source": [
    "Verify that the nfs-web service still exists:\n"
   ]
  },
  {
   "cell_type": "code",
   "execution_count": 24,
   "metadata": {
    "vscode": {
     "languageId": "shellscript"
    }
   },
   "outputs": [
    {
     "name": "stdout",
     "output_type": "stream",
     "text": [
      "NAME      TYPE       CLUSTER-IP     EXTERNAL-IP   PORT(S)        AGE\n",
      "nfs-web   NodePort   10.104.74.17   <none>        80:32738/TCP   28h\n"
     ]
    }
   ],
   "source": [
    "kubectl -n default get services nfs-web\n"
   ]
  },
  {
   "cell_type": "markdown",
   "metadata": {},
   "source": [
    "NOTE: \n",
    "\n",
    "If it doesn’t exists, please recreate it by using [exercise3Task4-2.yaml](../Exercise%203/exercise3Task4-2.yaml) file.\n"
   ]
  },
  {
   "cell_type": "markdown",
   "metadata": {},
   "source": [
    "---"
   ]
  },
  {
   "cell_type": "markdown",
   "metadata": {},
   "source": [
    "Open a browser to one of the Kubernetes cluster node IP addresses and the NodePort\n",
    "referenced in the previous step. \n",
    "\n",
    "`For example: http://192.168.0.62:31319`. \n",
    "\n",
    "You should see you index.html you created previously in the browser.\n"
   ]
  },
  {
   "cell_type": "code",
   "execution_count": 25,
   "metadata": {
    "vscode": {
     "languageId": "shellscript"
    }
   },
   "outputs": [
    {
     "name": "stdout",
     "output_type": "stream",
     "text": [
      "http://kubwor1-1:32738\n"
     ]
    }
   ],
   "source": [
    "nodeport=$(kubectl -n default describe service nfs-web|grep -oP 'NodePort:\\s+<unset>\\s+\\K\\d+')\n",
    "\n",
    "echo \"http://kubwor1-1:$nodeport\""
   ]
  },
  {
   "cell_type": "markdown",
   "metadata": {},
   "source": [
    "---"
   ]
  },
  {
   "cell_type": "markdown",
   "metadata": {},
   "source": [
    "Connect to the pod:\n"
   ]
  },
  {
   "cell_type": "markdown",
   "metadata": {
    "vscode": {
     "languageId": "shellscript"
    }
   },
   "source": [
    "`kubectl -n default exec -it nfs-pod -- /bin/sh\n",
    "`"
   ]
  },
  {
   "cell_type": "markdown",
   "metadata": {},
   "source": [
    "---"
   ]
  },
  {
   "cell_type": "markdown",
   "metadata": {},
   "source": [
    "Change the directory to the Trident persistent volume:\n",
    "\n",
    "`# cd /usr/share/nginx/html`"
   ]
  },
  {
   "cell_type": "markdown",
   "metadata": {},
   "source": [
    "---"
   ]
  },
  {
   "cell_type": "markdown",
   "metadata": {},
   "source": [
    "Update file in the current directory:\n",
    "\n",
    "`# echo '<html><body>Creating the file</body></html>' > index.html\n",
    "`"
   ]
  },
  {
   "cell_type": "markdown",
   "metadata": {},
   "source": [
    "---"
   ]
  },
  {
   "cell_type": "code",
   "execution_count": null,
   "metadata": {
    "vscode": {
     "languageId": "shellscript"
    }
   },
   "outputs": [],
   "source": [
    "kubectl -n default exec -it nfs-pod -- /bin/sh -c \"echo '<html><body>Creating the file</body></html>' > /usr/share/nginx/html/index.html\""
   ]
  },
  {
   "cell_type": "markdown",
   "metadata": {},
   "source": [
    "Display the webpage and verify the webpage contains your updated message using the\n",
    "nodeport service.\n",
    "\n",
    "You may need to refresh the page to remove any cached pages"
   ]
  },
  {
   "cell_type": "code",
   "execution_count": 28,
   "metadata": {
    "vscode": {
     "languageId": "shellscript"
    }
   },
   "outputs": [
    {
     "name": "stdout",
     "output_type": "stream",
     "text": [
      "http://kubwor1-1:32738\n"
     ]
    }
   ],
   "source": [
    "nodeport=$(kubectl -n default describe service nfs-web|grep -oP 'NodePort:\\s+<unset>\\s+\\K\\d+')\n",
    "\n",
    "echo \"http://kubwor1-1:$nodeport\""
   ]
  },
  {
   "cell_type": "markdown",
   "metadata": {},
   "source": [
    "---"
   ]
  },
  {
   "cell_type": "markdown",
   "metadata": {},
   "source": [
    "Create another snapshot with containing the newly created index.html file:\n"
   ]
  },
  {
   "cell_type": "code",
   "execution_count": 29,
   "metadata": {
    "vscode": {
     "languageId": "shellscript"
    }
   },
   "outputs": [
    {
     "name": "stdout",
     "output_type": "stream",
     "text": [
      "volumesnapshot.snapshot.storage.k8s.io/c1-svm0-nfs-pvc-1-snap-2 created\n"
     ]
    }
   ],
   "source": [
    "kubectl create -f exercise4Task2.yaml"
   ]
  },
  {
   "cell_type": "markdown",
   "metadata": {},
   "source": [
    "Update file in the current directory:\n",
    "\n",
    "`# echo '<html><body>Updating the file</body></html>' > index.html\n",
    "`"
   ]
  },
  {
   "cell_type": "code",
   "execution_count": 30,
   "metadata": {
    "vscode": {
     "languageId": "shellscript"
    }
   },
   "outputs": [],
   "source": [
    "kubectl -n default exec -it nfs-pod -- /bin/sh -c \"echo '<html><body>Updating the file</body></html>' > /usr/share/nginx/html/index.html\""
   ]
  },
  {
   "cell_type": "markdown",
   "metadata": {},
   "source": [
    "---"
   ]
  },
  {
   "cell_type": "markdown",
   "metadata": {},
   "source": [
    "Display the webpage and verify the webpage contains your updated message using the\n",
    "nodeport service.\n"
   ]
  },
  {
   "cell_type": "code",
   "execution_count": 31,
   "metadata": {
    "vscode": {
     "languageId": "shellscript"
    }
   },
   "outputs": [
    {
     "name": "stdout",
     "output_type": "stream",
     "text": [
      "http://kubwor1-1:32738\n"
     ]
    }
   ],
   "source": [
    "nodeport=$(kubectl -n default describe service nfs-web|grep -oP 'NodePort:\\s+<unset>\\s+\\K\\d+')\n",
    "\n",
    "echo \"http://kubwor1-1:$nodeport\""
   ]
  },
  {
   "cell_type": "markdown",
   "metadata": {},
   "source": [
    "---"
   ]
  },
  {
   "cell_type": "markdown",
   "metadata": {},
   "source": [
    "List the hidden snapshot directory in the /usr/share/nginx/html path:\n",
    "\n",
    "`# ls .snapshot\n",
    "`\n",
    "\n",
    "Sample output:\n",
    "```\n",
    "snapshot-49593425-ece8-4874-9e1c-733d7218ae2d\n",
    "```"
   ]
  },
  {
   "cell_type": "code",
   "execution_count": 38,
   "metadata": {
    "vscode": {
     "languageId": "shellscript"
    }
   },
   "outputs": [
    {
     "name": "stdout",
     "output_type": "stream",
     "text": [
      "total 8\n",
      "drwxrwxrwx    2 nobody   nobody        4096 Mar 27 23:07 \u001b[1;34msnapshot-55376c02-0a40-4223-9686-c1a50ed6d2cb\u001b[m\n",
      "drwxrwxrwx    2 nobody   nobody        4096 Mar 27 23:07 \u001b[1;34msnapshot-7a949c76-5f27-4264-a766-60faeb9bf8d2\u001b[m\n"
     ]
    }
   ],
   "source": [
    "kubectl -n default exec -it nfs-pod -- /bin/sh -c \"ls -l /usr/share/nginx/html/.snapshot\""
   ]
  },
  {
   "cell_type": "markdown",
   "metadata": {},
   "source": [
    "---"
   ]
  },
  {
   "cell_type": "markdown",
   "metadata": {},
   "source": [
    "Change directory into the Snapshot copy created in the previous task (your snapshot name will\n",
    "vary):\n",
    "\n",
    "`# cd .snapshot/snapshot-49593425-ece8-4874-9e1c-733d7218ae2d\n",
    "`"
   ]
  },
  {
   "cell_type": "markdown",
   "metadata": {},
   "source": [
    "---"
   ]
  },
  {
   "cell_type": "markdown",
   "metadata": {},
   "source": [
    "Verify you have access to the previous version of the index.html:\n",
    "\n",
    "`# cat index.html\n",
    "`\n",
    "\n",
    "NOTE:\n",
    "\n",
    "The original message should be in the html page: Creating the file.\n"
   ]
  },
  {
   "cell_type": "code",
   "execution_count": 71,
   "metadata": {
    "vscode": {
     "languageId": "shellscript"
    }
   },
   "outputs": [],
   "source": [
    "snap1=$(kubectl -n default exec -it nfs-pod -- /bin/sh -c \"ls /usr/share/nginx/html/.snapshot\"|awk 'NR==1{print $1}'); file1=\"/usr/share/nginx/html/$snap1/index.html\""
   ]
  },
  {
   "cell_type": "code",
   "execution_count": 81,
   "metadata": {
    "vscode": {
     "languageId": "shellscript"
    }
   },
   "outputs": [
    {
     "name": "stdout",
     "output_type": "stream",
     "text": [
      "/index.htmlnginx/html/\u001b[1;34msnapshot-55376c02-0a40-4223-9686-c1a50ed6d2cb\u001b[m\n"
     ]
    }
   ],
   "source": [
    "file1=\"/usr/share/nginx/html/${snap1}/index.html\"; echo \"${file1}\"; #kubectl -n default exec -it nfs-pod -- /bin/sh -c \"cat $file1\""
   ]
  },
  {
   "cell_type": "code",
   "execution_count": 78,
   "metadata": {
    "vscode": {
     "languageId": "shellscript"
    }
   },
   "outputs": [
    {
     "name": "stdout",
     "output_type": "stream",
     "text": [
      "\u001b[1;34msnapshot-55376c02-0a40-4223-9686-c1a50ed6d2cb\u001b[m\n",
      "/index.htmlnginx/html/\u001b[1;34msnapshot-55376c02-0a40-4223-9686-c1a50ed6d2cb\u001b[m\n"
     ]
    }
   ],
   "source": [
    "echo \"$snap1\" ; file1=\"/usr/share/nginx/html/${snap1}/index.html\"; echo \"$file1\""
   ]
  },
  {
   "cell_type": "code",
   "execution_count": 43,
   "metadata": {
    "vscode": {
     "languageId": "shellscript"
    }
   },
   "outputs": [
    {
     "name": "stdout",
     "output_type": "stream",
     "text": [
      "/usr/share/nginx/html/.snapshot//index.html\n"
     ]
    }
   ],
   "source": [
    "kubectl -n default exec -it nfs-pod -- /bin/sh -c 'echo \"/usr/share/nginx/html/.snapshot/$snap1/index.html\"'"
   ]
  },
  {
   "cell_type": "markdown",
   "metadata": {},
   "source": [
    "---"
   ]
  },
  {
   "cell_type": "markdown",
   "metadata": {},
   "source": [
    "Copy the previous version to the active file system:\n",
    "# cp index.html ../../index.html\n",
    "2-16 Verify the webpage as updated to the first custom message.\n",
    "2-17 CHALLENGE STEP: Change the message again in the index.html file. Restore the entire\n",
    "volume using Snapshot restore.\n",
    "Task 3: Import an external Snapshot copy\n",
    "In this task, you will import a snapshot copy taken outside of Trident and provide it as volume snapshot\n",
    "in the Kubernetes cluster.\n",
    "Step Action\n",
    "3-1 Using System Manager or the ONTAP CLI, create a snapshot named snap.1 for\n",
    "Cluster1_default_c1_svm0_nfs-custom_pvc_1_c1_svm0_nfs_custom_tbe_[unique id] volume.\n",
    "3-2 In the exercise4Task3-1.yaml file, replace the change_me in the snapshotHandle field\n",
    "with the name of the Persistent Volume (PV) associated with volume used in the previous step.NetApp Learning Services "
   ]
  }
 ],
 "metadata": {
  "kernelspec": {
   "display_name": "Bash",
   "language": "bash",
   "name": "bash"
  },
  "language_info": {
   "codemirror_mode": "shell",
   "file_extension": ".sh",
   "mimetype": "text/x-sh",
   "name": "bash"
  }
 },
 "nbformat": 4,
 "nbformat_minor": 2
}
