{
 "cells": [
  {
   "cell_type": "markdown",
   "metadata": {},
   "source": [
    "# Module 2: Trident Installation\n",
    "\n",
    "## Exercise 1: Installing Trident\n",
    "\n",
    "In this exercise, you install NetApp Trident by using the manual operator method. \n",
    "\n",
    "You can also use Helm or the tridentctl method to install the Trident operator, but this exercise does not discuss\n",
    "these other approaches.\n",
    "\n",
    "**Objectives**\n",
    "\n",
    "This exercise focuses on enabling you to do the following:\n",
    "\n",
    "  - Download and set up the Trident operator\n",
    "  - Deploy instances of Trident\n",
    "  - Set up the tridentctl tool\n",
    "  - Prepare worker nodes"
   ]
  },
  {
   "cell_type": "markdown",
   "metadata": {},
   "source": [
    "**Exercise Equipment**\n",
    "\n",
    "In this exercise, you use the following systems.\n",
    "\n",
    "| System                  | Host Name   | IP Addresses   | User Name (case sensitive) | Password  |\n",
    "|-------------------------|-------------|----------------|----------------------------|-----------|\n",
    "| Linux Mint 20           | jumphost    | 192.168.0.5    | user                       | Netapp1!  |\n",
    "| Kubernetes Control Plane| kubmas1-1   | 192.168.0.61   | root                       | Netapp1!  |\n",
    "| Kubernetes Worker 1     | kubwor1-1   | 192.168.0.62   | root                       | Netapp1!  |\n",
    "| Kubernetes Worker 2     | kubwor1-2   | 192.168.0.63   | root                       | Netapp1!  |\n",
    "| Kubernetes Worker 3     | kubwor1-3   | 192.168.0.64   | root                       | Netapp1!  |"
   ]
  },
  {
   "cell_type": "markdown",
   "metadata": {},
   "source": [
    "**Prerequisites**\n",
    "\n",
    "Before starting this exercise, you should take the following actions:\n",
    "\n",
    "  -  Set up your Integrated Development Environment (IDE)\n",
    "  -  Download the courseware GIT repository\n",
    "  -  Configure your IDE to have access to your Kubernetes clusters\n",
    "  -  Create svm0\n",
    "  -  Configure svm0 to use the NFS v3 protocol\n"
   ]
  },
  {
   "cell_type": "markdown",
   "metadata": {},
   "source": [
    "---\n",
    "---"
   ]
  },
  {
   "cell_type": "markdown",
   "metadata": {},
   "source": [
    "\n",
    "#### Task 1: Download and set Up the Trident operator\n",
    "\n",
    "In this task, you verify that you can access the Kubernetes cluster, \n",
    "\n",
    "and you download and set up the Trident operator.\n"
   ]
  },
  {
   "cell_type": "markdown",
   "metadata": {},
   "source": [
    "---"
   ]
  },
  {
   "cell_type": "markdown",
   "metadata": {},
   "source": [
    "If desired, you can follow along with this exercise on the Trident operator deployment:\n",
    "\n",
    "https://docs.netapp.com/us-en/trident/trident-get-started/kubernetes-deploy-operator.html#deploy-the-trident-operator-manually "
   ]
  },
  {
   "cell_type": "markdown",
   "metadata": {},
   "source": [
    "---"
   ]
  },
  {
   "cell_type": "markdown",
   "metadata": {},
   "source": [
    "Verify that you have administrative access to the Kubernetes cluster:\n"
   ]
  },
  {
   "cell_type": "code",
   "execution_count": null,
   "metadata": {
    "vscode": {
     "languageId": "shellscript"
    }
   },
   "outputs": [],
   "source": [
    "kubectl auth can-i '*' '*' --all-namespaces\n"
   ]
  },
  {
   "cell_type": "markdown",
   "metadata": {},
   "source": [
    "---"
   ]
  },
  {
   "cell_type": "markdown",
   "metadata": {},
   "source": [
    "In a future exercise, you implement Container Storage Interface (CSI) topologies. \n",
    "\n",
    "To support this effort, you apply different labels to each worker node. \n",
    "\n",
    "These labels should be present on the nodes in the cluster before you install Trident. \n",
    "\n",
    "The labels enable Trident to be topology-aware.\n"
   ]
  },
  {
   "cell_type": "markdown",
   "metadata": {},
   "source": [
    "---"
   ]
  },
  {
   "cell_type": "markdown",
   "metadata": {},
   "source": [
    "Label Worker 1 as Zone 1 and a region (for convenience, see [exercise2Task1-1.txt](./exercise2Task1-1.txt)):\n",
    "\n"
   ]
  },
  {
   "cell_type": "code",
   "execution_count": null,
   "metadata": {
    "vscode": {
     "languageId": "shellscript"
    }
   },
   "outputs": [],
   "source": [
    "kubectl label node kubwor1-1 topology.kubernetes.io/region=trident topology.kubernetes.io/zone=zone1\n"
   ]
  },
  {
   "cell_type": "markdown",
   "metadata": {},
   "source": [
    "---"
   ]
  },
  {
   "cell_type": "markdown",
   "metadata": {},
   "source": [
    "Label Worker 2 as Zone 2 and a region (for convenience, see [exercise2Task1-2.txt](./exercise2Task1-2.txt)):\n",
    "\n"
   ]
  },
  {
   "cell_type": "code",
   "execution_count": null,
   "metadata": {
    "vscode": {
     "languageId": "shellscript"
    }
   },
   "outputs": [],
   "source": [
    "kubectl label node kubwor1-2 topology.kubernetes.io/region=trident topology.kubernetes.io/zone=zone2"
   ]
  },
  {
   "cell_type": "markdown",
   "metadata": {},
   "source": [
    "---"
   ]
  },
  {
   "cell_type": "markdown",
   "metadata": {},
   "source": [
    "Label Worker 3 as Zone 3 and a region (for convenience, see [exercise2Task1-3.txt](./exercise2Task1-3.txt)):\n"
   ]
  },
  {
   "cell_type": "code",
   "execution_count": null,
   "metadata": {
    "vscode": {
     "languageId": "shellscript"
    }
   },
   "outputs": [],
   "source": [
    "kubectl label node kubwor1-3 topology.kubernetes.io/region=trident topology.kubernetes.io/zone=zone3"
   ]
  },
  {
   "cell_type": "markdown",
   "metadata": {},
   "source": [
    "---"
   ]
  },
  {
   "cell_type": "markdown",
   "metadata": {},
   "source": [
    "Use a web browser to navigate to https://github.com/Netapp/trident/releases."
   ]
  },
  {
   "cell_type": "markdown",
   "metadata": {},
   "source": [
    "---"
   ]
  },
  {
   "cell_type": "markdown",
   "metadata": {},
   "source": [
    "Identify the latest version of Trident at the top of the page"
   ]
  },
  {
   "cell_type": "markdown",
   "metadata": {},
   "source": [
    "---"
   ]
  },
  {
   "cell_type": "markdown",
   "metadata": {},
   "source": [
    "If desired, you can download a newer version. \n",
    "\n",
    "However, this exercise is not tested with any version other than 24.10.0. \n",
    "\n",
    "If you want to work with this version of the exercise, you can find the tar.gz file in the Exercise 2 folder in your class files.\n"
   ]
  },
  {
   "cell_type": "markdown",
   "metadata": {},
   "source": [
    "---"
   ]
  },
  {
   "cell_type": "markdown",
   "metadata": {},
   "source": [
    "Verify that you are in the `./Exercise 2`"
   ]
  },
  {
   "cell_type": "code",
   "execution_count": null,
   "metadata": {
    "vscode": {
     "languageId": "shellscript"
    }
   },
   "outputs": [],
   "source": [
    "pwd"
   ]
  },
  {
   "cell_type": "markdown",
   "metadata": {},
   "source": [
    "Unzip the Trident file:\n",
    "\n"
   ]
  },
  {
   "cell_type": "code",
   "execution_count": null,
   "metadata": {
    "vscode": {
     "languageId": "shellscript"
    }
   },
   "outputs": [],
   "source": [
    "tar -xf trident-installer-24.10.0.tar.gz\n"
   ]
  },
  {
   "cell_type": "markdown",
   "metadata": {},
   "source": [
    "A new subfolder, called trident-installer, should appear under the Exercise 2 folder.\n"
   ]
  },
  {
   "cell_type": "markdown",
   "metadata": {},
   "source": [
    "---"
   ]
  },
  {
   "cell_type": "markdown",
   "metadata": {},
   "source": [
    "cd to  Exercise 2 > trident-installer folder.\n",
    "\n",
    "NOTE: This path serves as the relative path for all other paths in this task and the next task.\n"
   ]
  },
  {
   "cell_type": "code",
   "execution_count": null,
   "metadata": {
    "vscode": {
     "languageId": "shellscript"
    }
   },
   "outputs": [],
   "source": [
    "cd trident-installer\n",
    "pwd"
   ]
  },
  {
   "cell_type": "markdown",
   "metadata": {},
   "source": [
    "---"
   ]
  },
  {
   "cell_type": "markdown",
   "metadata": {},
   "source": [
    "Investigate the deploy/crds subfolder.\n"
   ]
  },
  {
   "cell_type": "code",
   "execution_count": null,
   "metadata": {
    "vscode": {
     "languageId": "shellscript"
    }
   },
   "outputs": [],
   "source": [
    "ls -l deploy/crds"
   ]
  },
  {
   "cell_type": "markdown",
   "metadata": {},
   "source": [
    "---"
   ]
  },
  {
   "cell_type": "markdown",
   "metadata": {},
   "source": [
    "The crds subfolder contains several custom resource definition (CRD) YAML files.\n",
    "\n",
    "Notice that three custom resource definitions (CRD) files with crd in the filenames\n",
    "\n",
    "and six of these custom resources files with cr in the filenames.\n"
   ]
  },
  {
   "cell_type": "markdown",
   "metadata": {},
   "source": [
    "---"
   ]
  },
  {
   "cell_type": "markdown",
   "metadata": {},
   "source": [
    "Create the CRD definitions by using the `trident.netapp.io_tridentorchestrators_crd_post1.16.yaml` file:\n"
   ]
  },
  {
   "cell_type": "code",
   "execution_count": null,
   "metadata": {
    "vscode": {
     "languageId": "shellscript"
    }
   },
   "outputs": [],
   "source": [
    "kubectl create -f deploy/crds/trident.netapp.io_tridentorchestrators_crd_post1.16.yaml\n"
   ]
  },
  {
   "cell_type": "markdown",
   "metadata": {},
   "source": [
    "---"
   ]
  },
  {
   "cell_type": "markdown",
   "metadata": {},
   "source": [
    "In the Kubernetes Extension of your IDE, you should see the\n",
    "`tridentorchestrators` CRD.\n",
    "\n",
    "Expand **Clusters**> **source-admin@source**> **Custom Resources** to view in the Kubernetes Extension.\n",
    "\n",
    "If you see an error under the tridentorchestrators CRD, click the Refresh button to\n",
    "make it disappear.\n"
   ]
  },
  {
   "cell_type": "markdown",
   "metadata": {},
   "source": [
    "---"
   ]
  },
  {
   "cell_type": "markdown",
   "metadata": {},
   "source": [
    "Create the trident namespace:\n"
   ]
  },
  {
   "cell_type": "code",
   "execution_count": null,
   "metadata": {
    "vscode": {
     "languageId": "shellscript"
    }
   },
   "outputs": [],
   "source": [
    "kubectl create -f deploy/namespace.yaml\n"
   ]
  },
  {
   "cell_type": "markdown",
   "metadata": {},
   "source": [
    "---"
   ]
  },
  {
   "cell_type": "markdown",
   "metadata": {},
   "source": [
    "Copy and rename the resulting file for the aggregated YAML “kustomized” file for Kubernetes\n",
    "version 1.25 or later (for convenience, see [exercise2Task1-4.txt](./exercise2Task1-4.txt)):\n"
   ]
  },
  {
   "cell_type": "code",
   "execution_count": null,
   "metadata": {
    "vscode": {
     "languageId": "shellscript"
    }
   },
   "outputs": [],
   "source": [
    "\n",
    "cp deploy/kustomization_post_1_25.yaml deploy/kustomization.yaml\n"
   ]
  },
  {
   "cell_type": "markdown",
   "metadata": {},
   "source": [
    "NOTE: \n",
    "\n",
    "This kustomization.yaml file runs the \n",
    "\n",
    "- serviceaccount.yaml, \n",
    "- clusterrolebinding.yaml, and the \n",
    "- operator.yaml \n",
    "\n",
    "files.\n"
   ]
  },
  {
   "cell_type": "markdown",
   "metadata": {},
   "source": [
    "---"
   ]
  },
  {
   "cell_type": "markdown",
   "metadata": {},
   "source": [
    "Create a YAML bundle that you can run (for convenience, see [exercise2Task1-5.txt](./exercise2Task1-5.txt)):\n",
    "\n"
   ]
  },
  {
   "cell_type": "code",
   "execution_count": null,
   "metadata": {
    "vscode": {
     "languageId": "shellscript"
    }
   },
   "outputs": [],
   "source": [
    "kubectl kustomize deploy/ > deploy/bundle_post_1_25.yaml"
   ]
  },
  {
   "cell_type": "markdown",
   "metadata": {},
   "source": [
    "---"
   ]
  },
  {
   "cell_type": "markdown",
   "metadata": {},
   "source": [
    "Install the operator (for convenience, see [exercise2Task1-6.txt](./exercise2Task1-6.txt)):\n",
    "\n"
   ]
  },
  {
   "cell_type": "code",
   "execution_count": null,
   "metadata": {
    "vscode": {
     "languageId": "shellscript"
    }
   },
   "outputs": [],
   "source": [
    "kubectl create -f deploy/bundle_post_1_25.yaml"
   ]
  },
  {
   "cell_type": "markdown",
   "metadata": {},
   "source": [
    "---"
   ]
  },
  {
   "cell_type": "markdown",
   "metadata": {},
   "source": [
    "Verify that you created all the objects:\n",
    "\n",
    "`kubectl -n trident get all`\n",
    "\n",
    "Sample output:\n",
    "\n",
    "```terminal\n",
    "NAME READY STATUS RESTARTS AGE\n",
    "pod/trident-operator-5c94fc5556-nlsnl 1/1 Running 0 2m7s\n",
    "NAME READY UP-TO-DATE AVAILABLE AGE\n",
    "deployment.apps/trident-operator 1/1 1 1 2m7s\n",
    "NAME DESIRED CURRENT READY AGE\n",
    "replicaset.apps/trident-operator-5c94fc5556 1 1 1 2m7s\n",
    "```"
   ]
  },
  {
   "cell_type": "code",
   "execution_count": null,
   "metadata": {
    "vscode": {
     "languageId": "shellscript"
    }
   },
   "outputs": [],
   "source": [
    "kubectl -n trident get all"
   ]
  },
  {
   "cell_type": "markdown",
   "metadata": {},
   "source": [
    "---"
   ]
  },
  {
   "cell_type": "markdown",
   "metadata": {},
   "source": [
    "A Kubernetes cluster should contain only one instance of the operator. \n",
    "\n",
    "You must not create multiple deployments of the Trident operator.\n"
   ]
  },
  {
   "cell_type": "markdown",
   "metadata": {},
   "source": [
    "---\n",
    "---"
   ]
  },
  {
   "cell_type": "markdown",
   "metadata": {},
   "source": [
    "#### Task 2: Deploy instances of Trident\n",
    "\n",
    "In this task, you use the operator to deploy Trident. \n",
    "\n",
    "This action requires you to create a `TridentOrchestrator` custom resource (CR). \n",
    "\n",
    "The Trident installer includes example definitions for creating the `TridentOrchestrator` CR. \n",
    "\n",
    "This CR starts an installation in the trident namespace.\n",
    "\n",
    "The relative path for this exercise is the Exercise 2 > trident-installer folder.\n",
    "\n"
   ]
  },
  {
   "cell_type": "markdown",
   "metadata": {},
   "source": [
    "---"
   ]
  },
  {
   "cell_type": "markdown",
   "metadata": {},
   "source": [
    "Review the [deploy/crds/tridentorchestrator_cr.yaml](./trident-installer/deploy/crds/tridentorchestrator_cr.yaml) file.\n"
   ]
  },
  {
   "cell_type": "markdown",
   "metadata": {},
   "source": [
    "---"
   ]
  },
  {
   "cell_type": "markdown",
   "metadata": {},
   "source": [
    "Create an instance of the `TridentOrchestrator` CR:\n"
   ]
  },
  {
   "cell_type": "code",
   "execution_count": null,
   "metadata": {
    "vscode": {
     "languageId": "shellscript"
    }
   },
   "outputs": [],
   "source": [
    "kubectl create -f deploy/crds/tridentorchestrator_cr.yaml\n"
   ]
  },
  {
   "cell_type": "markdown",
   "metadata": {},
   "source": [
    "---"
   ]
  },
  {
   "cell_type": "markdown",
   "metadata": {},
   "source": [
    "In the Kubernetes Extension of your IDE, you should see the trident instance\n",
    "under the `tridentorchestrators` CRD.\n"
   ]
  },
  {
   "cell_type": "markdown",
   "metadata": {},
   "source": [
    "---"
   ]
  },
  {
   "cell_type": "markdown",
   "metadata": {},
   "source": [
    "Review the details by double-clicking the trident entry in the hierarchy, or use the following\n",
    "command:\n"
   ]
  },
  {
   "cell_type": "code",
   "execution_count": null,
   "metadata": {
    "vscode": {
     "languageId": "shellscript"
    }
   },
   "outputs": [],
   "source": [
    "\n",
    "kubectl -n trident describe torc trident\n"
   ]
  },
  {
   "cell_type": "markdown",
   "metadata": {},
   "source": [
    "---"
   ]
  },
  {
   "cell_type": "markdown",
   "metadata": {},
   "source": [
    "Answer the following question:\n",
    "\n",
    "In the events section, what is the last event type and reason?\n"
   ]
  },
  {
   "cell_type": "markdown",
   "metadata": {},
   "source": [
    "---"
   ]
  },
  {
   "cell_type": "markdown",
   "metadata": {},
   "source": [
    "Verify that you created all objects:\n"
   ]
  },
  {
   "cell_type": "markdown",
   "metadata": {},
   "source": [
    "Sample output:\n",
    "\n",
    "```terminal\n",
    "NAME READY STATUS RESTARTS AGE\n",
    "pod/trident-controller-74698976f5-5d2tz 6/6 Running 0 3m16s\n",
    "pod/trident-node-linux-8t2tp 2/2 Running 2 (60s ago) 3m16s\n",
    "pod/trident-node-linux-dnbm6 2/2 Running 2 (77s ago) 3m16s\n",
    "pod/trident-node-linux-k29t7 2/2 Running 2 (76s ago) 3m16s\n",
    "pod/trident-node-linux-td97m 2/2 Running 2 (71s ago) 3m16s\n",
    "pod/trident-operator-5c94fc5556-nlsnl 1/1 Running 0 13h\n",
    "NAME TYPE CLUSTER-IP EXTERNAL-IP PORT(S)\n",
    "service/trident-csi ClusterIP 10.102.83.55 <none> 34571/TCP,9220/TCP 3\n",
    "NAME DESIRED CURRENT READY UP-TO-DATE AVAIL\n",
    "daemonset.apps/trident-node-linux 4 4 4 4 4\n",
    "NAME READY UP-TO-DATE AVAILABLE AGE\n",
    "deployment.apps/trident-controller 1/1 1 1 3m16s\n",
    "deployment.apps/trident-operator 1/1 1 1 13h\n",
    "NAME DESIRED CURRENT READY AGE\n",
    "replicaset.apps/trident-controller-74698976f5 1 1 1 3m16s\n",
    "replicaset.apps/trident-operator-5c94fc5556 1 1 1 13h\n",
    "```"
   ]
  },
  {
   "cell_type": "code",
   "execution_count": null,
   "metadata": {
    "vscode": {
     "languageId": "shellscript"
    }
   },
   "outputs": [],
   "source": [
    "kubectl -n trident get all\n"
   ]
  },
  {
   "cell_type": "markdown",
   "metadata": {},
   "source": [
    "---"
   ]
  },
  {
   "cell_type": "markdown",
   "metadata": {},
   "source": [
    "The DaemonSet `trident-node-linux` creates the four `trident-node-linux` pods. \n",
    "\n",
    "One `trident-node-linux` pod is installed on each node (including the control-plane master node). \n",
    "\n",
    "The `trident-controller` deployment creates the `trident-controller` pod, which runs on one of the worker nodes.\n"
   ]
  },
  {
   "cell_type": "markdown",
   "metadata": {},
   "source": [
    "---"
   ]
  },
  {
   "cell_type": "markdown",
   "metadata": {},
   "source": [
    "Stop the deployed Trident pods by deleting the TridentOrchestrator CR:\n"
   ]
  },
  {
   "cell_type": "code",
   "execution_count": null,
   "metadata": {
    "vscode": {
     "languageId": "shellscript"
    }
   },
   "outputs": [],
   "source": [
    "kubectl -n trident delete torc trident\n"
   ]
  },
  {
   "cell_type": "markdown",
   "metadata": {},
   "source": [
    "---"
   ]
  },
  {
   "cell_type": "markdown",
   "metadata": {},
   "source": [
    "Verify that every pod with node or controller in its name is deleted and that only the\n",
    "Trident operator is running:\n"
   ]
  },
  {
   "cell_type": "code",
   "execution_count": null,
   "metadata": {
    "vscode": {
     "languageId": "shellscript"
    }
   },
   "outputs": [],
   "source": [
    "kubectl -n trident get pods -o wide\n"
   ]
  },
  {
   "cell_type": "markdown",
   "metadata": {},
   "source": [
    "The TridentOrchestrator CR enables you to customize the Trident operator.\n",
    "\n",
    "See the following URL for more details: \n",
    "\n",
    "https://docs.netapp.com/us-en/trident/trident-get-started/kubernetes-customize-deploy.html.\n",
    "\n",
    "The “crds” subfolder contains several examples of modifications.\n"
   ]
  },
  {
   "cell_type": "markdown",
   "metadata": {},
   "source": [
    "---"
   ]
  },
  {
   "cell_type": "markdown",
   "metadata": {},
   "source": [
    "Try to run Trident only on Worker 1 and Worker 3."
   ]
  },
  {
   "cell_type": "markdown",
   "metadata": {},
   "source": [
    "---"
   ]
  },
  {
   "cell_type": "markdown",
   "metadata": {},
   "source": [
    "Create labels on two worker nodes:\n"
   ]
  },
  {
   "cell_type": "code",
   "execution_count": null,
   "metadata": {
    "vscode": {
     "languageId": "shellscript"
    }
   },
   "outputs": [],
   "source": [
    "kubectl label node kubwor1-1 storage=trident\n",
    "kubectl label node kubwor1-3 storage=trident\n"
   ]
  },
  {
   "cell_type": "markdown",
   "metadata": {},
   "source": [
    "---"
   ]
  },
  {
   "cell_type": "markdown",
   "metadata": {},
   "source": [
    "Edit the [deploy/crds/tridentorchestrator_cr.yaml](./trident-installer/deploy/crds/tridentorchestrator_cr.yaml) file to add an appropriate toleration:\n",
    "\n",
    "(see https://docs.netapp.com/us-en/trident/trident-get-started/kubernetes-customize-deploy.html)\n",
    "\n",
    " -  Definition: **nodePluginNodeSelector** \n",
    " -  Key: storage\n",
    " -  Value: trident\n",
    "\n",
    "<details> <summary>Solution  </summary>\n",
    "\n",
    "You can find the solution for this step in the [exercise2Task2-nodeselector.yaml](./Solutions/exercise2Task2-nodeselector.yaml) file.\n"
   ]
  },
  {
   "cell_type": "markdown",
   "metadata": {},
   "source": [
    "---"
   ]
  },
  {
   "cell_type": "markdown",
   "metadata": {},
   "source": [
    "Create an instance of the TridentOrchestrator CR:\n"
   ]
  },
  {
   "cell_type": "code",
   "execution_count": null,
   "metadata": {
    "vscode": {
     "languageId": "shellscript"
    }
   },
   "outputs": [],
   "source": [
    "kubectl create -f ../Solutions/exercise2Task2-nodeselector.yaml"
   ]
  },
  {
   "cell_type": "markdown",
   "metadata": {},
   "source": [
    "---"
   ]
  },
  {
   "cell_type": "markdown",
   "metadata": {},
   "source": [
    "After a few minutes, verify that the trident controller and node pods are only running on\n",
    "kubwor1-1 and kubwor1-3:\n"
   ]
  },
  {
   "cell_type": "code",
   "execution_count": null,
   "metadata": {
    "vscode": {
     "languageId": "shellscript"
    }
   },
   "outputs": [],
   "source": [
    "kubectl -n trident get pods -o wide\n"
   ]
  },
  {
   "cell_type": "code",
   "execution_count": null,
   "metadata": {
    "vscode": {
     "languageId": "shellscript"
    }
   },
   "outputs": [],
   "source": [
    "kubectl -n trident get pods -o wide\n"
   ]
  },
  {
   "cell_type": "code",
   "execution_count": null,
   "metadata": {
    "vscode": {
     "languageId": "shellscript"
    }
   },
   "outputs": [],
   "source": [
    "kubectl -n trident get pods -o wide\n"
   ]
  },
  {
   "cell_type": "markdown",
   "metadata": {},
   "source": [
    "---"
   ]
  },
  {
   "cell_type": "markdown",
   "metadata": {},
   "source": [
    "Add the label to Worker 2:\n"
   ]
  },
  {
   "cell_type": "code",
   "execution_count": null,
   "metadata": {
    "vscode": {
     "languageId": "shellscript"
    }
   },
   "outputs": [],
   "source": [
    "kubectl label node kubwor1-2 storage=trident\n"
   ]
  },
  {
   "cell_type": "markdown",
   "metadata": {},
   "source": [
    "---"
   ]
  },
  {
   "cell_type": "markdown",
   "metadata": {},
   "source": [
    "Verify which nodes trident is running on:\n"
   ]
  },
  {
   "cell_type": "code",
   "execution_count": null,
   "metadata": {
    "vscode": {
     "languageId": "shellscript"
    }
   },
   "outputs": [],
   "source": [
    "kubectl -n trident get pods -o wide\n"
   ]
  },
  {
   "cell_type": "markdown",
   "metadata": {},
   "source": [
    "---\n"
   ]
  },
  {
   "cell_type": "markdown",
   "metadata": {},
   "source": [
    "CHALLENGE STEP: \n",
    "\n",
    "You can update an existing instance of the trident CR by using a patch command. \n",
    "\n",
    "For example, if you want to turn off debug logs, use the following command:\n",
    "\n"
   ]
  },
  {
   "cell_type": "code",
   "execution_count": null,
   "metadata": {
    "vscode": {
     "languageId": "shellscript"
    }
   },
   "outputs": [],
   "source": [
    "kubectl -n trident patch torc trident --type=json -p '[{\"op\": \"replace\", \"path\": \"/spec/debug\", \"value\": \"false\"}]'\n"
   ]
  },
  {
   "cell_type": "markdown",
   "metadata": {},
   "source": [
    "---"
   ]
  },
  {
   "cell_type": "markdown",
   "metadata": {},
   "source": [
    "CHALLENGE STEP: \n",
    "\n",
    "Verify that the debug logs are off.\n"
   ]
  },
  {
   "cell_type": "markdown",
   "metadata": {},
   "source": [
    "---"
   ]
  },
  {
   "cell_type": "code",
   "execution_count": null,
   "metadata": {
    "vscode": {
     "languageId": "shellscript"
    }
   },
   "outputs": [],
   "source": [
    "kubectl -n trident describe torc trident \n"
   ]
  },
  {
   "cell_type": "markdown",
   "metadata": {},
   "source": [
    "Turn on debug logs\n",
    "\n",
    "Verify that the debug logs are on.\n"
   ]
  },
  {
   "cell_type": "code",
   "execution_count": null,
   "metadata": {
    "vscode": {
     "languageId": "shellscript"
    }
   },
   "outputs": [],
   "source": [
    "kubectl -n trident patch torc trident --type=json -p '[{\"op\": \"replace\", \"path\": \"/spec/debug\", \"value\": \"true\"}]'\n"
   ]
  },
  {
   "cell_type": "code",
   "execution_count": null,
   "metadata": {
    "vscode": {
     "languageId": "shellscript"
    }
   },
   "outputs": [],
   "source": [
    "kubectl -n trident describe torc trident \n"
   ]
  },
  {
   "cell_type": "markdown",
   "metadata": {},
   "source": [
    "---\n",
    "---"
   ]
  },
  {
   "cell_type": "markdown",
   "metadata": {},
   "source": [
    "#### Task 3: Set up the tridentctl Tool\n",
    "\n",
    "The tridentctl tool was installed when you unzipped the trident-installer file.\n"
   ]
  },
  {
   "cell_type": "markdown",
   "metadata": {},
   "source": [
    "---"
   ]
  },
  {
   "cell_type": "markdown",
   "metadata": {},
   "source": [
    "From the Exercise 2 folder, execute [exercise2Task3.sh](./exercise2Task3.sh) file from a terminal:\n"
   ]
  },
  {
   "cell_type": "code",
   "execution_count": null,
   "metadata": {
    "vscode": {
     "languageId": "shellscript"
    }
   },
   "outputs": [],
   "source": [
    "cd ~\n",
    "target_dir=$(find . -type d -name 'STRSW-ILT-UATWK*' 2>/dev/null | head -n 1)\n",
    "if [ -n \"$target_dir\" ]; then\n",
    "    cd \"$target_dir\"\n",
    "else\n",
    "    echo \"Directory not found\"\n",
    "fi\n",
    "cd .'/Exercise 2'\n",
    "\n",
    "./exercise2Task3.sh\n"
   ]
  },
  {
   "cell_type": "markdown",
   "metadata": {},
   "source": [
    "---"
   ]
  },
  {
   "cell_type": "markdown",
   "metadata": {},
   "source": [
    "Review the tridentctl subcommands:\n",
    "\n",
    "tridentctl\n",
    "\n",
    "Sample output:\n",
    "\n",
    "```terminal\n",
    "A CLI tool for managing the NetApp Trident external storage provisioner for Kubernetes\n",
    "Usage:\n",
    "tridentctl [command]\n",
    "Available Commands:\n",
    "completion Generate the autocompletion script for the specified shell\n",
    "create Add a resource to Trident\n",
    "delete Remove one or more resources from Trident\n",
    "get Get one or more resources from Trident\n",
    "help Help about any command\n",
    "images Print a table of the container images Trident needs\n",
    "import Import an existing resource to Trident\n",
    "install Install Trident\n",
    "logs Print the logs from Trident\n",
    "send Send a resource from Trident\n",
    "uninstall Uninstall Trident\n",
    "update Modify a resource in Trident\n",
    "version Print the version of Trident\n",
    "Flags:\n",
    "-d, --debug Set the log level to debug\n",
    "-h, --help help for tridentctl\n",
    "-k, --kubeconfig string Kubernetes config path\n",
    "--log-level string Log level (trace, debug, warn, info, error, fatal (default \"info\")\n",
    "-n, --namespace string Namespace of Trident deployment\n",
    "-o, --output string Output format. One of json|yaml|name|wide|ps (default)\n",
    "-s, --server string Address/port of Trident REST interface (127.0.0.1 or [::1] only)\n",
    "Use \"tridentctl [command] --help\" for more information about a command.\n"
   ]
  },
  {
   "cell_type": "code",
   "execution_count": null,
   "metadata": {
    "vscode": {
     "languageId": "shellscript"
    }
   },
   "outputs": [],
   "source": [
    "tridentctl\n"
   ]
  },
  {
   "cell_type": "markdown",
   "metadata": {},
   "source": [
    "---"
   ]
  },
  {
   "cell_type": "markdown",
   "metadata": {},
   "source": [
    "Verify which version of Trident is installed:\n",
    "tridentctl -n trident version\n",
    "\n",
    "```terminal\n",
    "Sample output:\n",
    "+----------------+----------------+\n",
    "| SERVER VERSION | CLIENT VERSION |\n",
    "+----------------+----------------+\n",
    "| 24.10.0 | 24.10.0 |\n",
    "+----------------+----------------+\n",
    "```\n"
   ]
  },
  {
   "cell_type": "code",
   "execution_count": null,
   "metadata": {
    "vscode": {
     "languageId": "shellscript"
    }
   },
   "outputs": [],
   "source": [
    "tridentctl -n trident version\n"
   ]
  },
  {
   "cell_type": "markdown",
   "metadata": {},
   "source": [
    "---"
   ]
  },
  {
   "cell_type": "markdown",
   "metadata": {},
   "source": [
    "See the images that are required for Trident to function, per the Kubernetes version:\n",
    "\n",
    "`tridentctl -n trident images`\n",
    "\n",
    "```terminal\n",
    "Sample output:\n",
    "…\n",
    "+--------------------+---------------------------------------------------------------+\n",
    "| v1.31.0 | netapp/trident:24.10.0 |\n",
    "| | docker.io/netapp/trident-autosupport:24.10 |\n",
    "| | registry.k8s.io/sig-storage/csi-provisioner:v5.1.0 |\n",
    "| | registry.k8s.io/sig-storage/csi-attacher:v4.7.0 |\n",
    "| | registry.k8s.io/sig-storage/csi-resizer:v1.12.0 |\n",
    "| | registry.k8s.io/sig-storage/csi-snapshotter:v8.1.0 |\n",
    "| | registry.k8s.io/sig-storage/csi-node-driver-registrar:v2.12.0 |\n",
    "| | netapp/trident-operator:24.10.0 (optional) |\n",
    "+--------------------+---------------------------------------------------------------+\n"
   ]
  },
  {
   "cell_type": "code",
   "execution_count": null,
   "metadata": {
    "vscode": {
     "languageId": "shellscript"
    }
   },
   "outputs": [],
   "source": [
    "\n",
    "tridentctl -n trident images"
   ]
  },
  {
   "cell_type": "markdown",
   "metadata": {},
   "source": [
    "---\n",
    "---"
   ]
  },
  {
   "cell_type": "markdown",
   "metadata": {
    "vscode": {
     "languageId": "shellscript"
    }
   },
   "source": [
    "#### Task 4: Prepare worker nodes\n",
    "\n",
    "In this task, you verify that the worker nodes can use the volumes that Trident provides.\n"
   ]
  },
  {
   "cell_type": "markdown",
   "metadata": {},
   "source": [
    "---"
   ]
  },
  {
   "cell_type": "markdown",
   "metadata": {},
   "source": [
    "Open a Secure Shell (SSH) session to Worker 1:\n",
    "ssh root@192.168.0.62\n",
    "\n",
    "You can also use the code cells to execute the code"
   ]
  },
  {
   "cell_type": "markdown",
   "metadata": {},
   "source": [
    "---"
   ]
  },
  {
   "cell_type": "markdown",
   "metadata": {},
   "source": [
    "Verify that nfs-common is installed:\n"
   ]
  },
  {
   "cell_type": "code",
   "execution_count": null,
   "metadata": {
    "vscode": {
     "languageId": "shellscript"
    }
   },
   "outputs": [],
   "source": [
    "ssh root@kubwor1-1 apt list --installed | grep nfs-common\n"
   ]
  },
  {
   "cell_type": "markdown",
   "metadata": {},
   "source": [
    "---"
   ]
  },
  {
   "cell_type": "markdown",
   "metadata": {},
   "source": [
    "Verify that open-iscsi, lsscsi, and scsitools are installed:\n"
   ]
  },
  {
   "cell_type": "code",
   "execution_count": null,
   "metadata": {
    "vscode": {
     "languageId": "shellscript"
    }
   },
   "outputs": [],
   "source": [
    "ssh root@kubwor1-1  apt list --installed | grep scsi\n"
   ]
  },
  {
   "cell_type": "markdown",
   "metadata": {},
   "source": [
    "\n",
    "---"
   ]
  },
  {
   "cell_type": "markdown",
   "metadata": {},
   "source": [
    "Verify that sg3-utils is installed:\n"
   ]
  },
  {
   "cell_type": "code",
   "execution_count": null,
   "metadata": {
    "vscode": {
     "languageId": "shellscript"
    }
   },
   "outputs": [],
   "source": [
    "ssh root@kubwor1-1  apt list --installed | grep sg3\n"
   ]
  },
  {
   "cell_type": "markdown",
   "metadata": {},
   "source": [
    "---"
   ]
  },
  {
   "cell_type": "markdown",
   "metadata": {},
   "source": [
    "Verify that multipath-tools is installed:\n"
   ]
  },
  {
   "cell_type": "code",
   "execution_count": null,
   "metadata": {
    "vscode": {
     "languageId": "shellscript"
    }
   },
   "outputs": [],
   "source": [
    "ssh root@kubwor1-1  apt list --installed | grep multipath\n"
   ]
  },
  {
   "cell_type": "markdown",
   "metadata": {},
   "source": [
    "---"
   ]
  },
  {
   "cell_type": "markdown",
   "metadata": {},
   "source": [
    "Verify that /etc/multipath.conf has the following values :\n",
    "defaults {\n",
    "user_friendly_names yes\n",
    "find_multipaths no\n",
    "}\n"
   ]
  },
  {
   "cell_type": "code",
   "execution_count": null,
   "metadata": {
    "vscode": {
     "languageId": "shellscript"
    }
   },
   "outputs": [],
   "source": [
    "ssh root@kubwor1-1 cat /etc/multipath.conf"
   ]
  },
  {
   "cell_type": "markdown",
   "metadata": {},
   "source": [
    "---"
   ]
  },
  {
   "cell_type": "markdown",
   "metadata": {},
   "source": [
    "Enable multipathing:\n"
   ]
  },
  {
   "cell_type": "code",
   "execution_count": null,
   "metadata": {
    "vscode": {
     "languageId": "shellscript"
    }
   },
   "outputs": [],
   "source": [
    "ssh root@kubwor1-1  systemctl enable --now iscsid multipathd\n"
   ]
  },
  {
   "cell_type": "markdown",
   "metadata": {
    "vscode": {
     "languageId": "shellscript"
    }
   },
   "source": [
    "NOTE: If you see an error, please ignore it.\n"
   ]
  },
  {
   "cell_type": "code",
   "execution_count": null,
   "metadata": {
    "vscode": {
     "languageId": "shellscript"
    }
   },
   "outputs": [],
   "source": [
    "ssh root@kubwor1-1  \"service iscsid restart && service multipathd restart\"\n"
   ]
  },
  {
   "cell_type": "markdown",
   "metadata": {},
   "source": [
    "---"
   ]
  },
  {
   "cell_type": "markdown",
   "metadata": {},
   "source": [
    "Verify that multipath-tools and iscsid and are enabled and running:\n"
   ]
  },
  {
   "cell_type": "code",
   "execution_count": null,
   "metadata": {
    "vscode": {
     "languageId": "shellscript"
    }
   },
   "outputs": [],
   "source": [
    "ssh root@kubwor1-1  systemctl status multipathd iscsid\n"
   ]
  },
  {
   "cell_type": "markdown",
   "metadata": {},
   "source": [
    "---"
   ]
  },
  {
   "cell_type": "markdown",
   "metadata": {},
   "source": [
    "Verify your initiator node name:\n"
   ]
  },
  {
   "cell_type": "code",
   "execution_count": null,
   "metadata": {
    "vscode": {
     "languageId": "shellscript"
    }
   },
   "outputs": [],
   "source": [
    "ssh root@kubwor1-1 cat /etc/iscsi/initiatorname.iscsi\n"
   ]
  },
  {
   "cell_type": "markdown",
   "metadata": {},
   "source": [
    "---"
   ]
  },
  {
   "cell_type": "markdown",
   "metadata": {},
   "source": [
    "Verify that nvme-cli is installed:\n"
   ]
  },
  {
   "cell_type": "code",
   "execution_count": null,
   "metadata": {
    "vscode": {
     "languageId": "shellscript"
    }
   },
   "outputs": [],
   "source": [
    "ssh root@kubwor1-1  apt list --installed | grep nvme\n"
   ]
  },
  {
   "cell_type": "markdown",
   "metadata": {},
   "source": [
    "---"
   ]
  },
  {
   "cell_type": "markdown",
   "metadata": {},
   "source": [
    "Scan the NVMe bus:\n"
   ]
  },
  {
   "cell_type": "code",
   "execution_count": null,
   "metadata": {
    "vscode": {
     "languageId": "shellscript"
    }
   },
   "outputs": [],
   "source": [
    "ssh root@kubwor1-1  modprobe nvme-tcp\n"
   ]
  },
  {
   "cell_type": "markdown",
   "metadata": {},
   "source": [
    "---"
   ]
  },
  {
   "cell_type": "markdown",
   "metadata": {},
   "source": [
    "Verify your NVMe Qualified Name (NQN):\n"
   ]
  },
  {
   "cell_type": "code",
   "execution_count": null,
   "metadata": {
    "vscode": {
     "languageId": "shellscript"
    }
   },
   "outputs": [],
   "source": [
    "ssh root@kubwor1-1 cat /etc/nvme/hostnqn\n",
    "\n"
   ]
  },
  {
   "cell_type": "markdown",
   "metadata": {},
   "source": [
    "---"
   ]
  },
  {
   "cell_type": "markdown",
   "metadata": {},
   "source": [
    "Implement these steps across all nodes in the source and destination clusters:\n",
    "\n",
    "[./exercise2Task4.sh](./exercise2Task4.sh)\n"
   ]
  },
  {
   "cell_type": "code",
   "execution_count": null,
   "metadata": {
    "vscode": {
     "languageId": "shellscript"
    }
   },
   "outputs": [],
   "source": [
    "\n",
    "./exercise2Task4.sh"
   ]
  },
  {
   "cell_type": "markdown",
   "metadata": {},
   "source": [
    "\n",
    "End of exercise"
   ]
  }
 ],
 "metadata": {
  "kernelspec": {
   "display_name": "Bash",
   "language": "bash",
   "name": "bash"
  },
  "language_info": {
   "codemirror_mode": "shell",
   "file_extension": ".sh",
   "mimetype": "text/x-sh",
   "name": "bash"
  }
 },
 "nbformat": 4,
 "nbformat_minor": 2
}
