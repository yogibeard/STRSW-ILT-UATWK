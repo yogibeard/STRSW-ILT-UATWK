{
 "cells": [
  {
   "cell_type": "markdown",
   "metadata": {},
   "source": [
    "Open a terminal in your integrated development environment (IDE).\n",
    "\n",
    "```CTRL+` ```"
   ]
  },
  {
   "cell_type": "markdown",
   "metadata": {},
   "source": [
    "---"
   ]
  },
  {
   "cell_type": "markdown",
   "metadata": {},
   "source": [
    "In the terminal, change the directory to the Exercise 2 subfolder:\n",
    "\n",
    "`cd 'Exercise 2'`\n"
   ]
  },
  {
   "cell_type": "markdown",
   "metadata": {},
   "source": [
    "---"
   ]
  },
  {
   "cell_type": "markdown",
   "metadata": {},
   "source": [
    "Unzip the Trident file:\n",
    "tar -xf trident-installer-24.10.0.tar.gz\n",
    "A new subfolder, called trident-installer, should appear under the Exercise 2 folder.\n"
   ]
  },
  {
   "cell_type": "markdown",
   "metadata": {},
   "source": [
    "---"
   ]
  },
  {
   "cell_type": "markdown",
   "metadata": {},
   "source": [
    "Unzip the Trident file:\n",
    "tar -xf trident-installer-24.10.0.tar.gz\n",
    "A new subfolder, called trident-installer, should appear under the Exercise 2 folder.\n"
   ]
  },
  {
   "cell_type": "markdown",
   "metadata": {},
   "source": [
    "In the terminal, navigate to the Exercise 2 > trident-installer folder.\n",
    "NOTE: This path serves as the relative path for all other paths in this task and the next task.\n",
    "1-14 Investigate the deploy/crds subfolder.\n",
    "1-15 The crds subfolder contains several custom resource definition (CRD) YAML files.\n",
    "Notice that three custom resource definitions (CRD) files with crd in the filenames\n",
    "and six of these custom resources files with cr in the filenames.\n",
    "1-16 Create the CRD definitions by using the\n",
    "trident.netapp.io_tridentorchestrators_crd_post1.16.yaml file:\n",
    "kubectl create -f\n",
    "deploy/crds/trident.netapp.io_tridentorchestrators_crd_post1.16.yaml\n",
    "1-17 In the Kubernetes Extension of your IDE, you should see the\n",
    "tridentorchestrators CRD.\n",
    "If you see an error under the tridentorchestrators CRD, click the Refresh button to\n",
    "make it disappear.\n",
    "1-18 Create the trident namespace:\n",
    "kubectl create -f deploy/namespace.yaml\n",
    "1-19 Copy and rename the resulting file for the aggregated YAML “kustomized” file for Kubernetes\n",
    "version 1.25 or later (for convenience, see exercise2Task1-4.txt):\n",
    "cp deploy/kustomization_post_1_25.yaml deploy/kustomization.yamlNetApp Learning Services - Do Not Distribute\n"
   ]
  }
 ],
 "metadata": {
  "language_info": {
   "name": "python"
  }
 },
 "nbformat": 4,
 "nbformat_minor": 2
}
