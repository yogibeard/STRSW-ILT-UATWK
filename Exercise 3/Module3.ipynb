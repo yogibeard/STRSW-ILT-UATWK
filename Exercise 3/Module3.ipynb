{
 "cells": [
  {
   "cell_type": "markdown",
   "metadata": {},
   "source": [
    "\n",
    "# Module 3: Trident Configuration\n",
    "\n",
    "## Exercise 1: Working with Trident\n",
    "\n",
    "**Objectives**\n",
    "\n",
    "This exercise focuses on enabling you to do the following:\n",
    "  - Create a NAS back end\n",
    "  - Create a storage class for a NAS back end\n",
    "  - Provision a persistent volume claim with a NAS back end\n",
    "  - Mount the volumes in a pod\n",
    "  - Perform back-end management by using the tridentctl tool\n",
    "  - Perform back-end management by using the kubectl tool\n",
    "  - Configure customized naming conventions\n",
    "  - Create a NAS economy back end\n",
    "  - Provision NVMe namespaces using NetApp Trident"
   ]
  },
  {
   "cell_type": "markdown",
   "metadata": {},
   "source": [
    "**Exercise Equipment**\n",
    "\n",
    "In this exercise, you use the following systems.\n",
    "\n",
    "| System                  | Host Name   | IP Addresses   | User Name (case sensitive) | Password  |\n",
    "|-------------------------|-------------|----------------|----------------------------|-----------|\n",
    "| Kubernetes Control Plane| kubmas1-1   | 192.168.0.61   | root                       | Netapp1!  |\n",
    "\n",
    "\n"
   ]
  },
  {
   "cell_type": "markdown",
   "metadata": {},
   "source": [
    "**Prerequisites**\n",
    "\n",
    "Before starting this exercise, you should take the following actions:\n",
    "\n",
    "  - Set up your Integrated Development Environment (IDE)\n",
    "  - Download the courseware GIT repository\n",
    "  - Configure your IDE to have access to your Kubernetes clusters\n",
    "  - Create svm0\n",
    "  - Configure svm0 to use the NFS v3 protocol\n",
    "  - Install Trident in your source Kubernetes cluster\n",
    "  - Ensure iSCSI, NVMe and NFS are properly configured on your worker nodes in the source Kubernetes cluster\n"
   ]
  },
  {
   "cell_type": "markdown",
   "metadata": {},
   "source": [
    "---\n",
    "---"
   ]
  },
  {
   "cell_type": "markdown",
   "metadata": {},
   "source": [
    "#### Task 1: Create a NAS back end\n",
    "\n",
    "In this task, you create a back end that uses ONTAP NAS storage driver. \n",
    "\n",
    "You can create many other back ends. \n",
    "\n",
    "For more information, see https://docs.netapp.com/us-en/trident/trident-use/backends.html.\n",
    "\n",
    "**NOTE**: \n",
    "\n",
    "When you unzip the trident tar file, the path trident-installer/sample-inputs provides many examples of configuration files.\n"
   ]
  },
  {
   "cell_type": "markdown",
   "metadata": {},
   "source": [
    "---"
   ]
  },
  {
   "cell_type": "markdown",
   "metadata": {},
   "source": [
    "To complete this task successfully, you must first complete Task 4 in the Module 1\n",
    "exercise. \n",
    "\n",
    "In that task, you configure a storage VM (storage virtual machine, also known as SVM) for the NFS protocol."
   ]
  },
  {
   "cell_type": "markdown",
   "metadata": {},
   "source": [
    "---"
   ]
  },
  {
   "cell_type": "markdown",
   "metadata": {},
   "source": [
    "If you are using terminal to execute kubectl commands, please change directories in your terminal to Exercise 3 folder.\n"
   ]
  },
  {
   "cell_type": "code",
   "execution_count": null,
   "metadata": {
    "vscode": {
     "languageId": "shellscript"
    }
   },
   "outputs": [],
   "source": [
    "pwd"
   ]
  },
  {
   "cell_type": "markdown",
   "metadata": {},
   "source": [
    "---"
   ]
  },
  {
   "cell_type": "markdown",
   "metadata": {},
   "source": [
    "Modify the [exercise3Task1.json](./exercise3Task1.json) file to add the appropriate settings;\n",
    "\n",
    "Save the file as `exercise3Task1mod.json`:\n",
    "\n",
    "  - Version: 1\n",
    "  - Storage driver name: ontap-nas\n",
    "  - Back-end name: c1-svm0-nfs-tbe\n",
    "  - Management LIF: 192.168.0.30\n",
    "  - Data LIF: 192.168.0.31\n",
    "  - SVM: svm0\n",
    "  - Username: vsadmin\n",
    "  - Password: Netapp1!\n",
    "\n",
    "\n",
    "<details> <summary>Solution  </summary>\n",
    "\n",
    "[exercise3Task1.json](./Solutions/exercise3Task1.json)\n",
    "\n",
    "```json\n",
    "{\n",
    "    \"version\": 1,\n",
    "    \"storageDriverName\": \"ontap-nas\",\n",
    "    \"backendName\": \"c1-svm0-nfs-tbe\",\n",
    "    \"managementLIF\": \"192.168.0.30\",\n",
    "    \"dataLIF\": \"192.168.0.31\",\n",
    "    \"svm\": \"svm0\",\n",
    "    \"username\": \"vsadmin\",\n",
    "    \"password\": \"Netapp1!\"\n",
    "}"
   ]
  },
  {
   "cell_type": "markdown",
   "metadata": {},
   "source": [
    "---"
   ]
  },
  {
   "cell_type": "markdown",
   "metadata": {},
   "source": [
    "The back-end definition is the only place that stores the credentials in plain text.\n",
    "\n",
    "After you create the back end, usernames and passwords are encoded with Base64 and stored as Kubernetes secrets. \n",
    "\n",
    "Creating and updating a back end are the only operations that require knowledge of the credentials. \n",
    "\n",
    "These operations should be admin-only.\n",
    "\n"
   ]
  },
  {
   "cell_type": "markdown",
   "metadata": {},
   "source": [
    "---"
   ]
  },
  {
   "cell_type": "markdown",
   "metadata": {},
   "source": [
    "Verify that you are in the working directory where the tridentctl tool and the back-end JSON are present.\n"
   ]
  },
  {
   "cell_type": "markdown",
   "metadata": {},
   "source": [
    "---\n"
   ]
  },
  {
   "cell_type": "markdown",
   "metadata": {},
   "source": [
    "Create the back end by using the tridentctl tool:\n",
    "\n",
    "`tridentctl -n trident create backend -f exercise3Task1mod.json`\n",
    "\n",
    "Sample output:\n",
    "\n",
    "```terminal\n",
    "+---------------------+----------------+--------------------------------------+--------+------------+--------+\n",
    "| NAME | STORAGE DRIVER | UUID | STATE | USER-STATE | VOLUMES|\n",
    "+---------------------+----------------+--------------------------------------+--------+------------+--------+\n",
    "| c1-svm0-nfs-tbe | ontap-nas | 804a70a5-5959-435d-a9c7-6357230f2e13 | online | normal | 0 |\n",
    "+---------------------+----------------+--------------------------------------+--------+------------+--------+\n",
    "```\n"
   ]
  },
  {
   "cell_type": "markdown",
   "metadata": {},
   "source": [
    "---"
   ]
  },
  {
   "cell_type": "code",
   "execution_count": null,
   "metadata": {
    "vscode": {
     "languageId": "shellscript"
    }
   },
   "outputs": [],
   "source": [
    "tridentctl -n trident create backend -f exercise3Task1mod.json\n"
   ]
  },
  {
   "cell_type": "markdown",
   "metadata": {},
   "source": [
    "---"
   ]
  },
  {
   "cell_type": "markdown",
   "metadata": {},
   "source": [
    "Review the tridentctl logs:\n"
   ]
  },
  {
   "cell_type": "code",
   "execution_count": null,
   "metadata": {
    "vscode": {
     "languageId": "shellscript"
    }
   },
   "outputs": [],
   "source": [
    "tridentctl -n trident logs | tail -n 10\n"
   ]
  },
  {
   "cell_type": "markdown",
   "metadata": {},
   "source": [
    "---\n",
    "---"
   ]
  },
  {
   "cell_type": "markdown",
   "metadata": {},
   "source": [
    "#### Task 2: Create a Storage Class for a NAS back end\n",
    "\n",
    "In this task, you create a storage class that uses the NAS back end that you created in Task 1.\n"
   ]
  },
  {
   "cell_type": "markdown",
   "metadata": {},
   "source": [
    "---"
   ]
  },
  {
   "cell_type": "markdown",
   "metadata": {},
   "source": [
    "In your integrated development environment (IDE), open the [exercise3Task2.yaml](./exercise3Task2.yaml) file.\n"
   ]
  },
  {
   "cell_type": "markdown",
   "metadata": {},
   "source": [
    "---"
   ]
  },
  {
   "cell_type": "markdown",
   "metadata": {},
   "source": [
    "Add the correct `backendType` to the parameters.\n",
    "\n",
    "This value is the `storageDriverName` from the back-end JSON.\n",
    "\n",
    "<details> <summary> Solution </summary>\n",
    "  \n",
    "[exercise3Task2.yaml](./Solutions/exercise3Task2.yaml)\n",
    "\n",
    "```yaml\n",
    "apiVersion: storage.k8s.io/v1\n",
    "kind: StorageClass\n",
    "metadata:\n",
    "  name: c1-svm0-nfs-sc\n",
    "provisioner: csi.trident.netapp.io\n",
    "parameters:\n",
    "  backendType: ontap-nas\n",
    "  storagePools: \"c1-svm0-nfs-tbe:.*\""
   ]
  },
  {
   "cell_type": "markdown",
   "metadata": {},
   "source": []
  },
  {
   "cell_type": "markdown",
   "metadata": {},
   "source": [
    "---"
   ]
  },
  {
   "cell_type": "markdown",
   "metadata": {},
   "source": [
    "Add the correct storagePools:\n",
    "\n",
    "` \"c1-svm0-nfs-tbe.*\"` \n",
    "\n",
    "and save the file `./exercise3Task2mod.yaml`.\n"
   ]
  },
  {
   "cell_type": "markdown",
   "metadata": {},
   "source": [
    "---"
   ]
  },
  {
   "cell_type": "markdown",
   "metadata": {},
   "source": [
    "Create the storage class:\n"
   ]
  },
  {
   "cell_type": "code",
   "execution_count": null,
   "metadata": {
    "vscode": {
     "languageId": "shellscript"
    }
   },
   "outputs": [],
   "source": [
    "kubectl create -f exercise3Task2mod.yaml\n"
   ]
  },
  {
   "cell_type": "markdown",
   "metadata": {},
   "source": [
    "---"
   ]
  },
  {
   "cell_type": "markdown",
   "metadata": {},
   "source": [
    "Verify that the storage class is created:\n"
   ]
  },
  {
   "cell_type": "code",
   "execution_count": null,
   "metadata": {
    "vscode": {
     "languageId": "shellscript"
    }
   },
   "outputs": [],
   "source": [
    "kubectl get sc c1-svm0-nfs-sc\n"
   ]
  },
  {
   "cell_type": "markdown",
   "metadata": {},
   "source": [
    "---"
   ]
  },
  {
   "cell_type": "markdown",
   "metadata": {},
   "source": [
    "Review the storage class by using the tridentctl tool:\n"
   ]
  },
  {
   "cell_type": "code",
   "execution_count": null,
   "metadata": {
    "vscode": {
     "languageId": "shellscript"
    }
   },
   "outputs": [],
   "source": [
    "tridentctl -n trident get storageclass c1-svm0-nfs-sc -o json\n"
   ]
  },
  {
   "cell_type": "markdown",
   "metadata": {},
   "source": [
    "---\n",
    "---"
   ]
  },
  {
   "cell_type": "markdown",
   "metadata": {},
   "source": [
    "#### Task 3: Provision a Persistent Volume Claim with a NAS back end\n",
    "\n",
    "In this task, you create a persistent volume claim (PVC) for a volume that uses the storage class that you created.\n"
   ]
  },
  {
   "cell_type": "markdown",
   "metadata": {},
   "source": [
    "---"
   ]
  },
  {
   "cell_type": "markdown",
   "metadata": {},
   "source": [
    "In your IDE, open the [exercise3Task3.yaml](./exercise3Task3.yaml) file.\n"
   ]
  },
  {
   "cell_type": "markdown",
   "metadata": {},
   "source": [
    "---"
   ]
  },
  {
   "cell_type": "markdown",
   "metadata": {},
   "source": [
    "Update the `storageClassName` with the name of the storage class that you created in the previous task,\n",
    "\n",
    "and then save the file as ./exercise3Task3mod.yaml.\n",
    "\n",
    "<details> <summary>Solution  </summary>  \n",
    "\n",
    "[exercise3Task3.yaml](./Solutions/exercise3Task3.yaml)\n",
    "\n",
    "```yaml\n",
    "kind: PersistentVolumeClaim\n",
    "apiVersion: v1\n",
    "metadata:\n",
    "  name: c1-svm0-nfs-pvc-1\n",
    "  namespace: default\n",
    "  annotations:\n",
    "    trident.netapp.io/snapshotDirectory: \"true\"\n",
    "spec:\n",
    "  accessModes:\n",
    "    - ReadWriteOnce\n",
    "  resources:\n",
    "    requests:\n",
    "      storage: 1Gi\n",
    "  storageClassName: c1-svm0-nfs-sc\n"
   ]
  },
  {
   "cell_type": "markdown",
   "metadata": {},
   "source": [
    "---"
   ]
  },
  {
   "cell_type": "markdown",
   "metadata": {},
   "source": [
    "Create the PVC for a pod to use later:\n"
   ]
  },
  {
   "cell_type": "code",
   "execution_count": null,
   "metadata": {
    "vscode": {
     "languageId": "shellscript"
    }
   },
   "outputs": [],
   "source": [
    "kubectl create -f exercise3Task3mod.yaml\n"
   ]
  },
  {
   "cell_type": "markdown",
   "metadata": {},
   "source": [
    "---"
   ]
  },
  {
   "cell_type": "markdown",
   "metadata": {},
   "source": [
    "After a moment, verify that you created the PVC:\n",
    "\n",
    "Sample output:\n",
    "\n",
    "```terminal\n",
    "NAME STATUS VOLUME CAPACITY ACCESS MODES STORAGECLASS …\n",
    "c1-svm0-nfs-pvc-1 Bound pvc-bf08cf3c-1a31… 1Gi RWO c1-svm0-nfs-sc …\n",
    "\n"
   ]
  },
  {
   "cell_type": "code",
   "execution_count": null,
   "metadata": {
    "vscode": {
     "languageId": "shellscript"
    }
   },
   "outputs": [],
   "source": [
    "kubectl -n default get pvc c1-svm0-nfs-pvc-1\n"
   ]
  },
  {
   "cell_type": "markdown",
   "metadata": {},
   "source": [
    "---"
   ]
  },
  {
   "cell_type": "markdown",
   "metadata": {},
   "source": [
    "Navigate to ONTAP System Manager, and see the new volume that Trident created:\n",
    "\n",
    "https://192.168.0.101/sysmgr/v4/storage/volumes.\n",
    "\n"
   ]
  },
  {
   "cell_type": "markdown",
   "metadata": {},
   "source": [
    "---\n",
    "---"
   ]
  },
  {
   "cell_type": "markdown",
   "metadata": {},
   "source": [
    "#### Task 4: Mount the volumes in a pod\n",
    "\n",
    "In this task, you create a NGINX pod that uses the persistent volume (PV) and creates a default webpage in the PV. \n",
    "\n",
    "This task includes a challenge step that asks you to expose the pod by using a NodePort service \n",
    "and then view your custom webpage.\n"
   ]
  },
  {
   "cell_type": "markdown",
   "metadata": {},
   "source": [
    "In your IDE, review the [exercise3Task4-1.yaml](./exercise3Task4-1.yaml) file.\n",
    "\n"
   ]
  },
  {
   "cell_type": "markdown",
   "metadata": {},
   "source": [
    "---"
   ]
  },
  {
   "cell_type": "markdown",
   "metadata": {},
   "source": [
    "Set the claimName definition to the name of the PVC that you created in the previous task.\n",
    "\n",
    "<details> <summary>  Solution</summary>  \n",
    "\n",
    "[exercise3Task4-1.yaml](./Solutions/exercise3Task4-1.yaml)\n",
    "\n",
    "```yaml\n",
    "kind: Pod\n",
    "apiVersion: v1\n",
    "metadata:\n",
    "  name: nfs-pod\n",
    "  namespace: default\n",
    "  labels:\n",
    "    app: nfs-web\n",
    "spec:\n",
    "  volumes:\n",
    "    - name: nfs-storage\n",
    "      persistentVolumeClaim:\n",
    "       claimName: c1-svm0-nfs-pvc-1\n",
    "  containers:\n",
    "    - name: nfs-container\n",
    "      image: nginx:1.25-alpine-slim\n",
    "      imagePullPolicy: IfNotPresent\n",
    "      resources:\n",
    "        requests:\n",
    "          memory: \"64Mi\"\n",
    "          cpu: \"250m\"\n",
    "        limits:\n",
    "          memory: \"128Mi\"\n",
    "          cpu: \"500m\"\n",
    "      ports:\n",
    "        - containerPort: 80\n",
    "          name: \"http-server\"\n",
    "      volumeMounts:\n",
    "        - mountPath: \"/usr/share/nginx/html\"\n",
    "          name: nfs-storage"
   ]
  },
  {
   "cell_type": "markdown",
   "metadata": {},
   "source": [
    "---"
   ]
  },
  {
   "cell_type": "markdown",
   "metadata": {},
   "source": [
    "Save the file as exercise3Task4-1mod.yaml\n",
    "\n"
   ]
  },
  {
   "cell_type": "markdown",
   "metadata": {},
   "source": [
    "---"
   ]
  },
  {
   "cell_type": "markdown",
   "metadata": {},
   "source": [
    "Create the pod to use the Trident volume:\n"
   ]
  },
  {
   "cell_type": "code",
   "execution_count": null,
   "metadata": {
    "vscode": {
     "languageId": "shellscript"
    }
   },
   "outputs": [],
   "source": [
    "kubectl create -f exercise3Task4-1mod.yaml\n"
   ]
  },
  {
   "cell_type": "markdown",
   "metadata": {},
   "source": [
    "---"
   ]
  },
  {
   "cell_type": "markdown",
   "metadata": {},
   "source": [
    "Verify that you created the pod:\n"
   ]
  },
  {
   "cell_type": "code",
   "execution_count": null,
   "metadata": {
    "vscode": {
     "languageId": "shellscript"
    }
   },
   "outputs": [],
   "source": [
    "kubectl -n default get pod nfs-pod\n"
   ]
  },
  {
   "cell_type": "markdown",
   "metadata": {},
   "source": [
    "Connect to the pod:\n",
    "\n",
    "View how the PVC is mounted in the container:\n",
    "\n",
    "`# df -h`"
   ]
  },
  {
   "cell_type": "code",
   "execution_count": null,
   "metadata": {
    "vscode": {
     "languageId": "shellscript"
    }
   },
   "outputs": [],
   "source": [
    "kubectl -n default exec -it nfs-pod -- /bin/sh -c \"df -h\"\n"
   ]
  },
  {
   "cell_type": "code",
   "execution_count": null,
   "metadata": {
    "vscode": {
     "languageId": "shellscript"
    }
   },
   "outputs": [],
   "source": [
    "kubectl -n default exec -it nfs-pod -- /bin/sh -c \"df -h\" |grep -iA1 trident\n"
   ]
  },
  {
   "cell_type": "markdown",
   "metadata": {},
   "source": [
    "---"
   ]
  },
  {
   "cell_type": "markdown",
   "metadata": {},
   "source": [
    "Change the directory to the Trident persistent volume:\n",
    "\n",
    "`# cd /usr/share/nginx/html`\n",
    "\n",
    "Create an HTML file in the current directory:\n",
    "`# echo '<html><body>Hello [your name] using NFS</body></html>' > index.html`\n",
    "\n"
   ]
  },
  {
   "cell_type": "markdown",
   "metadata": {},
   "source": [
    "---"
   ]
  },
  {
   "cell_type": "code",
   "execution_count": null,
   "metadata": {
    "vscode": {
     "languageId": "shellscript"
    }
   },
   "outputs": [],
   "source": [
    "kubectl -n default exec -it nfs-pod -- /bin/sh -c \"echo '<html><body>Hello nfs-pod using NFS</body></html>' >  /usr/share/nginx/html/index.html;\"\n"
   ]
  },
  {
   "cell_type": "code",
   "execution_count": null,
   "metadata": {
    "vscode": {
     "languageId": "shellscript"
    }
   },
   "outputs": [],
   "source": [
    "kubectl -n default exec -it nfs-pod -- /bin/sh -c \"cat  /usr/share/nginx/html/index.html\"\n"
   ]
  },
  {
   "cell_type": "markdown",
   "metadata": {},
   "source": [
    "\n",
    "---"
   ]
  },
  {
   "cell_type": "markdown",
   "metadata": {},
   "source": [
    "Create a NodePort service and view the webpage contains your custom message:\n",
    "\n",
    "[exercise3Task4-2.yaml](./exercise3Task4-2.yaml)\n"
   ]
  },
  {
   "cell_type": "code",
   "execution_count": null,
   "metadata": {
    "vscode": {
     "languageId": "shellscript"
    }
   },
   "outputs": [],
   "source": [
    "\n",
    "kubectl create -f exercise3Task4-2.yaml"
   ]
  },
  {
   "cell_type": "markdown",
   "metadata": {},
   "source": [
    "---"
   ]
  },
  {
   "cell_type": "markdown",
   "metadata": {},
   "source": [
    "View the services:\n",
    "\n",
    "`kubectl -n default get services`\n",
    "\n",
    "\n",
    "Sample output:\n",
    "```terminal\n",
    "NAME TYPE CLUSTER-IP EXTERNAL-IP PORT(S) AGE\n",
    "kubernetes ClusterIP 10.96.0.1 <none> 443/TCP 2d\n",
    "nfs-web NodePort 10.106.85.27 <none> 80:31319/TCP 4m39s\n",
    "```"
   ]
  },
  {
   "cell_type": "code",
   "execution_count": null,
   "metadata": {
    "vscode": {
     "languageId": "shellscript"
    }
   },
   "outputs": [],
   "source": [
    "kubectl -n default get services"
   ]
  },
  {
   "cell_type": "markdown",
   "metadata": {},
   "source": [
    "Open a browser to one of the Kubernetes cluster node IP addresses and the NodePort referenced in the previous step. \n",
    "\n",
    "For example: http://192.168.0.62:31319. \n",
    "\n",
    "You should see your index.html page displayed in the browser. NOTE: Use HTTP.\n"
   ]
  },
  {
   "cell_type": "code",
   "execution_count": null,
   "metadata": {
    "vscode": {
     "languageId": "shellscript"
    }
   },
   "outputs": [],
   "source": [
    "nodeport=$(kubectl describe service nfs-web|grep -oP 'NodePort:\\s+<unset>\\s+\\K\\d+')\n",
    "\n",
    "echo \"http://kubwor1-1:$nodeport\""
   ]
  },
  {
   "cell_type": "code",
   "execution_count": null,
   "metadata": {
    "vscode": {
     "languageId": "shellscript"
    }
   },
   "outputs": [],
   "source": [
    "kubectl describe service nfs-web"
   ]
  },
  {
   "cell_type": "markdown",
   "metadata": {},
   "source": [
    "---\n",
    "---"
   ]
  },
  {
   "cell_type": "markdown",
   "metadata": {},
   "source": [
    "#### Task 5: Perform Back-End management by using the tridentctl tool\n",
    "\n",
    "In this task, you investigate the tridentctl commands and delete the pod that hosted your custom webpage. \n",
    "\n",
    "You then re-create the pod and notice that the persistent volume, which reattached to the new pod and your custom webpage, has persisted.\n"
   ]
  },
  {
   "cell_type": "markdown",
   "metadata": {},
   "source": [
    "---"
   ]
  },
  {
   "cell_type": "markdown",
   "metadata": {},
   "source": [
    "jQuery is a json query tool which is installed on your jumphost:\n",
    "\n",
    "it can be installed using\n",
    "\n",
    "`sudo apt install -y jq`\n"
   ]
  },
  {
   "cell_type": "markdown",
   "metadata": {},
   "source": [
    "---"
   ]
  },
  {
   "cell_type": "markdown",
   "metadata": {},
   "source": [
    "Use the tridentctl tool to identify the storage class that is mapped to the correct backend \n",
    "\n",
    "(for your convenience, you can copy this command from the [exercise3Task5.txt](./exercise3Task5.txt) file):\n",
    "\n",
    "tridentctl get backend -n trident -o json | jq '[.items[] | {backend: .name, storageClasses: [.storage[].storageClasses]|unique}]'\n",
    "\n",
    "\n",
    "Sample output:\n",
    "```json\n",
    "[\n",
    "  { \"backend\": \"c1-svm0-nfs-tbe\",\n",
    "    \"storageClasses\": [\n",
    "     [\n",
    "       \"c1-svm0-nfs-sc\"\n",
    "     ]\n",
    "    ]   \n",
    "  }\n",
    "]\n"
   ]
  },
  {
   "cell_type": "code",
   "execution_count": null,
   "metadata": {
    "vscode": {
     "languageId": "shellscript"
    }
   },
   "outputs": [],
   "source": [
    "tridentctl get backend -n trident -o json | jq '[.items[] | {backend: .name, storageClasses: [.storage[].storageClasses]|unique}]'"
   ]
  },
  {
   "cell_type": "markdown",
   "metadata": {},
   "source": [
    "---"
   ]
  },
  {
   "cell_type": "markdown",
   "metadata": {},
   "source": [
    "You can delete and update the back end by using the tridentctl tool. \n",
    "\n",
    "For more information, \n",
    "\n",
    "see https://docs.netapp.com/us-en/trident/trident-use/backend_ops_tridentctl.html#create-a-backend.\n"
   ]
  },
  {
   "cell_type": "markdown",
   "metadata": {},
   "source": [
    "---"
   ]
  },
  {
   "cell_type": "markdown",
   "metadata": {},
   "source": [
    "Delete the NFS-supported pod:\n"
   ]
  },
  {
   "cell_type": "code",
   "execution_count": null,
   "metadata": {
    "vscode": {
     "languageId": "shellscript"
    }
   },
   "outputs": [],
   "source": [
    "kubectl -n default delete pod nfs-pod\n"
   ]
  },
  {
   "cell_type": "markdown",
   "metadata": {},
   "source": [
    "---"
   ]
  },
  {
   "cell_type": "markdown",
   "metadata": {},
   "source": [
    "Investigate the logs and see if the volume was deleted when the pod was deleted:\n"
   ]
  },
  {
   "cell_type": "code",
   "execution_count": null,
   "metadata": {
    "vscode": {
     "languageId": "shellscript"
    }
   },
   "outputs": [],
   "source": [
    "tridentctl logs -n trident | tail -n 20\n"
   ]
  },
  {
   "cell_type": "markdown",
   "metadata": {},
   "source": [
    "---"
   ]
  },
  {
   "cell_type": "markdown",
   "metadata": {},
   "source": [
    "Notice that the volume was just “unpublished” and answer the following questions: \n",
    "\n",
    "How would you delete the volume automatically when you delete the pod? \n",
    "\n",
    "Does the PVC still exist? \n",
    "\n",
    "Also  notice the finalizer that is associated with the PVC.\n"
   ]
  },
  {
   "cell_type": "markdown",
   "metadata": {},
   "source": [
    "---"
   ]
  },
  {
   "cell_type": "markdown",
   "metadata": {},
   "source": [
    "Navigate to ONTAP System Manager and notice that the volume that Trident created for the\n",
    "NFS-based PVC is still there: \n",
    "\n",
    "https://192.168.0.101/sysmgr/v4/storage/volumes.\n"
   ]
  },
  {
   "cell_type": "code",
   "execution_count": null,
   "metadata": {
    "vscode": {
     "languageId": "shellscript"
    }
   },
   "outputs": [],
   "source": [
    "ssh admin@cluster1 volume show"
   ]
  },
  {
   "cell_type": "markdown",
   "metadata": {},
   "source": [
    "---"
   ]
  },
  {
   "cell_type": "markdown",
   "metadata": {},
   "source": [
    "Re-create the pod to use the Trident NFS-provided volume:\n",
    "\n"
   ]
  },
  {
   "cell_type": "code",
   "execution_count": null,
   "metadata": {
    "vscode": {
     "languageId": "shellscript"
    }
   },
   "outputs": [],
   "source": [
    "kubectl create -f exercise3Task4-1mod.yaml\n"
   ]
  },
  {
   "cell_type": "markdown",
   "metadata": {},
   "source": [
    "---"
   ]
  },
  {
   "cell_type": "markdown",
   "metadata": {},
   "source": [
    "Display the webpage and verify the webpage contains your custom message.\n"
   ]
  },
  {
   "cell_type": "code",
   "execution_count": null,
   "metadata": {
    "vscode": {
     "languageId": "shellscript"
    }
   },
   "outputs": [],
   "source": [
    "nodeport=$(kubectl describe service nfs-web|grep -oP 'NodePort:\\s+<unset>\\s+\\K\\d+')\n",
    "\n",
    "echo \"http://kubwor1-1:$nodeport\""
   ]
  },
  {
   "cell_type": "markdown",
   "metadata": {},
   "source": [
    "---"
   ]
  },
  {
   "cell_type": "markdown",
   "metadata": {},
   "source": [
    "Do not destroy any objects. You use the objects in the next exercise.\n"
   ]
  },
  {
   "cell_type": "markdown",
   "metadata": {},
   "source": [
    "---\n",
    "---"
   ]
  },
  {
   "cell_type": "markdown",
   "metadata": {},
   "source": [
    "#### Task 6: Perform Back-End management by using the kubectl tool\n",
    "\n",
    "Previously, you created a back end by using the tridentctl tool. \n",
    "\n",
    "In this task, you create a back end by using the `TridentBackendConfig` custom resource (CR) with the credentials that are stored in a Kubernetes secret. \n",
    "\n",
    "For this task, you create a new SVM with the iSCSI protocol configured. \n",
    "\n",
    "NOTE:\n",
    "\n",
    "SVMs allow multiple protocols. \n",
    "\n",
    "You could add the iSCSI configuration to svm0, but you create another SVM in this task to keep the two SVMs functionality separate. \n",
    "\n",
    "You also use the SVM administrator (vsadmin) and a separate management path for Trident to communicate with the SVMs.\n"
   ]
  },
  {
   "cell_type": "markdown",
   "metadata": {},
   "source": [
    "---"
   ]
  },
  {
   "cell_type": "markdown",
   "metadata": {},
   "source": [
    "Verify that you created the gateway-system namespace and that the operator pod is running in that namespace.\n"
   ]
  },
  {
   "cell_type": "markdown",
   "metadata": {},
   "source": [
    "---"
   ]
  },
  {
   "cell_type": "markdown",
   "metadata": {},
   "source": [
    "Review and execute the [exercise3Task6-1.yaml](./exercise3Task6-1.yaml) file to create an SVM called svm1 with the defined protocol in ONTAP Cluster 1. \n",
    "\n",
    "NOTE: \n",
    "\n",
    "\n",
    "Execute this file with a kubectl apply command, otherwise, an error will occur stating that the cluster1 admin’s secret is already created.\n"
   ]
  },
  {
   "cell_type": "markdown",
   "metadata": {},
   "source": [
    "---"
   ]
  },
  {
   "cell_type": "code",
   "execution_count": null,
   "metadata": {
    "vscode": {
     "languageId": "shellscript"
    }
   },
   "outputs": [],
   "source": [
    "kubectl apply -f exercise3Task6-1.yaml"
   ]
  },
  {
   "cell_type": "markdown",
   "metadata": {},
   "source": [
    "CHALLENGE STEP: \n",
    "\n",
    "Review the logs of the manager container for the gateway-manager deployment’s pod to see the gateway operator in action:\n",
    "\n",
    "\n",
    "`kubectl -n gateway-system logs gateway-operator-[unique id] -c manager`\n"
   ]
  },
  {
   "cell_type": "code",
   "execution_count": null,
   "metadata": {
    "vscode": {
     "languageId": "shellscript"
    }
   },
   "outputs": [],
   "source": [
    "go=$(kubectl -n gateway-system get pods|grep gateway-operator| awk '{print $1}');echo $go\n",
    "\n"
   ]
  },
  {
   "cell_type": "code",
   "execution_count": null,
   "metadata": {
    "vscode": {
     "languageId": "shellscript"
    }
   },
   "outputs": [],
   "source": [
    "kubectl -n gateway-system logs $go -c manager"
   ]
  },
  {
   "cell_type": "markdown",
   "metadata": {},
   "source": [
    "---"
   ]
  },
  {
   "cell_type": "markdown",
   "metadata": {},
   "source": [
    "Open a browser and go to https://192.168.0.101/\n",
    "\n",
    "(which is your Cluster1 management LIF’s address).\n",
    " "
   ]
  },
  {
   "cell_type": "markdown",
   "metadata": {},
   "source": [
    "---"
   ]
  },
  {
   "cell_type": "markdown",
   "metadata": {},
   "source": [
    "For now, use the standard System Manager. \n",
    "\n",
    "Click the link: Not now. Sign in to System Manager. \n",
    "\n",
    "Skip this step if you already have selected System Manager instead of using NetApp BlueXP."
   ]
  },
  {
   "cell_type": "markdown",
   "metadata": {},
   "source": [
    "\n",
    "---"
   ]
  },
  {
   "cell_type": "markdown",
   "metadata": {},
   "source": [
    "Authenticate with your ONTAP cluster by providing the following credentials:\n",
    " \n",
    " - Login as: admin\n",
    " \n",
    " - Password: Netapp1!\n"
   ]
  },
  {
   "cell_type": "markdown",
   "metadata": {},
   "source": [
    "---"
   ]
  },
  {
   "cell_type": "markdown",
   "metadata": {},
   "source": [
    "\n",
    "Click Sign In.\n"
   ]
  },
  {
   "cell_type": "markdown",
   "metadata": {},
   "source": [
    "---"
   ]
  },
  {
   "cell_type": "markdown",
   "metadata": {},
   "source": [
    "From the left pane, navigate to Storage > Storage VMs.\n"
   ]
  },
  {
   "cell_type": "markdown",
   "metadata": {},
   "source": [
    "---"
   ]
  },
  {
   "cell_type": "markdown",
   "metadata": {},
   "source": [
    "Review the settings of svm1 and verify that iSCSI and NVMe/TCP are configured.\n",
    "Also verify that the Cluster1_01_FC_1 is an available local tier for this SVM.\n",
    "\n",
    "\n",
    "\n",
    "\n",
    "\n",
    "\n",
    "\n",
    "\n",
    "\n"
   ]
  },
  {
   "cell_type": "code",
   "execution_count": null,
   "metadata": {
    "vscode": {
     "languageId": "shellscript"
    }
   },
   "outputs": [],
   "source": [
    "ssh admin@cluster1  \"vserver context svm1; vserver show -fields aggr-list;nvme show -instance;iscsi show -instance\""
   ]
  },
  {
   "cell_type": "markdown",
   "metadata": {},
   "source": [
    "---"
   ]
  },
  {
   "cell_type": "markdown",
   "metadata": {},
   "source": [
    "Update the [exercise3Task6-2.yaml](./exercise3Task6-2.yaml) file with the details of the iSCSI SVM:\n",
    "  \n",
    "  - User name: vsadmin\n",
    "  \n",
    "  - Password: Netapp1!\n",
    "  \n",
    "  - Management LIF: 192.168.0.40\n",
    "  \n",
    "  - SVM: svm1\n",
    "\n",
    "Save the file as `exercise3Task6-2mod.yaml`\n",
    "\n",
    "NOTE: \n",
    "\n",
    "Generally, you should not specify a Data LIF for block protocols, otherwise, multipath \n",
    "would be disabled.\n",
    "\n",
    "<details> <summary>  Solution</summary>  \n",
    "\n",
    "[exercise3Task6-2.yaml](./Solutions/exercise3Task6-2.yaml)"
   ]
  },
  {
   "cell_type": "markdown",
   "metadata": {},
   "source": [
    "---"
   ]
  },
  {
   "cell_type": "markdown",
   "metadata": {},
   "source": [
    "Create the secret and the back end by using the kubectl tool:"
   ]
  },
  {
   "cell_type": "code",
   "execution_count": null,
   "metadata": {
    "vscode": {
     "languageId": "shellscript"
    }
   },
   "outputs": [],
   "source": [
    "kubectl create -f exercise3Task6-2mod.yaml"
   ]
  },
  {
   "cell_type": "markdown",
   "metadata": {},
   "source": [
    "---"
   ]
  },
  {
   "cell_type": "markdown",
   "metadata": {},
   "source": [
    "In the Kubernetes IDE extension, ensure you are in the trident namespace. \n",
    "\n",
    "Navigate to **Clusters** > **source-admin@source** > **Custom Resources** >\n",
    "**tridentbackendconfigs** > **c1-svm1-iscsi-tbc**.\n",
    "\n",
    "This back end is the one that you created. \n",
    "\n",
    "The status should show the last operation status as success and the phase as bound.\n"
   ]
  },
  {
   "cell_type": "markdown",
   "metadata": {},
   "source": [
    "---"
   ]
  },
  {
   "cell_type": "markdown",
   "metadata": {},
   "source": [
    "Verify that you created the back-end configuration:\n"
   ]
  },
  {
   "cell_type": "code",
   "execution_count": null,
   "metadata": {
    "vscode": {
     "languageId": "shellscript"
    }
   },
   "outputs": [],
   "source": [
    "kubectl -n trident get tbc -o wide\n"
   ]
  },
  {
   "cell_type": "markdown",
   "metadata": {},
   "source": [
    "---"
   ]
  },
  {
   "cell_type": "markdown",
   "metadata": {},
   "source": [
    "Get details on the back-end configuration that you created:\n"
   ]
  },
  {
   "cell_type": "code",
   "execution_count": null,
   "metadata": {
    "vscode": {
     "languageId": "shellscript"
    }
   },
   "outputs": [],
   "source": [
    "kubectl -n trident describe tbc c1-svm1-iscsi-tbc\n"
   ]
  },
  {
   "cell_type": "markdown",
   "metadata": {},
   "source": [
    "---"
   ]
  },
  {
   "cell_type": "markdown",
   "metadata": {},
   "source": [
    "Review and update the name of the back end in the YAML, and then create the storage class\n",
    "in the [exercise3Task6-3.yaml](./exercise3Task6-3.yaml) file:\n",
    "\n",
    "Save the file as **exercise3Task6-3mod.yaml**\n",
    "\n",
    "<details> <summary>  Solution</summary>\n",
    "\n",
    "[exercise3Task6-3.yaml](./Solutions/exercise3Task6-3.yaml)\n",
    "\n",
    "```yaml\n",
    "apiVersion: storage.k8s.io/v1\n",
    "kind: StorageClass\n",
    "metadata:\n",
    "  name: c1-svm1-iscsi-sc\n",
    "provisioner: csi.trident.netapp.io\n",
    "parameters:\n",
    "  backendType: ontap-san\n",
    "  storagePools: \"c1-svm1-iscsi-tbe:.*\""
   ]
  },
  {
   "cell_type": "code",
   "execution_count": null,
   "metadata": {
    "vscode": {
     "languageId": "shellscript"
    }
   },
   "outputs": [],
   "source": [
    "kubectl create -f exercise3Task6-3mod.yaml\n"
   ]
  },
  {
   "cell_type": "markdown",
   "metadata": {},
   "source": [
    "---"
   ]
  },
  {
   "cell_type": "markdown",
   "metadata": {},
   "source": [
    "Review and update the storage class name in the YAML, and then create the PVC in\n",
    "[exercise3Task6-4.yaml](./exercise3Task6-4.yaml):\n",
    "\n",
    "\n",
    "<details> <summary>  Solution</summary>\n",
    "\n",
    "[exercise3Task6-4.yaml](./Solutions/exercise3Task6-4.yaml)  \n",
    "\n",
    "```yaml\n",
    "kind: PersistentVolumeClaim\n",
    "apiVersion: v1\n",
    "metadata:\n",
    "  name: c1-svm1-iscsi-pvc-1\n",
    "  namespace: default\n",
    "spec:\n",
    "  accessModes:\n",
    "    - ReadWriteOnce\n",
    "  resources:\n",
    "    requests:\n",
    "      storage: 1Gi\n",
    "  storageClassName: c1-svm1-iscsi-sc"
   ]
  },
  {
   "cell_type": "code",
   "execution_count": null,
   "metadata": {
    "vscode": {
     "languageId": "shellscript"
    }
   },
   "outputs": [],
   "source": [
    "kubectl create -f exercise3Task6-4mod.yaml\n"
   ]
  },
  {
   "cell_type": "markdown",
   "metadata": {},
   "source": [
    "---"
   ]
  },
  {
   "cell_type": "markdown",
   "metadata": {},
   "source": [
    "Navigate to ONTAP System Manager and see the new volume that Trident created:\n",
    "\n"
   ]
  },
  {
   "cell_type": "markdown",
   "metadata": {},
   "source": [
    "https://192.168.0.101/sysmgr/v4/storage/volumes.\n"
   ]
  },
  {
   "cell_type": "code",
   "execution_count": null,
   "metadata": {
    "vscode": {
     "languageId": "shellscript"
    }
   },
   "outputs": [],
   "source": [
    "ssh admin@cluster1 \"volume show -vserver svm1\""
   ]
  },
  {
   "cell_type": "markdown",
   "metadata": {},
   "source": [
    "---"
   ]
  },
  {
   "cell_type": "markdown",
   "metadata": {},
   "source": [
    "Navigate to the LUNs in ONTAP System Manager and see the new LUN that Trident created:\n",
    "\n"
   ]
  },
  {
   "cell_type": "markdown",
   "metadata": {},
   "source": [
    "https://192.168.0.101/sysmgr/v4/storage/luns.\n"
   ]
  },
  {
   "cell_type": "code",
   "execution_count": null,
   "metadata": {
    "vscode": {
     "languageId": "shellscript"
    }
   },
   "outputs": [],
   "source": [
    "ssh admin@cluster1 \"lun show -vserver svm1\""
   ]
  },
  {
   "cell_type": "markdown",
   "metadata": {},
   "source": [
    "---"
   ]
  },
  {
   "cell_type": "markdown",
   "metadata": {},
   "source": [
    "Review and update the claim name in the YAML, and then create the pod in the\n",
    "[exercise3Task6-5.yaml](./exercise3Task6-5.yaml) file:\n",
    "\n",
    "Save the file as **exercise3Task6-5mod.yaml**\n",
    "\n",
    "\n",
    "<details> <summary>  Solutions</summary>\n",
    "\n",
    "[exercise3Task6-5.yaml](./Solutions/exercise3Task6-5.yaml)  \n",
    "\n",
    "```yaml\n",
    "kind: Pod\n",
    "apiVersion: v1\n",
    "metadata:\n",
    "  name: san-pod\n",
    "  namespace: default\n",
    "  labels:\n",
    "    app: san-web\n",
    "spec:\n",
    "  volumes:\n",
    "    - name: san-storage\n",
    "      persistentVolumeClaim:\n",
    "       claimName: c1-svm1-iscsi-pvc-1\n",
    "  containers:\n",
    "    - name: san-container\n",
    "      image: nginx:1.25-alpine-slim\n",
    "      resources:\n",
    "        requests:\n",
    "          memory: \"64Mi\"\n",
    "          cpu: \"250m\"\n",
    "        limits:\n",
    "          memory: \"128Mi\"\n",
    "          cpu: \"500m\"\n",
    "      ports:\n",
    "        - containerPort: 80\n",
    "          name: \"http-server\"\n",
    "      volumeMounts:\n",
    "        - mountPath: \"/usr/share/nginx/html\"\n",
    "          name: san-storage"
   ]
  },
  {
   "cell_type": "code",
   "execution_count": null,
   "metadata": {
    "vscode": {
     "languageId": "shellscript"
    }
   },
   "outputs": [],
   "source": [
    "kubectl create -f exercise3Task6-5mod.yaml\n"
   ]
  },
  {
   "cell_type": "markdown",
   "metadata": {},
   "source": [
    "---"
   ]
  },
  {
   "cell_type": "markdown",
   "metadata": {},
   "source": [
    "Verify that you created the pod:\n"
   ]
  },
  {
   "cell_type": "code",
   "execution_count": null,
   "metadata": {
    "vscode": {
     "languageId": "shellscript"
    }
   },
   "outputs": [],
   "source": [
    "kubectl -n default get pod san-pod\n"
   ]
  },
  {
   "cell_type": "markdown",
   "metadata": {},
   "source": [
    "---"
   ]
  },
  {
   "cell_type": "markdown",
   "metadata": {},
   "source": [
    "Connect to the pod:\n"
   ]
  },
  {
   "cell_type": "markdown",
   "metadata": {
    "vscode": {
     "languageId": "shellscript"
    }
   },
   "source": [
    "`kubectl -n default exec -it san-pod -- /bin/sh`"
   ]
  },
  {
   "cell_type": "markdown",
   "metadata": {},
   "source": [
    "---"
   ]
  },
  {
   "cell_type": "markdown",
   "metadata": {},
   "source": [
    "View how the PVC is mounted in the container:\n",
    "\n",
    "`# df -h`\n",
    "\n"
   ]
  },
  {
   "cell_type": "markdown",
   "metadata": {},
   "source": [
    "---"
   ]
  },
  {
   "cell_type": "markdown",
   "metadata": {},
   "source": [
    "Change the directory to the Trident persistent volume:\n",
    "\n",
    "`# cd /usr/share/nginx/html`\n"
   ]
  },
  {
   "cell_type": "markdown",
   "metadata": {},
   "source": [
    "\n",
    "---"
   ]
  },
  {
   "cell_type": "markdown",
   "metadata": {},
   "source": [
    "Create a file in this location:\n",
    "\n",
    "`# echo '<html><body>Hello [your name] using iSCSI</body></html>' > index.html`\n",
    "\n"
   ]
  },
  {
   "cell_type": "markdown",
   "metadata": {},
   "source": [
    "---"
   ]
  },
  {
   "cell_type": "markdown",
   "metadata": {},
   "source": [
    "Use Ctrl-D to exit the container’s shell.\n"
   ]
  },
  {
   "cell_type": "code",
   "execution_count": null,
   "metadata": {
    "vscode": {
     "languageId": "shellscript"
    }
   },
   "outputs": [],
   "source": [
    "kubectl -n default exec -it san-pod -- /bin/sh -c \"df -h\"\n"
   ]
  },
  {
   "cell_type": "code",
   "execution_count": null,
   "metadata": {
    "vscode": {
     "languageId": "shellscript"
    }
   },
   "outputs": [],
   "source": [
    "kubectl -n default exec -it san-pod -- /bin/sh -c \"df -h\" |grep -iA1 00a098\n"
   ]
  },
  {
   "cell_type": "markdown",
   "metadata": {},
   "source": [
    "---"
   ]
  },
  {
   "cell_type": "code",
   "execution_count": null,
   "metadata": {
    "vscode": {
     "languageId": "shellscript"
    }
   },
   "outputs": [],
   "source": [
    "\n",
    "kubectl -n default exec -it san-pod -- /bin/sh -c \"echo '<html><body>Hello san-pod using iSCSI</body></html>' >  /usr/share/nginx/html/index.html;\"\n"
   ]
  },
  {
   "cell_type": "markdown",
   "metadata": {},
   "source": [
    "---"
   ]
  },
  {
   "cell_type": "markdown",
   "metadata": {},
   "source": [
    "CHALLENGE STEP: \n",
    "\n",
    "Create a NodePort service and view the custom webpage. \n",
    "\n",
    "Note:\n",
    "\n",
    "Check the default namespace you selected in IDE Kubernetes Extension\n",
    "\n",
    "An example of this can be found in Solutions/exercise3Task6-6.yaml.\n",
    "\n",
    "<details> <summary>Solution  </summary> \n",
    "\n",
    "[exercise3Task6-6.yaml](./Solutions/exercise3Task6-6.yaml) \n",
    "\n",
    "```yaml\n",
    "apiVersion: v1\n",
    "kind: Service\n",
    "metadata:\n",
    "  name: san-web\n",
    "  namespace: default\n",
    "spec:\n",
    "  type: NodePort\n",
    "  ports:\n",
    "    - port: 80\n",
    "      targetPort: 80\n",
    "  selector:\n",
    "    app: san-web"
   ]
  },
  {
   "cell_type": "code",
   "execution_count": null,
   "metadata": {
    "vscode": {
     "languageId": "shellscript"
    }
   },
   "outputs": [],
   "source": [
    "kubectl apply -f exercise3Task6-6mod.yaml"
   ]
  },
  {
   "cell_type": "code",
   "execution_count": null,
   "metadata": {
    "vscode": {
     "languageId": "shellscript"
    }
   },
   "outputs": [],
   "source": [
    "nodeport=$(kubectl -n default describe service san-web|grep -oP 'NodePort:\\s+<unset>\\s+\\K\\d+')\n",
    "\n",
    "echo \"http://kubwor1-1:$nodeport\""
   ]
  },
  {
   "cell_type": "markdown",
   "metadata": {},
   "source": [
    "---"
   ]
  },
  {
   "cell_type": "markdown",
   "metadata": {},
   "source": [
    "CHALLENGE STEP: \n",
    "\n",
    "Delete the pod and verify that the LUN still exists.\n"
   ]
  },
  {
   "cell_type": "code",
   "execution_count": null,
   "metadata": {
    "vscode": {
     "languageId": "shellscript"
    }
   },
   "outputs": [],
   "source": [
    "kubectl -n default delete pod san-pod"
   ]
  },
  {
   "cell_type": "code",
   "execution_count": null,
   "metadata": {
    "vscode": {
     "languageId": "shellscript"
    }
   },
   "outputs": [],
   "source": [
    "ssh admin@cluster1 lun show -vserver svm1"
   ]
  },
  {
   "cell_type": "markdown",
   "metadata": {},
   "source": [
    "---"
   ]
  },
  {
   "cell_type": "markdown",
   "metadata": {},
   "source": [
    "CHALLENGE STEP: \n",
    "\n",
    "Re-create the pod and view the webpage that contains your custom\n",
    "message.\n"
   ]
  },
  {
   "cell_type": "code",
   "execution_count": null,
   "metadata": {
    "vscode": {
     "languageId": "shellscript"
    }
   },
   "outputs": [],
   "source": [
    "nodeport=$(kubectl -n default describe service san-web|grep -oP 'NodePort:\\s+<unset>\\s+\\K\\d+')\n",
    "\n",
    "echo \"http://kubwor1-1:$nodeport\""
   ]
  },
  {
   "cell_type": "code",
   "execution_count": null,
   "metadata": {
    "vscode": {
     "languageId": "shellscript"
    }
   },
   "outputs": [],
   "source": [
    "ssh admin@cluster1 lun show -vserver svm1"
   ]
  },
  {
   "cell_type": "markdown",
   "metadata": {},
   "source": [
    "---"
   ]
  },
  {
   "cell_type": "markdown",
   "metadata": {},
   "source": [
    "Do not destroy any objects. You use the objects in a later exercise.\n"
   ]
  },
  {
   "cell_type": "markdown",
   "metadata": {},
   "source": [
    "---\n",
    "---"
   ]
  },
  {
   "cell_type": "markdown",
   "metadata": {},
   "source": [
    "#### Task 7: Configure customized naming conventions\n",
    "\n",
    "In this task, you will work with a custom naming convention for a new `TridentBackendConfig` definition.\n",
    "\n",
    "---"
   ]
  },
  {
   "cell_type": "markdown",
   "metadata": {},
   "source": [
    "Within ONTAP System Manager, review the volumes names created by Trident by default.\n",
    "\n",
    "Notice that default naming conventions for volumes looks something like this:\n",
    "\n",
    "`trident_pvc_e018e7ab_a95b_4cb7_a366_85953d8fdec5`\n"
   ]
  },
  {
   "cell_type": "markdown",
   "metadata": {},
   "source": [
    "\n",
    "---"
   ]
  },
  {
   "cell_type": "markdown",
   "metadata": {},
   "source": [
    "Review the [exercise3Task7-1.yaml](./exercise3Task7-1.yaml) file.\n",
    "\n",
    "Notice the following:\n",
    "\n",
    "1. This single file creates a secret for cluster1’s admin credentials and then uses that secret in `TridentBackendConfig`.\n",
    "\n",
    "2. In the `TridentBackendConfig` (tbc), the name of the tbc object is different than the backend. \n",
    "This is not necessary. We are just demonstrating that the tbc object and the backend can be different.\n",
    "\n",
    "3. The storageclass’ storagepools is linked to the backend name designated in the tbc object."
   ]
  },
  {
   "cell_type": "markdown",
   "metadata": {},
   "source": [
    "---"
   ]
  },
  {
   "cell_type": "markdown",
   "metadata": {},
   "source": [
    "Edit and save the [exercise3Task7-1.yaml](./exercise3Task7-1.yaml) file  as **exercise3Task7-1mod.yaml**  and replace the *change_me* in the following locations:\n",
    "\n",
    "- nameTemplate: '{{ .labels.cluster }}_{{ .volume.Namespace }}_{{.volume.RequestName }}_{{ .config.BackendName }}'\n",
    "\n",
    "- cluster: Cluster1\n",
    "\n",
    "Note the following:\n",
    "\n",
    "1. The labels.cluster in the name template will map to Cluster1 that we defined in the cluster label.\n",
    "\n",
    "2. The volume namespace will be the persistent volume claim’s namespace while the volume RequestName will be name of the persistent volume claim.\n",
    "\n",
    "3. Finally, the TridentBackendConfig’s BackendName will be appended to the end of the volume name.\n",
    "\n",
    "<details> <summary>Solution  </summary>\n",
    "\n",
    "[exercise3Task7-1.yaml](./Solutions/exercise3Task7-1.yaml)\n",
    "\n",
    "```yaml"
   ]
  },
  {
   "cell_type": "markdown",
   "metadata": {},
   "source": [
    "---"
   ]
  },
  {
   "cell_type": "markdown",
   "metadata": {},
   "source": [
    "Create the secret, TridentBackendConfig and storageclass:\n"
   ]
  },
  {
   "cell_type": "code",
   "execution_count": null,
   "metadata": {
    "vscode": {
     "languageId": "shellscript"
    }
   },
   "outputs": [],
   "source": [
    "\n",
    "kubectl create -f exercise3Task7-1mod.yaml\n"
   ]
  },
  {
   "cell_type": "markdown",
   "metadata": {},
   "source": [
    "---"
   ]
  },
  {
   "cell_type": "markdown",
   "metadata": {},
   "source": [
    "\n",
    "Next, create a pvc that uses the storageclass you created in this task by updating the *change_me* field in [exercise3Task7-2.yaml](./exercise3Task7-2.yaml). \n",
    "\n",
    "Save the files as **exercise3Task7-2mod.yaml** and then execute the file:\n",
    "\n",
    "\n",
    "<details> <summary>Solution</summary>\n",
    "\n",
    "[exercise3Task7-2.yaml](./Solutions/exercise3Task7-2.yaml)\n",
    "\n",
    "```yaml"
   ]
  },
  {
   "cell_type": "code",
   "execution_count": null,
   "metadata": {
    "vscode": {
     "languageId": "shellscript"
    }
   },
   "outputs": [],
   "source": [
    "kubectl create -f exercise3Task7-2mod.yaml\n"
   ]
  },
  {
   "cell_type": "markdown",
   "metadata": {},
   "source": [
    "---"
   ]
  },
  {
   "cell_type": "markdown",
   "metadata": {},
   "source": [
    "Review the PVC and PV created by exercise3Task7-2.yaml.\n"
   ]
  },
  {
   "cell_type": "code",
   "execution_count": null,
   "metadata": {
    "vscode": {
     "languageId": "shellscript"
    }
   },
   "outputs": [],
   "source": [
    "kubectl -n default get pvc  "
   ]
  },
  {
   "cell_type": "code",
   "execution_count": null,
   "metadata": {
    "vscode": {
     "languageId": "shellscript"
    }
   },
   "outputs": [],
   "source": [
    "kubectl -n default get pv"
   ]
  },
  {
   "cell_type": "markdown",
   "metadata": {},
   "source": [
    "---"
   ]
  },
  {
   "cell_type": "markdown",
   "metadata": {},
   "source": [
    "Within ONTAP System Manager, discover the name of the volume created by\n",
    "exercise3Task7-2.yaml.\n",
    "\n",
    "NOTE: \n",
    "\n",
    "Trident automatically adds a suffix corresponding to a slice of the volume’s UUID (a part of the volume.Name).\n"
   ]
  },
  {
   "cell_type": "code",
   "execution_count": null,
   "metadata": {
    "vscode": {
     "languageId": "shellscript"
    }
   },
   "outputs": [],
   "source": [
    "ssh admin@cluster1 volume show -vserver svm0"
   ]
  },
  {
   "cell_type": "markdown",
   "metadata": {},
   "source": [
    "---"
   ]
  },
  {
   "cell_type": "markdown",
   "metadata": {},
   "source": [
    "CHALLENGE STEP: \n",
    "\n",
    "Experiment adding or replacing the name template in the TridentBackendConfig with other naming conventions such:\n",
    "\n",
    "- {{ .config.StoragePrefix }}\n",
    "\n",
    "- {{ slice .volume.Name }}\n",
    "\n",
    "- Additional labels\n",
    "\n"
   ]
  },
  {
   "cell_type": "markdown",
   "metadata": {},
   "source": [
    "---"
   ]
  },
  {
   "cell_type": "markdown",
   "metadata": {},
   "source": [
    "CHALLENGE STEP: \n",
    "\n",
    "Discover the ONTAP volume name in the persistent volume’s internal\n",
    "name attribute.\n"
   ]
  },
  {
   "cell_type": "markdown",
   "metadata": {},
   "source": [
    "---"
   ]
  },
  {
   "cell_type": "markdown",
   "metadata": {},
   "source": [
    "CHALLENGE STEP: \n",
    "\n",
    "Discover the default storagePrefix value if the TridentBackend (tbe) object\n",
    "has {} as the value config.storage[0].ontap_config.storagePrefix.\n",
    "\n",
    "Try:\n",
    "\n",
    "`kubectl -n trident get tbe [some_tbe] -o jsonpath={\".config.ontap_config.storage[0].defaults.nameTemplate\"};echo`"
   ]
  },
  {
   "cell_type": "code",
   "execution_count": null,
   "metadata": {
    "vscode": {
     "languageId": "shellscript"
    }
   },
   "outputs": [],
   "source": [
    "kubectl -n trident get tbe"
   ]
  },
  {
   "cell_type": "code",
   "execution_count": null,
   "metadata": {
    "vscode": {
     "languageId": "shellscript"
    }
   },
   "outputs": [],
   "source": [
    "kubectl -n trident get tbe tbe-vrts8 -o jsonpath={\".config.ontap_config.storage[0].defaults.nameTemplate\"};echo"
   ]
  },
  {
   "cell_type": "code",
   "execution_count": null,
   "metadata": {
    "vscode": {
     "languageId": "shellscript"
    }
   },
   "outputs": [],
   "source": [
    "kubectl -n default get pvc "
   ]
  },
  {
   "cell_type": "markdown",
   "metadata": {},
   "source": [
    "---\n",
    "---"
   ]
  },
  {
   "cell_type": "markdown",
   "metadata": {},
   "source": [
    "#### Task 8: Create a NAS economy back end\n",
    "\n",
    "In this task, you will create a TridentBackendConfig to provisions qtrees instead of volumes, a storage class to use that backend configuration, and then a persistent volume claim to generate storage.\n",
    "\n"
   ]
  },
  {
   "cell_type": "markdown",
   "metadata": {},
   "source": [
    "---"
   ]
  },
  {
   "cell_type": "markdown",
   "metadata": {},
   "source": [
    "Review and update the *change_me* field in [exercise3Task8-1.yaml](./exercise3Task8-1.yaml).\n",
    "\n",
    "Save the file as **exercise3Task8-1mod.yaml**\n"
   ]
  },
  {
   "cell_type": "markdown",
   "metadata": {},
   "source": [
    "Create the secret, TridentBackendConfig and storageclass:\n",
    "\n",
    "<details> <summary> Solution </summary> \n",
    "\n",
    "[exercise3Task8-1.yaml](./Solutions/exercise3Task8-1.yaml)\n",
    " \n",
    "```yaml"
   ]
  },
  {
   "cell_type": "code",
   "execution_count": null,
   "metadata": {
    "vscode": {
     "languageId": "shellscript"
    }
   },
   "outputs": [],
   "source": [
    "kubectl apply -f exercise3Task8-1mod.yaml\n"
   ]
  },
  {
   "cell_type": "markdown",
   "metadata": {},
   "source": [
    "---\n"
   ]
  },
  {
   "cell_type": "markdown",
   "metadata": {},
   "source": [
    "Next, create a pvc that uses the storageclass you created in this task by updating the\n",
    "*change_me* field in [exercise3Task8-2.yaml](./exercise3Task8-2.yaml).\n",
    "\n",
    "Save the file as **exercise3Task8-2mod.yaml** and then execute the file:\n",
    "\n",
    "\n",
    "<details> <summary>Solution </summary> \n",
    "\n",
    "[exercise3Task8-2.yaml](./Solutions/exercise3Task8-2.yaml)\n",
    "\n",
    " ```yaml"
   ]
  },
  {
   "cell_type": "code",
   "execution_count": null,
   "metadata": {
    "vscode": {
     "languageId": "shellscript"
    }
   },
   "outputs": [],
   "source": [
    "kubectl create -f exercise3Task8-2mod.yaml\n"
   ]
  },
  {
   "cell_type": "markdown",
   "metadata": {},
   "source": [
    "---"
   ]
  },
  {
   "cell_type": "markdown",
   "metadata": {},
   "source": [
    "---"
   ]
  },
  {
   "cell_type": "markdown",
   "metadata": {},
   "source": [
    "Review the PVC and PV created by exercise3Task8-2.yaml.\n"
   ]
  },
  {
   "cell_type": "markdown",
   "metadata": {},
   "source": [
    "---"
   ]
  },
  {
   "cell_type": "markdown",
   "metadata": {},
   "source": [
    "\n",
    "Within ONTAP System Manager, locate the name of the volume created by exercise3Task8-2.yaml. \n",
    "\n",
    "Notice the naming structure of the volume and the qtrees.\n"
   ]
  },
  {
   "cell_type": "code",
   "execution_count": null,
   "metadata": {
    "vscode": {
     "languageId": "shellscript"
    }
   },
   "outputs": [],
   "source": [
    "ssh admin@cluster1 volume show -vserver svm0|grep eco"
   ]
  },
  {
   "cell_type": "markdown",
   "metadata": {},
   "source": [
    "---"
   ]
  },
  {
   "cell_type": "markdown",
   "metadata": {},
   "source": [
    "Create another persistent volume claim in [exercise3Task8-3.yaml](./exercise3Task8-3.yaml):\n",
    "\n",
    "<details> <summary>Solution </summary> \n",
    "\n",
    "[exercise3Task8-3.yaml](./Solutions/exercise3Task8-3.yaml)\n",
    "\n",
    " ```yaml\n"
   ]
  },
  {
   "cell_type": "code",
   "execution_count": null,
   "metadata": {
    "vscode": {
     "languageId": "shellscript"
    }
   },
   "outputs": [],
   "source": [
    "kubectl create -f exercise3Task8-3mod.yaml\n"
   ]
  },
  {
   "cell_type": "markdown",
   "metadata": {},
   "source": [
    "---"
   ]
  },
  {
   "cell_type": "markdown",
   "metadata": {},
   "source": [
    "Review the resulting qtree in ONTAP System Manager.\n"
   ]
  },
  {
   "cell_type": "code",
   "execution_count": null,
   "metadata": {
    "vscode": {
     "languageId": "shellscript"
    }
   },
   "outputs": [],
   "source": [
    "ssh admin@cluster1 qtree show -vserver svm0\n"
   ]
  },
  {
   "cell_type": "markdown",
   "metadata": {},
   "source": [
    "#### Task 9: Provision NVMe namespaces using Trident\n",
    "\n",
    "In this task, you create an NVMe back end and a storage class, and you use that storage class to\n",
    "create a persistent volume for a pod. \n",
    "\n",
    "Previously, in Task 6, you configured svm1 to serve the NVMe/TCP protocol.\n"
   ]
  },
  {
   "cell_type": "markdown",
   "metadata": {},
   "source": [
    "---"
   ]
  },
  {
   "cell_type": "markdown",
   "metadata": {},
   "source": [
    "Update the [exercise3Task9-1.yaml](./exercise3Task9-1.yaml) file with the details of the NVMe functionality for svm1 by using the **ontap-san** storage driver:\n",
    "\n",
    "Save the file as **exercise3Task9-1mod.yaml**\n",
    "\n",
    "  - Management LIF: 192.168.0.40\n",
    "  \n",
    "  - SVM: svm1\n",
    "  \n",
    "  - sanType: nvme\n",
    "  \n",
    "  - useREST: true\n",
    "\n",
    "NOTE:\n",
    "\n",
    "You created the credentials secret, c1-svm1-backend-secret, previously.\n",
    "\n",
    "<details> <summary>Solution </summary>\n",
    "\n",
    "[exercise3Task9-1.yaml](./Solutions/exercise3Task9-1.yaml)  \n",
    "\n",
    "```yaml"
   ]
  },
  {
   "cell_type": "markdown",
   "metadata": {},
   "source": [
    "---"
   ]
  },
  {
   "cell_type": "markdown",
   "metadata": {},
   "source": [
    "\n",
    "---"
   ]
  },
  {
   "cell_type": "markdown",
   "metadata": {},
   "source": [
    "Create the secret and the back end by using the kubectl tool:\n"
   ]
  },
  {
   "cell_type": "code",
   "execution_count": null,
   "metadata": {
    "vscode": {
     "languageId": "shellscript"
    }
   },
   "outputs": [],
   "source": [
    "kubectl create -f exercise3Task9-1mod.yaml\n"
   ]
  },
  {
   "cell_type": "markdown",
   "metadata": {},
   "source": [
    "---"
   ]
  },
  {
   "cell_type": "markdown",
   "metadata": {},
   "source": [
    "In the Kubernetes IDE extension, ensure you are in the trident namespace. \n",
    "\n",
    "Navigate to \n",
    "\n",
    "**Clusters** > \n",
    "\n",
    "  **source-admin@source** > \n",
    "\n",
    "**Custom Resources** >\n",
    "\n",
    "**tridentbackendconfigs** > \n",
    "\n",
    "**c1-svm1-nvme-tbc**.\n",
    "\n",
    "This back end is the one that you created. \n",
    "\n",
    "The status should show the last operation status as success and the phase as bound.\n"
   ]
  },
  {
   "cell_type": "markdown",
   "metadata": {},
   "source": [
    "---"
   ]
  },
  {
   "cell_type": "markdown",
   "metadata": {},
   "source": [
    "Verify that you created the back-end configuration:\n",
    "\n"
   ]
  },
  {
   "cell_type": "code",
   "execution_count": null,
   "metadata": {
    "vscode": {
     "languageId": "shellscript"
    }
   },
   "outputs": [],
   "source": [
    "kubectl -n trident get tbc -o wide\n"
   ]
  },
  {
   "cell_type": "markdown",
   "metadata": {},
   "source": [
    "---"
   ]
  },
  {
   "cell_type": "markdown",
   "metadata": {},
   "source": [
    "Get details on the back-end configuration that you created:\n"
   ]
  },
  {
   "cell_type": "code",
   "execution_count": null,
   "metadata": {
    "vscode": {
     "languageId": "shellscript"
    }
   },
   "outputs": [],
   "source": [
    "kubectl -n trident describe tbc c1-svm1-nvme-tbc\n"
   ]
  },
  {
   "cell_type": "markdown",
   "metadata": {},
   "source": [
    "---"
   ]
  },
  {
   "cell_type": "markdown",
   "metadata": {},
   "source": [
    "Review and update the name of the back end in the YAML, and then create the storage class in the exercise3Task9-2.yaml file:\n",
    "\n",
    "Save the file as **exercise3Task9-2mod.yaml**\n",
    "\n",
    "<details> <summary>Solution </summary> \n",
    "\n",
    "[exercise3Task9-2.yaml](./Solutions/exercise3Task9-2.yaml) \n",
    "\n",
    "```yaml"
   ]
  },
  {
   "cell_type": "code",
   "execution_count": null,
   "metadata": {
    "vscode": {
     "languageId": "shellscript"
    }
   },
   "outputs": [],
   "source": [
    "\n",
    "kubectl create -f exercise3Task9-2mod.yaml\n"
   ]
  },
  {
   "cell_type": "markdown",
   "metadata": {},
   "source": [
    "---"
   ]
  },
  {
   "cell_type": "markdown",
   "metadata": {},
   "source": [
    "Review and update the storage class name in the YAML, and then create the PVC in the\n",
    "[exercise3Task9-3.yaml](./exercise3Task9-3.yaml) file:\n",
    "\n",
    "Save the file as exercise3Task9-3mod.yaml\n",
    "\n",
    "<details> <summary>Solution </summary>\n",
    "\n",
    "[exercise3Task9-3.yaml](./Solutions/exercise3Task9-3.yaml)  \n",
    "\n",
    "```yaml"
   ]
  },
  {
   "cell_type": "code",
   "execution_count": null,
   "metadata": {
    "vscode": {
     "languageId": "shellscript"
    }
   },
   "outputs": [],
   "source": [
    "kubectl create -f exercise3Task9-3mod.yaml\n"
   ]
  },
  {
   "cell_type": "markdown",
   "metadata": {},
   "source": [
    "---"
   ]
  },
  {
   "cell_type": "markdown",
   "metadata": {},
   "source": [
    "Navigate to ONTAP System Manager and see the new volume that Trident created:\n",
    "\n",
    "https://192.168.0.101/sysmgr/v4/storage/volumes.\n"
   ]
  },
  {
   "cell_type": "code",
   "execution_count": null,
   "metadata": {
    "vscode": {
     "languageId": "shellscript"
    }
   },
   "outputs": [],
   "source": [
    "ssh admin@cluster1 volume show -vserver svm1"
   ]
  },
  {
   "cell_type": "markdown",
   "metadata": {},
   "source": [
    "---"
   ]
  },
  {
   "cell_type": "markdown",
   "metadata": {},
   "source": [
    "Navigate to NVMe Namespaces in ONTAP System Manager and see the new namespace that\n",
    "Trident created:\n",
    "\n",
    "https://192.168.0.101/sysmgr/v4/storage/nvmeNamespaces.\n"
   ]
  },
  {
   "cell_type": "code",
   "execution_count": null,
   "metadata": {
    "vscode": {
     "languageId": "shellscript"
    }
   },
   "outputs": [],
   "source": [
    "ssh admin@cluster1 nvme namespace show -vserver svm1 "
   ]
  },
  {
   "cell_type": "markdown",
   "metadata": {},
   "source": [
    "---"
   ]
  },
  {
   "cell_type": "markdown",
   "metadata": {},
   "source": [
    "Review and update the claim name in the YAML, and then create the pod in the\n",
    "[exercise3Task9-4.yaml](./exercise3Task9-4.yaml) file:\n",
    "\n",
    "Save the file as exercise3Task9-4mod.yaml\n",
    "\n",
    "<details> <summary>Solution </summary>  \n",
    "\n",
    "[exercise3Task9-4.yaml](./Solutions/exercise3Task9-4.yaml)\n",
    "\n",
    "```yaml"
   ]
  },
  {
   "cell_type": "code",
   "execution_count": null,
   "metadata": {
    "vscode": {
     "languageId": "shellscript"
    }
   },
   "outputs": [],
   "source": [
    "\n",
    "kubectl create -f exercise3Task9-4mod.yaml\n"
   ]
  },
  {
   "cell_type": "markdown",
   "metadata": {},
   "source": [
    "---"
   ]
  },
  {
   "cell_type": "markdown",
   "metadata": {},
   "source": [
    "Verify that the pod was created successfully:\n"
   ]
  },
  {
   "cell_type": "code",
   "execution_count": null,
   "metadata": {
    "vscode": {
     "languageId": "shellscript"
    }
   },
   "outputs": [],
   "source": [
    "\n",
    "kubectl -n default get pod nvme-pod\n"
   ]
  },
  {
   "cell_type": "markdown",
   "metadata": {},
   "source": [
    "---"
   ]
  },
  {
   "cell_type": "markdown",
   "metadata": {},
   "source": [
    "CHALLENGE STEP: \n",
    "\n",
    "Expose the pod using a service and try to access it.\n",
    "\n"
   ]
  },
  {
   "cell_type": "code",
   "execution_count": null,
   "metadata": {
    "vscode": {
     "languageId": "shellscript"
    }
   },
   "outputs": [],
   "source": [
    "kubectl -n default expose pod nvme-pod --type=NodePort --name=nvme-service\n"
   ]
  },
  {
   "cell_type": "code",
   "execution_count": null,
   "metadata": {
    "vscode": {
     "languageId": "shellscript"
    }
   },
   "outputs": [],
   "source": [
    "kubectl -n default exec -it nfs-pod -- /bin/sh -c \"echo '<html><body>Hello nfs-pod using NFS</body></html>' >  /usr/share/nginx/html/index.html;\"\n"
   ]
  },
  {
   "cell_type": "code",
   "execution_count": null,
   "metadata": {
    "vscode": {
     "languageId": "shellscript"
    }
   },
   "outputs": [],
   "source": [
    "kubectl -n default exec  -it nvme-pod -- /bin/sh -c \"echo '<html><body>hello from nvme-pod </body></html>' > /usr/share/nginx/html/index.html\""
   ]
  },
  {
   "cell_type": "code",
   "execution_count": null,
   "metadata": {
    "vscode": {
     "languageId": "shellscript"
    }
   },
   "outputs": [],
   "source": [
    "nodeport=$(kubectl -n default describe service nvme-service|grep -oP 'NodePort:\\s+<unset>\\s+\\K\\d+')\n",
    "\n",
    "echo \"http://kubwor1-1:$nodeport\""
   ]
  },
  {
   "cell_type": "markdown",
   "metadata": {},
   "source": [
    "---\n",
    "---"
   ]
  },
  {
   "cell_type": "markdown",
   "metadata": {},
   "source": [
    "End of exercise"
   ]
  }
 ],
 "metadata": {
  "kernelspec": {
   "display_name": "Bash",
   "language": "bash",
   "name": "bash"
  },
  "language_info": {
   "codemirror_mode": "shell",
   "file_extension": ".sh",
   "mimetype": "text/x-sh",
   "name": "bash"
  }
 },
 "nbformat": 4,
 "nbformat_minor": 2
}
