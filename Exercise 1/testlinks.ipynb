{
 "cells": [
  {
   "cell_type": "markdown",
   "metadata": {},
   "source": [
    "#<a id=\"section11\"></a>"
   ]
  },
  {
   "cell_type": "markdown",
   "metadata": {},
   "source": [
    "# Sectionn 1 \n",
    "\n",
    "\n",
    "\n",
    "This is the content of Section 1.\n",
    "\n",
    "## Subsection 1.1 <a id=\"subsection1.1\"></a>\n",
    "\n",
    "This is the content of Subsection 1.1.\n",
    "\n"
   ]
  },
  {
   "cell_type": "markdown",
   "metadata": {},
   "source": [
    "# Section 2\n",
    "\n",
    "This is the content of Section 2. You can go back to [Section 1](#section1) or to Subsection 1.1."
   ]
  },
  {
   "cell_type": "markdown",
   "metadata": {},
   "source": []
  },
  {
   "cell_type": "markdown",
   "metadata": {},
   "source": []
  },
  {
   "cell_type": "markdown",
   "metadata": {},
   "source": [
    "\n",
    "kubectl exec direct-nfs-pod -it -- /bin/sh\n",
    "\n",
    "\n",
    "[section1](#section11)\n",
    "\n"
   ]
  },
  {
   "cell_type": "markdown",
   "metadata": {},
   "source": []
  }
 ],
 "metadata": {
  "language_info": {
   "name": "python"
  }
 },
 "nbformat": 4,
 "nbformat_minor": 2
}
