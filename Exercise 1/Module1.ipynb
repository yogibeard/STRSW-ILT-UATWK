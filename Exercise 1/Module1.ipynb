{
 "cells": [
  {
   "cell_type": "markdown",
   "metadata": {},
   "source": [
    "# Module 1: Kubernetes Storage Overview\n",
    "\n",
    "## Exercise 1: Working with Kubernetes Storage Volumes\n",
    "\n",
    "In this exercise, you explore native Kubernetes storage objects, including emptyDir, hostPath, and NFS\n",
    "volume types. \n",
    "\n",
    "You also create a manual persistent volume (PV) and persistent volume claim (PVC).\n",
    "\n",
    "**Objectives**\n",
    "\n",
    "This exercise focuses on enabling you to do the following:\n",
    "  - Set up an emptyDir volume\n",
    "  - Configure a hostPath volume\n",
    "  - Deploy a pod with two containers that share storage\n",
    "  - Configure an NFS server by using NetApp ONTAP software\n",
    "  - Set up an NFS volume\n",
    "  - Configure a PV and a PVC\n"
   ]
  },
  {
   "cell_type": "markdown",
   "metadata": {},
   "source": [
    "**Exercise Equipment**\n",
    "\n",
    "In this exercise, you use the following systems.\n",
    "\n",
    "| System                  | Host Name   | IP Addresses   | User Name (case sensitive) | Password  |\n",
    "|-------------------------|-------------|----------------|----------------------------|-----------|\n",
    "| Linux Mint 20           | jumphost    | 192.168.0.5    | user                       | Netapp1!  |\n",
    "| Kubernetes Worker 1     | kubwor1-1   | 192.168.0.62   | root                       | Netapp1!  |\n",
    "| Kubernetes Worker 2     | kubwor1-2   | 192.168.0.63   | root                       | Netapp1!  |\n",
    "| Kubernetes Worker 3     | kubwor1-3   | 192.168.0.64   | root                       | Netapp1!  |"
   ]
  },
  {
   "cell_type": "markdown",
   "metadata": {},
   "source": [
    "**Prerequisites**\n",
    "\n",
    "Before starting this exercise, you should take the following actions:\n",
    "  - Set up your Integrated Development Environment (IDE)\n",
    "  - Download the courseware GIT repository\n",
    "  - Configure your IDE to have access to your Kubernetes clusters\n"
   ]
  },
  {
   "cell_type": "markdown",
   "metadata": {},
   "source": [
    "#### Task 1: Set up an emptyDir volume\n",
    "\n",
    "In this task, you create the simplest volume option available in Kubernetes: **emptyDir**.\n"
   ]
  },
  {
   "cell_type": "markdown",
   "metadata": {},
   "source": [
    "---"
   ]
  },
  {
   "cell_type": "markdown",
   "metadata": {},
   "source": [
    "All files in this exercise have the relative path of Exercise 1. \n",
    "\n",
    "If you use kubectl command via a terminal window, change directory to the Exercise 1 directory"
   ]
  },
  {
   "cell_type": "markdown",
   "metadata": {},
   "source": [
    "---"
   ]
  },
  {
   "cell_type": "markdown",
   "metadata": {},
   "source": [
    "Review and update the [exercise1Task1.yaml](./exercise1Task1.yaml) file with the following information,\n",
    "\n",
    "and then save the file as **exercise1Task1mod.yaml**.\n",
    "\n",
    "```yaml\n",
    "volumeMounts:\n",
    "- mountPath: /opt/this\n",
    "  name: myvol\n",
    "volumes:\n",
    "- name: myvol\n",
    "  emptyDir: {}\n"
   ]
  },
  {
   "cell_type": "markdown",
   "metadata": {},
   "source": [
    "---"
   ]
  },
  {
   "cell_type": "markdown",
   "metadata": {},
   "source": [
    "Create an instance of the exercise1Task1mod.yaml file:\n"
   ]
  },
  {
   "cell_type": "code",
   "execution_count": null,
   "metadata": {
    "vscode": {
     "languageId": "shellscript"
    }
   },
   "outputs": [],
   "source": [
    "kubectl create -f exercise1Task1mod.yaml\n"
   ]
  },
  {
   "cell_type": "markdown",
   "metadata": {},
   "source": [
    "---"
   ]
  },
  {
   "cell_type": "markdown",
   "metadata": {},
   "source": [
    "Describe the pod again and review the events:\n"
   ]
  },
  {
   "cell_type": "code",
   "execution_count": null,
   "metadata": {
    "vscode": {
     "languageId": "shellscript"
    }
   },
   "outputs": [],
   "source": [
    "kubectl describe pod emptydir-pod\n"
   ]
  },
  {
   "cell_type": "markdown",
   "metadata": {},
   "source": [
    "---"
   ]
  },
  {
   "cell_type": "markdown",
   "metadata": {},
   "source": [
    "Answer the following question:\n",
    "\n",
    "Is the pod running?\n"
   ]
  },
  {
   "cell_type": "markdown",
   "metadata": {},
   "source": [
    "---"
   ]
  },
  {
   "cell_type": "markdown",
   "metadata": {},
   "source": [
    "Connect to the pod:\n"
   ]
  },
  {
   "cell_type": "code",
   "execution_count": null,
   "metadata": {
    "vscode": {
     "languageId": "shellscript"
    }
   },
   "outputs": [],
   "source": [
    "kubectl exec  emptydir-pod -- ls -la /opt/this"
   ]
  },
  {
   "cell_type": "markdown",
   "metadata": {},
   "source": [
    "---"
   ]
  },
  {
   "cell_type": "markdown",
   "metadata": {},
   "source": [
    "From the container’s prompt, list the directory of the /opt/this directory.\n"
   ]
  },
  {
   "cell_type": "markdown",
   "metadata": {},
   "source": [
    "---"
   ]
  },
  {
   "cell_type": "markdown",
   "metadata": {},
   "source": [
    "From the container’s prompt, create a file with the touch command in the /opt/this\n",
    "directory.\n"
   ]
  },
  {
   "cell_type": "code",
   "execution_count": null,
   "metadata": {
    "vscode": {
     "languageId": "shellscript"
    }
   },
   "outputs": [],
   "source": [
    "kubectl exec emptydir-pod -- touch /opt/this/file1"
   ]
  },
  {
   "cell_type": "markdown",
   "metadata": {},
   "source": [
    "---"
   ]
  },
  {
   "cell_type": "markdown",
   "metadata": {},
   "source": [
    "From the container’s prompt, list the directory of the /opt/this directory.\n"
   ]
  },
  {
   "cell_type": "code",
   "execution_count": null,
   "metadata": {
    "vscode": {
     "languageId": "shellscript"
    }
   },
   "outputs": [],
   "source": [
    "kubectl exec  emptydir-pod -- ls -la /opt/this"
   ]
  },
  {
   "cell_type": "markdown",
   "metadata": {},
   "source": [
    "---"
   ]
  },
  {
   "cell_type": "markdown",
   "metadata": {},
   "source": [
    "Exit the container’s prompt.\n"
   ]
  },
  {
   "cell_type": "markdown",
   "metadata": {},
   "source": [
    "---"
   ]
  },
  {
   "cell_type": "markdown",
   "metadata": {},
   "source": [
    "Delete the emptyDir pod:\n"
   ]
  },
  {
   "cell_type": "code",
   "execution_count": null,
   "metadata": {
    "vscode": {
     "languageId": "shellscript"
    }
   },
   "outputs": [],
   "source": [
    "kubectl delete pod emptydir-pod\n"
   ]
  },
  {
   "cell_type": "markdown",
   "metadata": {},
   "source": [
    "---"
   ]
  },
  {
   "cell_type": "markdown",
   "metadata": {},
   "source": [
    "This course includes CHALLENGE STEPS to help you to explore deeper sections of\n",
    "the Kubernetes ecosystem. \n",
    "\n",
    "NOTE: These CHALLENGE STEPS are optional, but you cannot skip steps if you want to complete the entire challenge.\n"
   ]
  },
  {
   "cell_type": "markdown",
   "metadata": {},
   "source": [
    "---"
   ]
  },
  {
   "cell_type": "markdown",
   "metadata": {},
   "source": [
    "CHALLENGE STEP: Re-create the pod.\n",
    "\n",
    "Does the file that you created in still exist?\n"
   ]
  },
  {
   "cell_type": "code",
   "execution_count": null,
   "metadata": {
    "vscode": {
     "languageId": "shellscript"
    }
   },
   "outputs": [],
   "source": [
    "kubectl create -f exercise1Task1mod.yaml\n"
   ]
  },
  {
   "cell_type": "code",
   "execution_count": null,
   "metadata": {
    "vscode": {
     "languageId": "shellscript"
    }
   },
   "outputs": [],
   "source": [
    "kubectl get pod emptydir-pod -o wide\n"
   ]
  },
  {
   "cell_type": "code",
   "execution_count": null,
   "metadata": {
    "vscode": {
     "languageId": "shellscript"
    }
   },
   "outputs": [],
   "source": [
    "kubectl exec  emptydir-pod -- ls -la /opt/this"
   ]
  },
  {
   "cell_type": "markdown",
   "metadata": {},
   "source": [
    "---"
   ]
  },
  {
   "cell_type": "markdown",
   "metadata": {},
   "source": [
    "CHALLENGE STEP: Exit the container’s prompt and delete the second instance of the\n",
    "emptyDir pod.\n"
   ]
  },
  {
   "cell_type": "code",
   "execution_count": null,
   "metadata": {
    "vscode": {
     "languageId": "shellscript"
    }
   },
   "outputs": [],
   "source": [
    "kubectl delete pod emptydir-pod\n"
   ]
  },
  {
   "cell_type": "markdown",
   "metadata": {},
   "source": [
    "---\n",
    "---"
   ]
  },
  {
   "cell_type": "markdown",
   "metadata": {},
   "source": [
    "#### Task 2: Configure a hostPath volume\n",
    "\n",
    "In this task, you create a Debian container and provide access to a local mount point on the hosting worker node.\n"
   ]
  },
  {
   "cell_type": "markdown",
   "metadata": {},
   "source": [
    "---"
   ]
  },
  {
   "cell_type": "markdown",
   "metadata": {},
   "source": [
    "Review and update the [exercise1Task2-1.yaml](./exercise1Task2-1.yaml) file with the following definitions, \n",
    "\n",
    "and then save the file as **exercise1Task2-1mod.yaml**.\n",
    "\n",
    "\n",
    "```yaml\n",
    "spec: \n",
    "  volumes:\n",
    "  - name: local-vol\n",
    "    hostPath:\n",
    "      path: /hostVol\n",
    "      type: Directory\n",
    "  Containers: \n",
    "    volumeMounts:\n",
    "    - mountPath: /root/\n",
    "      name: local-vol\n"
   ]
  },
  {
   "cell_type": "markdown",
   "metadata": {},
   "source": [
    "---\n"
   ]
  },
  {
   "cell_type": "markdown",
   "metadata": {},
   "source": [
    "You can find the solution in the subfolder.\n"
   ]
  },
  {
   "cell_type": "markdown",
   "metadata": {},
   "source": [
    "---"
   ]
  },
  {
   "cell_type": "markdown",
   "metadata": {},
   "source": [
    "Create an instance of the exercise1Task2-1mod.yaml file:\n"
   ]
  },
  {
   "cell_type": "code",
   "execution_count": null,
   "metadata": {
    "vscode": {
     "languageId": "shellscript"
    }
   },
   "outputs": [],
   "source": [
    "kubectl create -f exercise1Task2-1mod.yaml\n"
   ]
  },
  {
   "cell_type": "markdown",
   "metadata": {},
   "source": [
    "---"
   ]
  },
  {
   "cell_type": "markdown",
   "metadata": {},
   "source": [
    "Identify which node the pod is running on by using the \n",
    "\n",
    "`kubectl get pods -o wide` \n",
    "\n",
    "command.\n"
   ]
  },
  {
   "cell_type": "markdown",
   "metadata": {},
   "source": [
    "---"
   ]
  },
  {
   "cell_type": "code",
   "execution_count": null,
   "metadata": {
    "vscode": {
     "languageId": "shellscript"
    }
   },
   "outputs": [],
   "source": [
    "kubectl get pods -o wide -w"
   ]
  },
  {
   "cell_type": "markdown",
   "metadata": {},
   "source": [
    "Describe the pod, review the events, and answer the following questions:\n",
    "\n",
    "Is the pod running? Why or why not?\n"
   ]
  },
  {
   "cell_type": "code",
   "execution_count": null,
   "metadata": {
    "vscode": {
     "languageId": "shellscript"
    }
   },
   "outputs": [],
   "source": [
    "kubectl describe pod hostpath-pod"
   ]
  },
  {
   "cell_type": "markdown",
   "metadata": {},
   "source": [
    "---"
   ]
  },
  {
   "cell_type": "markdown",
   "metadata": {},
   "source": [
    "Using a new terminal window, open a Secure Shell (SSH) session to the worker node that is assigned to the pod:\n",
    "\n",
    "ssh root@192.168.0.6x\n",
    "\n",
    "Create the required directory on the worker:\n",
    "\n",
    "`mkdir /hostVol`"
   ]
  },
  {
   "cell_type": "code",
   "execution_count": null,
   "metadata": {
    "vscode": {
     "languageId": "shellscript"
    }
   },
   "outputs": [],
   "source": [
    "pod=$(kubectl get pods -o wide | awk 'NR==2{print $7}');ssh root@$pod \"mkdir -p /hostVol; ls -d /hos*\""
   ]
  },
  {
   "cell_type": "markdown",
   "metadata": {},
   "source": [
    "\n",
    "---"
   ]
  },
  {
   "cell_type": "markdown",
   "metadata": {},
   "source": [
    "From the worker node’s prompt, create a local file in the directory:\n"
   ]
  },
  {
   "cell_type": "code",
   "execution_count": null,
   "metadata": {
    "vscode": {
     "languageId": "shellscript"
    }
   },
   "outputs": [],
   "source": [
    "\n",
    "ssh root@$pod \"touch /hostVol/exercise1Task2; ls /hostVol/\"\n"
   ]
  },
  {
   "cell_type": "markdown",
   "metadata": {},
   "source": [
    "---"
   ]
  },
  {
   "cell_type": "markdown",
   "metadata": {},
   "source": [
    "Wait a few minutes for the pod to identify the new directory.\n"
   ]
  },
  {
   "cell_type": "markdown",
   "metadata": {},
   "source": [
    "---"
   ]
  },
  {
   "cell_type": "markdown",
   "metadata": {},
   "source": [
    "Describe the pod again, and review the events:\n"
   ]
  },
  {
   "cell_type": "code",
   "execution_count": null,
   "metadata": {
    "vscode": {
     "languageId": "shellscript"
    }
   },
   "outputs": [],
   "source": [
    "\n",
    "kubectl describe pod hostpath-pod"
   ]
  },
  {
   "cell_type": "markdown",
   "metadata": {},
   "source": [
    "---"
   ]
  },
  {
   "cell_type": "markdown",
   "metadata": {},
   "source": [
    "Answer the following question:\n",
    "\n",
    "Is the pod running?\n"
   ]
  },
  {
   "cell_type": "markdown",
   "metadata": {},
   "source": [
    "---"
   ]
  },
  {
   "cell_type": "markdown",
   "metadata": {},
   "source": [
    "The pod should be running. \n",
    "\n",
    "If the pod is not running, delete the pod and re-create it.\n"
   ]
  },
  {
   "cell_type": "markdown",
   "metadata": {},
   "source": [
    "---"
   ]
  },
  {
   "cell_type": "markdown",
   "metadata": {},
   "source": [
    "Connect to the pod and list the contents of the /root/ directory:\n"
   ]
  },
  {
   "cell_type": "code",
   "execution_count": null,
   "metadata": {
    "vscode": {
     "languageId": "shellscript"
    }
   },
   "outputs": [],
   "source": [
    "kubectl exec hostpath-pod -- ls -l /root/"
   ]
  },
  {
   "cell_type": "markdown",
   "metadata": {},
   "source": [
    "Answer the following question:\n",
    "\n",
    "Do you see the file that you created from the local worker node?\n"
   ]
  },
  {
   "cell_type": "markdown",
   "metadata": {},
   "source": [
    "---"
   ]
  },
  {
   "cell_type": "markdown",
   "metadata": {},
   "source": [
    "From the container’s prompt, create a file in the /root directory.\n"
   ]
  },
  {
   "cell_type": "code",
   "execution_count": null,
   "metadata": {
    "vscode": {
     "languageId": "shellscript"
    }
   },
   "outputs": [],
   "source": [
    "kubectl exec hostpath-pod -- /bin/sh -c \"touch /root/file2; ls -l /root\""
   ]
  },
  {
   "cell_type": "markdown",
   "metadata": {},
   "source": [
    "---"
   ]
  },
  {
   "cell_type": "markdown",
   "metadata": {},
   "source": [
    "Answer the following question:\n",
    "\n",
    "Do you see the file that you created in the `hostpath-pod` on the local worker node /hostVol dir?\n"
   ]
  },
  {
   "cell_type": "code",
   "execution_count": null,
   "metadata": {
    "vscode": {
     "languageId": "shellscript"
    }
   },
   "outputs": [],
   "source": [
    "ssh root@$pod ls -l /hostVol"
   ]
  },
  {
   "cell_type": "markdown",
   "metadata": {},
   "source": [
    "---"
   ]
  },
  {
   "cell_type": "markdown",
   "metadata": {},
   "source": [
    "Answer the following question:\n",
    "\n",
    "What happens to file access if the pod is destroyed and re-created on the other worker node?\n"
   ]
  },
  {
   "cell_type": "markdown",
   "metadata": {},
   "source": [
    "---"
   ]
  },
  {
   "cell_type": "markdown",
   "metadata": {},
   "source": [
    "Delete the pod:\n",
    "\n"
   ]
  },
  {
   "cell_type": "code",
   "execution_count": null,
   "metadata": {
    "vscode": {
     "languageId": "shellscript"
    }
   },
   "outputs": [],
   "source": [
    "kubectl delete pod hostpath-pod\n"
   ]
  },
  {
   "cell_type": "markdown",
   "metadata": {},
   "source": [
    "---"
   ]
  },
  {
   "cell_type": "markdown",
   "metadata": {},
   "source": [
    "Copy the completed YAML file and rename the copy as `exercise1Task2-2.yaml`\n"
   ]
  },
  {
   "cell_type": "code",
   "execution_count": null,
   "metadata": {
    "vscode": {
     "languageId": "shellscript"
    }
   },
   "outputs": [],
   "source": [
    "cp ./exercise1Task2-1mod.yaml ./exercise1Task2-2.yaml"
   ]
  },
  {
   "cell_type": "markdown",
   "metadata": {},
   "source": [
    "---"
   ]
  },
  {
   "cell_type": "markdown",
   "metadata": {},
   "source": [
    "Change the following in the [exercise1Task2-2.yaml](./exercise1Task2-2.yaml) file and then save the file.\n",
    "\n",
    "```yaml\n",
    "Pod name: hostpath2-pod\n",
    "hostPath:\n",
    "  path: /hostVol2\n",
    "  type: DirectoryOrCreate\n"
   ]
  },
  {
   "cell_type": "markdown",
   "metadata": {},
   "source": [
    "---"
   ]
  },
  {
   "cell_type": "markdown",
   "metadata": {},
   "source": [
    "Create an instance of the ``exercise1Task2-2.yaml` file:\n",
    "\n",
    "\n"
   ]
  },
  {
   "cell_type": "code",
   "execution_count": null,
   "metadata": {
    "vscode": {
     "languageId": "shellscript"
    }
   },
   "outputs": [],
   "source": [
    "kubectl create -f exercise1Task2-2.yaml\n"
   ]
  },
  {
   "cell_type": "markdown",
   "metadata": {},
   "source": [
    "---"
   ]
  },
  {
   "cell_type": "markdown",
   "metadata": {},
   "source": [
    "Describe the pod again, and review the events:\n",
    "\n"
   ]
  },
  {
   "cell_type": "code",
   "execution_count": null,
   "metadata": {
    "vscode": {
     "languageId": "shellscript"
    }
   },
   "outputs": [],
   "source": [
    "kubectl describe pod hostpath2-pod\n"
   ]
  },
  {
   "cell_type": "markdown",
   "metadata": {},
   "source": [
    "---"
   ]
  },
  {
   "cell_type": "markdown",
   "metadata": {},
   "source": [
    "Answer the following question:\n",
    "\n",
    "Is the pod running?\n"
   ]
  },
  {
   "cell_type": "code",
   "execution_count": null,
   "metadata": {
    "vscode": {
     "languageId": "shellscript"
    }
   },
   "outputs": [],
   "source": [
    "kubectl get pod hostpath2-pod -o wide"
   ]
  },
  {
   "cell_type": "markdown",
   "metadata": {},
   "source": [
    "---"
   ]
  },
  {
   "cell_type": "markdown",
   "metadata": {},
   "source": [
    "Notice that the /hostVol2 was created on the appropriate worker node.\n"
   ]
  },
  {
   "cell_type": "code",
   "execution_count": null,
   "metadata": {
    "vscode": {
     "languageId": "shellscript"
    }
   },
   "outputs": [],
   "source": [
    "pod2=$(kubectl get pod hostpath2-pod -o wide|awk 'NR==2{print $7}'); ssh root@$pod2 \"ls -ld /host*\""
   ]
  },
  {
   "cell_type": "markdown",
   "metadata": {},
   "source": [
    "---"
   ]
  },
  {
   "cell_type": "markdown",
   "metadata": {},
   "source": [
    "Connect to the pod and \n",
    "\n",
    "From the container’s prompt, list the directory of the /root directory."
   ]
  },
  {
   "cell_type": "code",
   "execution_count": null,
   "metadata": {
    "vscode": {
     "languageId": "shellscript"
    }
   },
   "outputs": [],
   "source": [
    "kubectl exec -it hostpath2-pod -- /bin/sh -c 'ls -l /root'\n"
   ]
  },
  {
   "cell_type": "markdown",
   "metadata": {},
   "source": [
    "---"
   ]
  },
  {
   "cell_type": "markdown",
   "metadata": {},
   "source": [
    "From the container’s prompt, create a file in the mounted path.\n"
   ]
  },
  {
   "cell_type": "code",
   "execution_count": null,
   "metadata": {
    "vscode": {
     "languageId": "shellscript"
    }
   },
   "outputs": [],
   "source": [
    "kubectl exec -it hostpath2-pod -- /bin/sh -c 'touch /root/filehostpath2; ls -l /root'\n"
   ]
  },
  {
   "cell_type": "markdown",
   "metadata": {},
   "source": [
    "---"
   ]
  },
  {
   "cell_type": "markdown",
   "metadata": {},
   "source": [
    "Delete the hostpath2-pod pod.\n"
   ]
  },
  {
   "cell_type": "code",
   "execution_count": null,
   "metadata": {
    "vscode": {
     "languageId": "shellscript"
    }
   },
   "outputs": [],
   "source": [
    "kubectl delete pod hostpath2-pod"
   ]
  },
  {
   "cell_type": "markdown",
   "metadata": {},
   "source": [
    "---"
   ]
  },
  {
   "cell_type": "markdown",
   "metadata": {},
   "source": [
    "CHALLENGE STEP: \n",
    "\n",
    "Delete and re-create the pod, \n",
    "\n",
    "see which node is selected to host the second instance of the pod, \n",
    "\n",
    "and answer the following question:\n",
    "\n",
    "What happens to the hostPath directory on the local worker node?\n"
   ]
  },
  {
   "cell_type": "markdown",
   "metadata": {},
   "source": [
    "---\n",
    "---"
   ]
  },
  {
   "cell_type": "markdown",
   "metadata": {},
   "source": [
    "#### Task 3: Deploy a pod with two containers that share storage\n",
    "\n",
    "In this task, you define a volume named shared-data. \n",
    "\n",
    "The volume’s type is emptyDir. \n",
    "\n",
    "The first container runs an NGINX server and mounts the shared volume to the directory `/usr/share/nginx/html`. \n",
    "\n",
    "The second container is based on the Debian image. \n",
    "\n",
    "The second container mounts the shared volume to the directory /pod-data, which runs a loop that writes the\n",
    "current date and time to the `index.html` file in the shared volume. \n",
    "\n",
    "The container waits 10 seconds before repeating the loop. \n",
    "\n",
    "This task uses nodeport service. \n",
    "\n",
    "For more information regarding this service type, please see Kubernetes Administration.\n"
   ]
  },
  {
   "cell_type": "markdown",
   "metadata": {},
   "source": [
    "---"
   ]
  },
  {
   "cell_type": "markdown",
   "metadata": {},
   "source": [
    "Review and update the [exercise1Task3.yaml](./exercise1Task3.yaml) file with the following definitions, \n",
    "\n",
    "and then save the file as **exercise1Task3mod.yaml**.\n",
    "\n",
    "```yaml\n",
    "\n",
    "spec.volumes\n",
    "  - name: shared-vol\n",
    "  \n",
    "Add an emptyDir volume definition.\n",
    "\n",
    "In both containers’ volumeMounts definition, use the name shared-vol.\n"
   ]
  },
  {
   "cell_type": "markdown",
   "metadata": {},
   "source": [
    "---"
   ]
  },
  {
   "cell_type": "markdown",
   "metadata": {},
   "source": [
    "You can find the solution in the subfolder.\n",
    "\n",
    "<details> <summary> Solution  </summary> \n",
    "\n",
    "[exercise1Task3.yaml](./Solutions/exercise1Task3.yaml) \n",
    "\n",
    "```yaml"
   ]
  },
  {
   "cell_type": "markdown",
   "metadata": {},
   "source": [
    "---"
   ]
  },
  {
   "cell_type": "markdown",
   "metadata": {},
   "source": [
    "Create an instance of the exercise1Task3mod.yaml file:\n"
   ]
  },
  {
   "cell_type": "code",
   "execution_count": null,
   "metadata": {
    "vscode": {
     "languageId": "shellscript"
    }
   },
   "outputs": [],
   "source": [
    "kubectl create -f exercise1Task3mod.yaml\n"
   ]
  },
  {
   "cell_type": "markdown",
   "metadata": {},
   "source": [
    "---"
   ]
  },
  {
   "cell_type": "markdown",
   "metadata": {},
   "source": [
    "Connect to the first container of the pod\n",
    "\n",
    "From the container’s prompt, \n",
    "\n",
    "verify that the index.html page is being updated every second:\n",
    "\n",
    "```bash\n",
    "# tail /usr/share/nginx/html/index.html\n",
    "\n",
    "```\n",
    "\n"
   ]
  },
  {
   "cell_type": "code",
   "execution_count": null,
   "metadata": {
    "vscode": {
     "languageId": "shellscript"
    }
   },
   "outputs": [],
   "source": [
    "kubectl exec -it two-pod -c first -- /bin/sh -c \"tail /usr/share/nginx/html/index.html \"\n"
   ]
  },
  {
   "cell_type": "markdown",
   "metadata": {},
   "source": [
    "---"
   ]
  },
  {
   "cell_type": "markdown",
   "metadata": {},
   "source": [
    "Create a service that enables a worker node to access the two-pod:\n"
   ]
  },
  {
   "cell_type": "code",
   "execution_count": null,
   "metadata": {
    "vscode": {
     "languageId": "shellscript"
    }
   },
   "outputs": [],
   "source": [
    "kubectl expose pod two-pod --type=NodePort --port=80\n"
   ]
  },
  {
   "cell_type": "markdown",
   "metadata": {},
   "source": [
    "---"
   ]
  },
  {
   "cell_type": "markdown",
   "metadata": {},
   "source": [
    "Identify the service node port:\n"
   ]
  },
  {
   "cell_type": "code",
   "execution_count": null,
   "metadata": {
    "vscode": {
     "languageId": "shellscript"
    }
   },
   "outputs": [],
   "source": [
    "kubectl describe service two-pod\n"
   ]
  },
  {
   "cell_type": "markdown",
   "metadata": {},
   "source": [
    "---"
   ]
  },
  {
   "cell_type": "markdown",
   "metadata": {},
   "source": [
    "Open a web browser to the following URL: \n",
    "\n",
    "http://[a worker node’s IP address]:3xxxx [node port from previous step].\n",
    "\n",
    "\n",
    "Sample output:\n",
    "```\n",
    "Fri Feb 25 17:05:43 UTC 2024 Hello from the second container\n",
    "Fri Feb 25 17:05:44 UTC 2024 Hello from the second container\n",
    "Fri Feb 25 17:05:45 UTC 2024 Hello from the second container\n",
    "Fri Feb 25 17:05:46 UTC 2024 Hello from the second container\n",
    "```\n"
   ]
  },
  {
   "cell_type": "code",
   "execution_count": null,
   "metadata": {
    "vscode": {
     "languageId": "shellscript"
    }
   },
   "outputs": [],
   "source": [
    "nodeport=$(kubectl describe service two-pod|grep -oP 'NodePort:\\s+<unset>\\s+\\K\\d+')\n",
    "\n",
    "echo \"http://kubwor1-1:$nodeport\""
   ]
  },
  {
   "cell_type": "markdown",
   "metadata": {},
   "source": [
    "---"
   ]
  },
  {
   "cell_type": "markdown",
   "metadata": {},
   "source": [
    "\n",
    "Delete the pod named two-pod and remove the service. \n",
    "\n",
    "HINT: To remove a service, use\n",
    "\n",
    "`kubectl delete service [name of service]`.\n"
   ]
  },
  {
   "cell_type": "code",
   "execution_count": null,
   "metadata": {
    "vscode": {
     "languageId": "shellscript"
    }
   },
   "outputs": [],
   "source": [
    "kubectl delete service two-pod"
   ]
  },
  {
   "cell_type": "code",
   "execution_count": null,
   "metadata": {
    "vscode": {
     "languageId": "shellscript"
    }
   },
   "outputs": [],
   "source": [
    "kubectl delete pod two-pod"
   ]
  },
  {
   "cell_type": "markdown",
   "metadata": {},
   "source": [
    "#### Task 4: Configure an NFS server by using NetApp ONTAP software\n",
    "\n",
    "In this task, you configure a storage VM (storage virtual machine, also known as SVM) for NFS protocols. \n",
    "\n",
    "[Method 1](#method1) \n",
    "\n",
    "You use an open-source tool called `gateway`  to create this SVM. \n",
    "\n",
    "**OR**\n",
    "\n",
    "[Method 2](#method2)\n",
    "\n",
    "[Method 2](#section2)\n",
    "\n"
   ]
  },
  {
   "cell_type": "markdown",
   "metadata": {},
   "source": [
    "---"
   ]
  },
  {
   "cell_type": "markdown",
   "metadata": {},
   "source": [
    "#<a id=\"section1\"></a>"
   ]
  },
  {
   "cell_type": "markdown",
   "metadata": {},
   "source": [
    "<a id=\"method1\"></a>"
   ]
  },
  {
   "cell_type": "markdown",
   "metadata": {},
   "source": [
    "##### Method 1\n",
    "\n",
    "Review and execute the [exercise1Task4-1.yaml](./exercise1Task4-1.yaml) file to create the gateway operator. \n",
    "\n",
    "For more information, on the non-NetApp supported community project, see this:\n",
    "\n",
    "https://github.com/NetApp-Learning-Services/gateway.\n"
   ]
  },
  {
   "cell_type": "code",
   "execution_count": null,
   "metadata": {
    "vscode": {
     "languageId": "shellscript"
    }
   },
   "outputs": [],
   "source": [
    "kubectl create -f exercise1Task4-1.yaml"
   ]
  },
  {
   "cell_type": "markdown",
   "metadata": {},
   "source": [
    "\n",
    "\n",
    "- Verify that you created the gateway-system namespace and that the operator pod is running in that namespace.\n"
   ]
  },
  {
   "cell_type": "markdown",
   "metadata": {},
   "source": [
    "\n",
    "- Review and execute the [exercise1Task4-2.yaml](./exercise1Task4-2.yaml) file to create an SVM called svm0 with the defined protocol in ONTAP Cluster 1.\n",
    "\n"
   ]
  },
  {
   "cell_type": "code",
   "execution_count": null,
   "metadata": {
    "vscode": {
     "languageId": "shellscript"
    }
   },
   "outputs": [],
   "source": [
    "kubectl create -f exercise1Task4-2.yaml"
   ]
  },
  {
   "cell_type": "markdown",
   "metadata": {},
   "source": [
    "\n",
    "CHALLENGE STEP: Review the logs of the manager container for the gateway-manager deployment’s pod to see the gateway operator in action:\n",
    "\n",
    "`kubectl -n gateway-system logs gateway-operator-[unique id] -c manager`"
   ]
  },
  {
   "cell_type": "code",
   "execution_count": null,
   "metadata": {
    "vscode": {
     "languageId": "shellscript"
    }
   },
   "outputs": [],
   "source": [
    "go=$(kubectl -n gateway-system get pods| grep gateway-operator | awk '{print $1}')\n",
    "kubectl -n gateway-system logs $go -c manager\n"
   ]
  },
  {
   "cell_type": "markdown",
   "metadata": {},
   "source": [
    "---"
   ]
  },
  {
   "cell_type": "markdown",
   "metadata": {},
   "source": [
    "Open a browser and go to https://192.168.0.101/\n",
    "\n",
    "(which is your Cluster1 management LIF’s address).\n",
    "\n",
    "NOTE: You might need to approve the security warning.\n"
   ]
  },
  {
   "cell_type": "markdown",
   "metadata": {},
   "source": [
    "---"
   ]
  },
  {
   "cell_type": "markdown",
   "metadata": {},
   "source": [
    "For now, use the standard System Manager. Click the link: Not now. \n",
    "\n",
    "Sign in to System Manager. \n",
    "\n",
    "Skip this step if you already have selected System Manager instead of using NetApp BlueXP.\n"
   ]
  },
  {
   "cell_type": "markdown",
   "metadata": {},
   "source": [
    "---"
   ]
  },
  {
   "cell_type": "markdown",
   "metadata": {},
   "source": [
    "Authenticate with your ONTAP cluster by providing the following credentials:\n",
    "  - Login as: admin\n",
    "  - Password: Netapp1!\n"
   ]
  },
  {
   "cell_type": "markdown",
   "metadata": {},
   "source": [
    "---"
   ]
  },
  {
   "cell_type": "markdown",
   "metadata": {},
   "source": [
    "Click Sign In."
   ]
  },
  {
   "cell_type": "markdown",
   "metadata": {},
   "source": [
    "---"
   ]
  },
  {
   "cell_type": "markdown",
   "metadata": {},
   "source": [
    "From the left pane, navigate to Storage > Storage VMs.\n"
   ]
  },
  {
   "cell_type": "markdown",
   "metadata": {},
   "source": [
    "---"
   ]
  },
  {
   "cell_type": "markdown",
   "metadata": {},
   "source": [
    "Review the settings of svm0 and verify that NFS is configured. \n",
    "\n",
    "Also verify that the Cluster1_01_FC_1 is an available local tier for this SVM by clicking Edit on the SVM.\n"
   ]
  },
  {
   "cell_type": "markdown",
   "metadata": {},
   "source": [
    "---\n",
    "---"
   ]
  },
  {
   "cell_type": "markdown",
   "metadata": {},
   "source": [
    "Remember: Skip the following steps if you already executed Method 1.\n",
    "\n",
    "[Jump Ahead](#svmcreated) to `SVM Created`"
   ]
  },
  {
   "cell_type": "markdown",
   "metadata": {},
   "source": [
    "##<a id=\"method2\"></a>"
   ]
  },
  {
   "cell_type": "markdown",
   "metadata": {},
   "source": [
    "##### Method 2\n",
    "\n",
    "Manually create the SVM svm0 using System Manager\n",
    "\n",
    "---\n",
    "\n",
    "Authenticate with your ONTAP cluster (https://192.168.0.101) by providing the following credentials:\n",
    "  - Login as: admin\n",
    "  - Password: Netapp1!\n",
    "\n",
    "---\n",
    "\n",
    "Click Sign In.\n",
    "\n",
    "---\n",
    "\n",
    "From the left pane, navigate to Storage > Storage VMs.\n",
    "\n",
    "---\n",
    "\n",
    "Click Add to start the wizard to create an SVM.\n",
    "\n",
    "---\n",
    "\n",
    "Enter the following information:\n",
    "  - Storage VM name: svm0\n",
    "  - Select the tab SMB/CIFS, NFS, S3.\n",
    "  - Access protocol: Select Enable NFS.\n",
    "  - Enable NFS client access: Selected\n",
    "  \n",
    "  - Rule: Add a rule:\n",
    "    - Client specification: 0.0.0.0/0\n",
    "    - Protocols: NFS (both v3 and v4)\n",
    "    - Read-only: All selected\n",
    "    - Read/write: All selected\n",
    "    - Superuser: All selected\n",
    "    - Click Save.\n",
    "  \n",
    "  - Under Network Interface:\n",
    "    - IP address: 192.168.0.31\n",
    "    - Subnet mask: 255.255.255.0\n",
    "    - Broadcast domain: Default\n",
    "\n",
    "---\n",
    "\n",
    "Continue by entering the following information:\n",
    "\n",
    "Manage administrator account: Selected\n",
    "  - User name: vsadmin\n",
    "  - Password: Netapp1!\n",
    "  - Verify password: Netapp1!\n",
    "  - Select Add a network interface for storage VM management\n",
    "    - IP address: 192.168.0.30\n",
    "    - Subnet mask: 24\n",
    "    - Broadcast domain: Default\n",
    "\n",
    "---\n",
    "\n",
    "At the bottom of the dialog box, click Save.\n",
    "You should see svm0 in the list of SVMs.\n",
    "\n",
    "---\n",
    "\n",
    "Click the newly created svm0 link.\n",
    "\n",
    "You should see the Overview page of svm0.\n",
    "\n",
    "---\n",
    "\n",
    "Click the Edit button in the upper-right corner of the Overview page.\n",
    "\n",
    "---\n",
    "\n",
    "Select the “Resource Allocation” checkbox to limit volume creation to preferred local tiers, and make sure that Cluster1_01_FC_1 is selected in the list of local tiers.\n",
    "\n",
    "---\n",
    "\n",
    "Click Save.\n",
    "\n",
    "---\n"
   ]
  },
  {
   "cell_type": "markdown",
   "metadata": {},
   "source": [
    "<a id=\"svmcreated\"></a>\n"
   ]
  },
  {
   "cell_type": "markdown",
   "metadata": {},
   "source": [
    "\n",
    "##### SVM Created\n",
    "This is the end of the SVM creation steps. \n",
    "\n",
    "You should now have a svm0 in cluster1. \n",
    "\n",
    "You will now continue along with the setting up the NFS share.\n",
    "\n",
    "\n",
    "---\n",
    "---\n"
   ]
  },
  {
   "cell_type": "markdown",
   "metadata": {},
   "source": [
    "\n",
    "\n",
    "In ONTAP System Manager, navigate to Storage > Volumes.\n"
   ]
  },
  {
   "cell_type": "markdown",
   "metadata": {},
   "source": [
    "---"
   ]
  },
  {
   "cell_type": "markdown",
   "metadata": {},
   "source": [
    "Click Add to create a volume.\n"
   ]
  },
  {
   "cell_type": "markdown",
   "metadata": {},
   "source": [
    "---"
   ]
  },
  {
   "cell_type": "markdown",
   "metadata": {},
   "source": [
    "Add the following details:\n",
    " - Name: nfs\n",
    " - Size: 1GiB\n",
    " \n",
    "Click the More button.\n",
    "  \n",
    "  Ensure that the “Export via NFS” checkbox is selected.\n",
    "  \n",
    "  Ensure that the default rule has all NFS protocols selected with   the clients of 0.0.0.0/0.\n"
   ]
  },
  {
   "cell_type": "markdown",
   "metadata": {},
   "source": [
    "---"
   ]
  },
  {
   "cell_type": "markdown",
   "metadata": {},
   "source": [
    "Click Save to create the volume.\n"
   ]
  },
  {
   "cell_type": "markdown",
   "metadata": {},
   "source": [
    "---"
   ]
  },
  {
   "cell_type": "markdown",
   "metadata": {},
   "source": [
    "From the list of volumes, identify and select the link for the new nfs volume.\n"
   ]
  },
  {
   "cell_type": "markdown",
   "metadata": {},
   "source": [
    "---"
   ]
  },
  {
   "cell_type": "markdown",
   "metadata": {},
   "source": [
    "On the nfs volume's Overview page, click the Edit button in the upper-right corner.\n"
   ]
  },
  {
   "cell_type": "markdown",
   "metadata": {},
   "source": [
    "---"
   ]
  },
  {
   "cell_type": "markdown",
   "metadata": {},
   "source": [
    "In the details of the volume, perform the following:\n",
    " - Ensure that the security type is UNIX.\n",
    " - Under UNIX Permissions, select Read, Write, and Execute so that all checkboxes are\n",
    "selected."
   ]
  },
  {
   "cell_type": "markdown",
   "metadata": {},
   "source": [
    "---"
   ]
  },
  {
   "cell_type": "markdown",
   "metadata": {},
   "source": [
    "Click Save to complete the volume’s edit.\n"
   ]
  },
  {
   "cell_type": "markdown",
   "metadata": {},
   "source": [
    "---\n",
    "---"
   ]
  },
  {
   "cell_type": "markdown",
   "metadata": {},
   "source": [
    "#### Task 5: Set up an NFS volume\n",
    "\n",
    "In this task, you create a pod that directly connects to the NFS export that you created in [Task 4](#task-4-configure-an-nfs-server-by-using-netapp-ontap-software) of this exercise. \n",
    "\n",
    "---\n",
    "---\n",
    "\n",
    "NOTE: Every node in the Kubernetes cluster needs to have the `nfs-common` package\n",
    "installed to appropriately mount an NFS export for a container.\n",
    "\n",
    "---"
   ]
  },
  {
   "cell_type": "markdown",
   "metadata": {},
   "source": [
    "Review and update the [exercise1Task5.yaml](./exercise1Task5.yaml) file with the following definitions, and then\n",
    "save the file as `exercise1Task5mod.yaml`.\n",
    "\n",
    "```\n",
    "spec.volumes[0].name: nfsvol\n",
    "spec.volumes[0].nfs.server: 192.168.0.31\n",
    "spec.volumes[0].nfs.path: /nfs\n",
    "spec.volumes[0].nfs.readOnly: false\n",
    "```\n",
    "\n",
    "---\n",
    "You can find the solution in the subfolder.\n",
    "\n",
    "<details> <summary> Solution  </summary> \n",
    "\n",
    "[exercise1Task5.yaml](./Solutions/exercise1Task5.yaml)\n",
    "  ```yaml"
   ]
  },
  {
   "cell_type": "markdown",
   "metadata": {},
   "source": [
    "---"
   ]
  },
  {
   "cell_type": "markdown",
   "metadata": {},
   "source": [
    "Create an instance of the `exercise1Task5mod.yaml` file:\n"
   ]
  },
  {
   "cell_type": "code",
   "execution_count": null,
   "metadata": {
    "vscode": {
     "languageId": "shellscript"
    }
   },
   "outputs": [],
   "source": [
    "kubectl create -f exercise1Task5mod.yaml\n"
   ]
  },
  {
   "cell_type": "markdown",
   "metadata": {},
   "source": [
    "---"
   ]
  },
  {
   "cell_type": "markdown",
   "metadata": {},
   "source": [
    "Connect to the alpine pod that you created:\n",
    "\n",
    "`kubectl exec direct-nfs-pod -it -- /bin/sh`\n"
   ]
  },
  {
   "cell_type": "code",
   "execution_count": null,
   "metadata": {
    "vscode": {
     "languageId": "shellscript"
    }
   },
   "outputs": [],
   "source": [
    "\n",
    "kubectl exec direct-nfs-pod -it -- /bin/sh\n"
   ]
  },
  {
   "cell_type": "markdown",
   "metadata": {},
   "source": [
    "In a terminal window (```CTRL+` ```), you connect to the container and execute the commands. You can copy and paste the commands below in the terminal"
   ]
  },
  {
   "cell_type": "raw",
   "metadata": {
    "vscode": {
     "languageId": "raw"
    }
   },
   "source": [
    "kubectl exec direct-nfs-pod -it -- /bin/sh\n",
    "cd /opt/this\n",
    "echo \"<html><body>hello</body></html>\" > index.html\n",
    "ls\n",
    "cat index.html\n"
   ]
  },
  {
   "cell_type": "markdown",
   "metadata": {},
   "source": [
    "---"
   ]
  },
  {
   "cell_type": "markdown",
   "metadata": {},
   "source": [
    "From the container’s prompt, change the directory to volume mount:\n",
    "```bash\n",
    "# cd /opt/this\n",
    "```"
   ]
  },
  {
   "cell_type": "markdown",
   "metadata": {},
   "source": [
    "---"
   ]
  },
  {
   "cell_type": "markdown",
   "metadata": {},
   "source": [
    "From the container’s prompt, create a file and perform other operations at this location to\n",
    "demonstrate that you have read/write permission:\n",
    "\n",
    "```bash\n",
    "# echo \"<html><body>hello</body></html>\" > index.html\n",
    "# ls\n",
    "# cat index.html\n",
    "```"
   ]
  },
  {
   "cell_type": "markdown",
   "metadata": {},
   "source": [
    "---"
   ]
  },
  {
   "cell_type": "markdown",
   "metadata": {},
   "source": [
    "Use Ctrl-D to exit the container’s prompt.\n"
   ]
  },
  {
   "cell_type": "markdown",
   "metadata": {},
   "source": [
    "---"
   ]
  },
  {
   "cell_type": "raw",
   "metadata": {
    "vscode": {
     "languageId": "raw"
    }
   },
   "source": [
    "kubectl exec direct-nfs-pod -- /bin/sh -c \"/bin/echo '<html><body>hello</body></html>' > /opt/this/index2.html\"\n"
   ]
  },
  {
   "cell_type": "raw",
   "metadata": {
    "vscode": {
     "languageId": "raw"
    }
   },
   "source": [
    "kubectl exec direct-nfs-pod -- /bin/sh -c \"ls /opt/this\"\n"
   ]
  },
  {
   "cell_type": "code",
   "execution_count": null,
   "metadata": {
    "vscode": {
     "languageId": "shellscript"
    }
   },
   "outputs": [],
   "source": [
    "kubectl exec  direct-nfs-pod -- /bin/sh -c \"echo '<html><body>hello direct-nfs-pod </body></html>' > /opt/this/index.html; ls /opt/this/; cat /opt/this/index.html\""
   ]
  },
  {
   "cell_type": "markdown",
   "metadata": {},
   "source": [
    "Delete the pod:\n"
   ]
  },
  {
   "cell_type": "code",
   "execution_count": null,
   "metadata": {
    "vscode": {
     "languageId": "shellscript"
    }
   },
   "outputs": [],
   "source": [
    "kubectl delete pod direct-nfs-pod\n"
   ]
  },
  {
   "cell_type": "markdown",
   "metadata": {},
   "source": [
    "---"
   ]
  },
  {
   "cell_type": "markdown",
   "metadata": {},
   "source": [
    "In the ONTAP System Manager, under the **nfs volume** page, you can \n",
    "\n",
    "select the **Explorer** tab under the **File System** tab \n",
    "\n",
    "to view the folders and files that you created in the pod. \n",
    "\n",
    "The data is persisted in the ONTAP cluster.\n"
   ]
  },
  {
   "cell_type": "markdown",
   "metadata": {},
   "source": [
    "---\n",
    "---"
   ]
  },
  {
   "cell_type": "markdown",
   "metadata": {},
   "source": [
    "#### Task 6: Configure a PV and a PVC\n",
    "\n",
    "In this task, you create a PV that is manually attached to the NFS export that you created in Task 4.\n",
    "\n",
    "Then, you bind that PV to a PVC. \n",
    "\n",
    "Finally, you use the PVC in a pod so that the pod’s container can access the NFS export. \n",
    "\n",
    "Later, you use NetApp Astra Trident to automate this process of creating PVs.\n"
   ]
  },
  {
   "cell_type": "markdown",
   "metadata": {},
   "source": [
    "---"
   ]
  },
  {
   "cell_type": "markdown",
   "metadata": {},
   "source": [
    "Review and update the [exercise1Task6-1.yaml](./exercise1Task6-1.yaml) file with the following PV specification\n",
    "definitions, and then save the file as `exercise1Task6-1mod.yaml`.\n",
    "\n",
    "Add an nfs definition with the following values:\n",
    "\n",
    "```\n",
    "nfs.server: 192.168.0.31\n",
    "nfs.path: /nfs\n",
    "nfs.readOnly: false\n",
    "```\n",
    "\n",
    "You can find the solution in the subfolder.\n",
    "\n",
    "<details> <summary> Solution</summary>\n",
    "\n",
    "[exercise1Task6-1.yaml](./Solution/exercise1Task6-1.yaml)\n",
    "  ```yaml\n",
    "\n",
    "apiVersion: v1\n",
    "kind: PersistentVolume\n",
    "metadata:\n",
    "  name: manual-nfs-pv\n",
    "  labels:\n",
    "    storage.k8s.io/name: nfs\n",
    "spec:\n",
    "  accessModes:\n",
    "    - ReadWriteOnce\n",
    "    - ReadOnlyMany\n",
    "    - ReadWriteMany\n",
    "  capacity:\n",
    "    storage: 1Gi\n",
    "  storageClassName: \"\"\n",
    "  persistentVolumeReclaimPolicy: Recycle\n",
    "  volumeMode: Filesystem\n",
    "  nfs:\n",
    "    server: 192.168.0.31\n",
    "    path: /nfs\n",
    "    readOnly: false\n",
    "    "
   ]
  },
  {
   "cell_type": "markdown",
   "metadata": {},
   "source": [
    "---"
   ]
  },
  {
   "cell_type": "markdown",
   "metadata": {},
   "source": [
    "Create an instance of the PV in the `exercise1Task6-1mod.yaml` file:\n"
   ]
  },
  {
   "cell_type": "code",
   "execution_count": null,
   "metadata": {
    "vscode": {
     "languageId": "shellscript"
    }
   },
   "outputs": [],
   "source": [
    "kubectl create -f exercise1Task6-1mod.yaml\n"
   ]
  },
  {
   "cell_type": "markdown",
   "metadata": {},
   "source": [
    "---"
   ]
  },
  {
   "cell_type": "markdown",
   "metadata": {},
   "source": [
    "Verify that you created the manual-nfs-pv PV:\n"
   ]
  },
  {
   "cell_type": "code",
   "execution_count": null,
   "metadata": {
    "vscode": {
     "languageId": "shellscript"
    }
   },
   "outputs": [],
   "source": [
    "kubectl get pv\n"
   ]
  },
  {
   "cell_type": "markdown",
   "metadata": {},
   "source": [
    "---"
   ]
  },
  {
   "cell_type": "markdown",
   "metadata": {},
   "source": [
    "Describe the manual-nfs-pv PV:\n"
   ]
  },
  {
   "cell_type": "code",
   "execution_count": null,
   "metadata": {
    "vscode": {
     "languageId": "shellscript"
    }
   },
   "outputs": [],
   "source": [
    "kubectl describe pv manual-nfs-pv\n"
   ]
  },
  {
   "cell_type": "markdown",
   "metadata": {},
   "source": [
    "---"
   ]
  },
  {
   "cell_type": "markdown",
   "metadata": {},
   "source": [
    "Review and update the [exercise1Task6-2.yaml](./exercise1Task6-2.yaml) file with the following PVC spec\n",
    "definitions, \n",
    "\n",
    "and then save the file as `exercise1Task6-2mod.yaml`.\n",
    "\n",
    "```\n",
    "spec.accessModes[0]: ReadWriteMany\n",
    "spec.storageClassName: '' # empty string\n",
    "spec.volumeName: [name of the PV from `exercise1Task6-2mod.yaml`]\n",
    "spec.resources.requests.storage: 1Gi\n",
    "```\n",
    "\n",
    "You can find the solution in the subfolder.\n",
    "\n",
    "<details> <summary> Solution </summary>\n",
    "\n",
    "[exercise1Task6-2.yaml](./Solutions/exercise1Task6-2.yaml)\n",
    "\n",
    "  ```yaml\n",
    "  apiVersion: v1\n",
    "kind: PersistentVolumeClaim\n",
    "metadata:\n",
    "  name: manual-nfs-pvc\n",
    "  labels:\n",
    "    storage.k8s.io/name: nfs\n",
    "spec:\n",
    "  accessModes:\n",
    "    - ReadWriteMany\n",
    "  storageClassName: ''  # empty string otherwise default storage class is used\n",
    "  volumeName: manual-nfs-pv\n",
    "  resources: \n",
    "    requests:\n",
    "      storage: 1Gi"
   ]
  },
  {
   "cell_type": "markdown",
   "metadata": {},
   "source": [
    "Create an instance of the PVC in the `exercise1Task6-2mod.yaml` file:\n"
   ]
  },
  {
   "cell_type": "code",
   "execution_count": null,
   "metadata": {
    "vscode": {
     "languageId": "shellscript"
    }
   },
   "outputs": [],
   "source": [
    "kubectl create -f exercise1Task6-2mod.yaml\n"
   ]
  },
  {
   "cell_type": "markdown",
   "metadata": {},
   "source": [
    "---"
   ]
  },
  {
   "cell_type": "markdown",
   "metadata": {},
   "source": [
    "Verify that you created the manual-nfs-pvc PVC:\n"
   ]
  },
  {
   "cell_type": "code",
   "execution_count": null,
   "metadata": {
    "vscode": {
     "languageId": "shellscript"
    }
   },
   "outputs": [],
   "source": [
    "kubectl get pvc\n"
   ]
  },
  {
   "cell_type": "markdown",
   "metadata": {},
   "source": [
    "---"
   ]
  },
  {
   "cell_type": "markdown",
   "metadata": {},
   "source": [
    "Describe the manual-nfs-pvc PVC:\n"
   ]
  },
  {
   "cell_type": "code",
   "execution_count": null,
   "metadata": {
    "vscode": {
     "languageId": "shellscript"
    }
   },
   "outputs": [],
   "source": [
    "kubectl describe pvc manual-nfs-pvc\n"
   ]
  },
  {
   "cell_type": "markdown",
   "metadata": {},
   "source": [
    "---"
   ]
  },
  {
   "cell_type": "markdown",
   "metadata": {},
   "source": [
    "Ensure that the PVC’s status is **bound**, which means that the PVC was mapped to the PV.\n"
   ]
  },
  {
   "cell_type": "markdown",
   "metadata": {},
   "source": [
    "---"
   ]
  },
  {
   "cell_type": "markdown",
   "metadata": {},
   "source": [
    "Review and update the [exercise1Task6-3.yaml](./exercise1Task6-3.yaml) file with the following Pod volumes\n",
    "definitions, \n",
    "\n",
    "and then save the file `exercise1Task6-3mod.yaml`.\n",
    "\n",
    "```\n",
    "  - name: nfs-storage\n",
    "  - persistentVolumeClaim:claimName: [name of the PVC you created in exercise1Task6-2.yaml]\n",
    "```\n",
    "\n",
    "<details> <summary>Solution  </summary>\n",
    "\n",
    "[exercise1Task6-3.yaml](./Solutions/exercise1Task6-3.yaml)\n",
    "\n",
    "```yaml\n",
    "kind: Pod\n",
    "apiVersion: v1\n",
    "metadata:\n",
    "  name: manual-nfs-pod\n",
    "  labels:\n",
    "    app: nfs-web\n",
    "spec:\n",
    "  containers:\n",
    "    - name: nfs-container\n",
    "      image: nginx:1.25-alpine-slim\n",
    "      imagePullPolicy: IfNotPresent\n",
    "      resources:\n",
    "        requests:\n",
    "          memory: \"64Mi\"\n",
    "          cpu: \"250m\"\n",
    "        limits:\n",
    "          memory: \"128Mi\"\n",
    "          cpu: \"500m\"\n",
    "      ports:\n",
    "        - containerPort: 80\n",
    "          name: \"http-server\"\n",
    "      volumeMounts:\n",
    "        - mountPath: \"/usr/share/nginx/html\"\n",
    "          name: nfs-storage\n",
    "  volumes:\n",
    "  - name: nfs-storage\n",
    "    persistentVolumeClaim:\n",
    "      claimName: manual-nfs-pvc\n",
    "      "
   ]
  },
  {
   "cell_type": "markdown",
   "metadata": {},
   "source": [
    "---"
   ]
  },
  {
   "cell_type": "markdown",
   "metadata": {},
   "source": [
    "Create an instance of the PVC in the `exercise1Task6-3mod.yaml` file:\n"
   ]
  },
  {
   "cell_type": "code",
   "execution_count": null,
   "metadata": {
    "vscode": {
     "languageId": "shellscript"
    }
   },
   "outputs": [],
   "source": [
    "kubectl create -f exercise1Task6-3mod.yaml\n"
   ]
  },
  {
   "cell_type": "markdown",
   "metadata": {},
   "source": [
    "---"
   ]
  },
  {
   "cell_type": "markdown",
   "metadata": {},
   "source": [
    "Verify that you created the manual-nfs-pod pod:\n"
   ]
  },
  {
   "cell_type": "code",
   "execution_count": null,
   "metadata": {
    "vscode": {
     "languageId": "shellscript"
    }
   },
   "outputs": [],
   "source": [
    "kubectl get pod\n"
   ]
  },
  {
   "cell_type": "markdown",
   "metadata": {},
   "source": [
    "---"
   ]
  },
  {
   "cell_type": "markdown",
   "metadata": {},
   "source": [
    "Describe the manual-nfs-pod pod:\n"
   ]
  },
  {
   "cell_type": "code",
   "execution_count": null,
   "metadata": {
    "vscode": {
     "languageId": "shellscript"
    }
   },
   "outputs": [],
   "source": [
    "kubectl describe pod manual-nfs-pod\n"
   ]
  },
  {
   "cell_type": "markdown",
   "metadata": {},
   "source": [
    "---"
   ]
  },
  {
   "cell_type": "markdown",
   "metadata": {},
   "source": [
    "Ensure that the pod is using the PV that is backed by the NFS export in svm0.\n"
   ]
  },
  {
   "cell_type": "code",
   "execution_count": null,
   "metadata": {
    "vscode": {
     "languageId": "shellscript"
    }
   },
   "outputs": [],
   "source": [
    "kubectl describe pod manual-nfs-pod | grep -A5 -i volume\n"
   ]
  },
  {
   "cell_type": "markdown",
   "metadata": {},
   "source": [
    "---"
   ]
  },
  {
   "cell_type": "markdown",
   "metadata": {},
   "source": [
    "CHALLENGE STEP: \n",
    "\n",
    "Open an shell to the manual-nfs-pod, \n",
    "\n",
    "and navigate to the mount path of the PV. \n",
    "\n",
    "Verify that the index.html file that you created in the previous \n",
    "task is available to the NGINX server.\n",
    "\n"
   ]
  },
  {
   "cell_type": "code",
   "execution_count": null,
   "metadata": {
    "vscode": {
     "languageId": "shellscript"
    }
   },
   "outputs": [],
   "source": [
    "kubectl exec  manual-nfs-pod -- /bin/sh -c \"ls /usr/share/nginx/html/; cat /usr/share/nginx/html/index.html\""
   ]
  },
  {
   "cell_type": "markdown",
   "metadata": {},
   "source": [
    "---"
   ]
  },
  {
   "cell_type": "markdown",
   "metadata": {},
   "source": [
    "CHALLENGE STEP: \n",
    "\n",
    "Create a NodePort service for the manual-nfs-pod \n",
    "\n",
    "and, in a browser, open the index.html file that you created.\n"
   ]
  },
  {
   "cell_type": "code",
   "execution_count": null,
   "metadata": {
    "vscode": {
     "languageId": "shellscript"
    }
   },
   "outputs": [],
   "source": [
    "kubectl expose pod manual-nfs-pod --type=NodePort --name=manual-nfs-service\n"
   ]
  },
  {
   "cell_type": "code",
   "execution_count": null,
   "metadata": {
    "vscode": {
     "languageId": "shellscript"
    }
   },
   "outputs": [],
   "source": [
    "kubectl describe service manual-nfs-service"
   ]
  },
  {
   "cell_type": "code",
   "execution_count": null,
   "metadata": {
    "vscode": {
     "languageId": "shellscript"
    }
   },
   "outputs": [],
   "source": [
    "nodeport=$(kubectl describe service manual-nfs-service|grep -oP 'NodePort:\\s+<unset>\\s+\\K\\d+')\n",
    "\n",
    "echo \"http://kubwor1-1:$nodeport\""
   ]
  },
  {
   "cell_type": "markdown",
   "metadata": {},
   "source": [
    "---"
   ]
  },
  {
   "cell_type": "markdown",
   "metadata": {},
   "source": [
    "Delete the manual-nfs-pod pod:\n"
   ]
  },
  {
   "cell_type": "code",
   "execution_count": null,
   "metadata": {
    "vscode": {
     "languageId": "shellscript"
    }
   },
   "outputs": [],
   "source": [
    "kubectl delete pod manual-nfs-pod\n"
   ]
  },
  {
   "cell_type": "markdown",
   "metadata": {
    "vscode": {
     "languageId": "shellscript"
    }
   },
   "source": [
    "---\n",
    "---"
   ]
  },
  {
   "cell_type": "markdown",
   "metadata": {},
   "source": [
    "End of exercise\n"
   ]
  }
 ],
 "metadata": {
  "kernelspec": {
   "display_name": "Bash",
   "language": "bash",
   "name": "bash"
  },
  "language_info": {
   "codemirror_mode": "shell",
   "file_extension": ".sh",
   "mimetype": "text/x-sh",
   "name": "bash"
  }
 },
 "nbformat": 4,
 "nbformat_minor": 2
}
